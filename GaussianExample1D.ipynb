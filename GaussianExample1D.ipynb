{
 "cells": [
  {
   "cell_type": "code",
   "execution_count": 1,
   "id": "e7051f40-1145-4fc8-901c-03b34cc8b848",
   "metadata": {},
   "outputs": [],
   "source": [
    "import numpy as np\n",
    "import matplotlib.pyplot as plt\n",
    "\n",
    "import torch\n",
    "import torch.nn as nn\n",
    "import torch.optim as optim\n",
    "from torch.utils.data import DataLoader, TensorDataset\n",
    "import torch.nn.functional as F\n",
    "\n",
    "from sklearn.model_selection import train_test_split"
   ]
  },
  {
   "cell_type": "code",
   "execution_count": 2,
   "id": "ac521bb7-c0d8-4990-853d-ddfa608b9379",
   "metadata": {},
   "outputs": [],
   "source": [
    "# Check if CUDA is available\n",
    "device = torch.device(\"cuda\" if torch.cuda.is_available() else \"cpu\")"
   ]
  },
  {
   "cell_type": "markdown",
   "id": "ad81df93-f4f6-44a2-a6bc-79e2b9e19d62",
   "metadata": {},
   "source": [
    "# Reweighting a Gaussian Distribution"
   ]
  },
  {
   "cell_type": "markdown",
   "id": "fbf138d3-7006-4900-a836-1930e2d463bd",
   "metadata": {},
   "source": [
    "## Step 1"
   ]
  },
  {
   "cell_type": "markdown",
   "id": "a6c68db2-0f72-47ff-9703-451b83547c5e",
   "metadata": {},
   "source": [
    "Suppose we have two Gaussian distributions, $\\mathcal{N}_{0}(\\mu_{0}, \\sigma)$ and $\\mathcal{N}_{1}(\\mu_{1}, \\sigma)$. Our goal is to transform $\\mathcal{N}_{0}$ into $\\mathcal{N}_{1}$. We attempt to calculate weights using a neural network $f(x)$ that has been trained to classify between $x_{0} \\in \\mathcal{N}_{0}(\\mu_{0}, \\sigma)$ and assign it the label 0, and $x_{1} \\in \\mathcal{N}_{1}(\\mu_{1}, \\sigma)$ and assign it the label 1.\n",
    "\n",
    "Then the weights are calculated as;\n",
    "\n",
    "\n",
    "$$\n",
    "w = \\frac{f(x)}{1 - f(x)}\n",
    "$$"
   ]
  },
  {
   "cell_type": "markdown",
   "id": "73794dce-df77-4f54-bfa0-939dfad0aa3c",
   "metadata": {},
   "source": [
    "Let's define a neural network with 2 hidden layers, each consisting of 20 nodes. All the hidden layers will be activated using the `ReLU` activation function, and the final output layer will be activated using the `Sigmoid` activation function."
   ]
  },
  {
   "cell_type": "code",
   "execution_count": 3,
   "id": "321557e1-3f01-4423-ae60-df9089858e80",
   "metadata": {},
   "outputs": [],
   "source": [
    "class GaussClassifier(nn.Module):\n",
    "    def __init__(self, input_dim: int = 1, output_dim: int = 1, hidden_dim: int = 20):\n",
    "        super(GaussClassifier, self).__init__()\n",
    "        self.fc1 = nn.Linear(input_dim, hidden_dim, bias=True)\n",
    "        self.fc2 = nn.Linear(hidden_dim, hidden_dim, bias=True)\n",
    "        self.fc3 = nn.Linear(hidden_dim, hidden_dim, bias=True)\n",
    "        self.fc4 = nn.Linear(hidden_dim, output_dim, bias=True)\n",
    "        self.relu = nn.ReLU()\n",
    "        self.sigmoid = nn.Sigmoid()\n",
    "\n",
    "    def forward(self, x):\n",
    "        x = self.relu(self.fc1(x))\n",
    "        x = self.relu(self.fc2(x))\n",
    "        x = self.relu(self.fc3(x))\n",
    "        x = self.sigmoid(self.fc4(x))\n",
    "        return x"
   ]
  },
  {
   "cell_type": "markdown",
   "id": "ddd79b84-ab4a-4bf4-809b-93826e58f9a1",
   "metadata": {},
   "source": [
    "Let's create some data samples. Here $x_{0} \\in \\mathcal{N}_{0}(0, 1)$ and $x_{1} \\in \\mathcal{N}_{1}(1, 1)$."
   ]
  },
  {
   "cell_type": "code",
   "execution_count": 4,
   "id": "91f094da-822a-4b56-b0ec-335bb5f744ab",
   "metadata": {},
   "outputs": [],
   "source": [
    "n_data_points = 10**5\n",
    "\n",
    "batch_size = 1000\n",
    "\n",
    "mu_0 = 0.\n",
    "mu_1 = 1.\n",
    "sigma_0 = 1.\n",
    "sigma_1 = 1."
   ]
  },
  {
   "cell_type": "code",
   "execution_count": 5,
   "id": "e71e04de-c79a-4e35-9cba-4234012c1bb7",
   "metadata": {},
   "outputs": [],
   "source": [
    "X0 = np.random.normal(mu_0, sigma_0, n_data_points)\n",
    "X1 = np.random.normal(mu_1, sigma_1, n_data_points)\n",
    "\n",
    "Y0 = np.zeros(n_data_points)\n",
    "Y1 = np.ones(n_data_points)\n",
    "\n",
    "X = np.concatenate((X0, X1)).reshape(-1, 1)\n",
    "Y = np.concatenate((Y0, Y1)).reshape(-1, 1)\n",
    "\n",
    "X_train, X_test, Y_train, Y_test = train_test_split(X, Y, test_size=0.4, shuffle=True)"
   ]
  },
  {
   "cell_type": "code",
   "execution_count": 6,
   "id": "9ce6d76c-45f6-4b68-a764-701214669b56",
   "metadata": {},
   "outputs": [],
   "source": [
    "# Convert data to PyTorch tensors\n",
    "X_train_tensor = torch.from_numpy(X_train).float()\n",
    "Y_train_tensor = torch.from_numpy(Y_train).float()\n",
    "\n",
    "X_test_tensor = torch.from_numpy(X_test).float()\n",
    "Y_test_tensor = torch.from_numpy(Y_test).float()\n",
    "\n",
    "\n",
    "# Create PyTorch datasets and dataloaders\n",
    "train_dataset = TensorDataset(X_train_tensor, Y_train_tensor)\n",
    "test_dataset = TensorDataset(X_test_tensor, Y_test_tensor)\n",
    "\n",
    "train_loader = DataLoader(train_dataset, batch_size=batch_size, shuffle=True)\n",
    "test_loader = DataLoader(test_dataset, batch_size=batch_size, shuffle=False)"
   ]
  },
  {
   "cell_type": "code",
   "execution_count": 7,
   "id": "5300c161-ee36-40a2-92df-aa4fcd14caea",
   "metadata": {},
   "outputs": [],
   "source": [
    "# Create the model\n",
    "model = GaussClassifier(hidden_dim = 20)"
   ]
  },
  {
   "cell_type": "markdown",
   "id": "c7b6a3d5-307d-434f-ae15-fb6126cddb50",
   "metadata": {},
   "source": [
    "Let's use the `BCELoss` function to calculate the loss and the `Adam` optimizer for backpropagation."
   ]
  },
  {
   "cell_type": "code",
   "execution_count": 8,
   "id": "f7a61ee8-ea8e-4db6-a285-abf5b37160c3",
   "metadata": {},
   "outputs": [],
   "source": [
    "criterion = nn.BCELoss()\n",
    "optimizer = optim.Adam(model.parameters(), lr=0.0001)"
   ]
  },
  {
   "cell_type": "code",
   "execution_count": 9,
   "id": "ce368b85-c861-4338-b409-afeefa6ef3a7",
   "metadata": {},
   "outputs": [],
   "source": [
    "# Move the model to GPU if available\n",
    "model = model.to(device=device)"
   ]
  },
  {
   "cell_type": "code",
   "execution_count": 10,
   "id": "64b14f6c-0fbf-4c04-b81f-a300a88add38",
   "metadata": {},
   "outputs": [
    {
     "name": "stdout",
     "output_type": "stream",
     "text": [
      "using device : cpu\n",
      "GaussClassifier(\n",
      "  (fc1): Linear(in_features=1, out_features=20, bias=True)\n",
      "  (fc2): Linear(in_features=20, out_features=20, bias=True)\n",
      "  (fc3): Linear(in_features=20, out_features=20, bias=True)\n",
      "  (fc4): Linear(in_features=20, out_features=1, bias=True)\n",
      "  (relu): ReLU()\n",
      "  (sigmoid): Sigmoid()\n",
      ")\n",
      "total trainable params: 901\n"
     ]
    }
   ],
   "source": [
    "# Model summary\n",
    "print(\"using device : {}\".format(device))\n",
    "total_trainable_params = sum(p.numel() for p in model.parameters() if p.requires_grad)\n",
    "print(model)\n",
    "print('total trainable params: {}'.format(total_trainable_params))"
   ]
  },
  {
   "cell_type": "markdown",
   "id": "cd84002f-a20c-43c8-92b1-19215db1cdd3",
   "metadata": {},
   "source": [
    "Let's define the training step and reweighting functions. Additionally, we will utilize early stopping to reduce the risk of overfitting."
   ]
  },
  {
   "cell_type": "code",
   "execution_count": 11,
   "id": "1bd337f1-6aca-497c-9088-8aa2d93a0572",
   "metadata": {},
   "outputs": [],
   "source": [
    "def train_model(model, train_loader, test_loader, criterion, optimizer, device, epochs, early_stopping_patience):\n",
    "    best_loss = float('inf')\n",
    "    best_model_weights = None\n",
    "    patience_counter = 0\n",
    "\n",
    "    for epoch in range(epochs):\n",
    "        model.train()\n",
    "        running_loss = 0.0\n",
    "        for batch_inputs, batch_labels in train_loader:\n",
    "            batch_inputs = batch_inputs.to(device)\n",
    "            batch_labels = batch_labels.to(device)\n",
    "\n",
    "            optimizer.zero_grad()\n",
    "            outputs = model(batch_inputs)\n",
    "            loss = criterion(outputs, batch_labels)\n",
    "\n",
    "            loss.backward()\n",
    "            optimizer.step()\n",
    "            running_loss += loss.item() * batch_inputs.size(0)\n",
    "\n",
    "        epoch_loss = running_loss / len(train_loader.dataset)\n",
    "\n",
    "        # Evaluation\n",
    "        model.eval()\n",
    "        with torch.no_grad():\n",
    "            running_loss = 0.0\n",
    "            for batch_inputs, batch_labels in test_loader:\n",
    "                batch_inputs = batch_inputs.to(device)\n",
    "                batch_labels = batch_labels.to(device)\n",
    "\n",
    "                outputs = model(batch_inputs)\n",
    "                loss = criterion(outputs, batch_labels)\n",
    "\n",
    "                running_loss += loss.item() * batch_inputs.size(0)\n",
    "\n",
    "            validation_loss = running_loss / len(test_loader.dataset)\n",
    "\n",
    "            # print(\"Epoch {}: Train Loss = {:.4f}, Test Loss = {:.4f}\".format(epoch + 1, epoch_loss, validation_loss))\n",
    "\n",
    "            # Check for early stopping\n",
    "            if validation_loss < best_loss:\n",
    "                best_loss = validation_loss\n",
    "                best_model_weights = model.state_dict()\n",
    "                patience_counter = 0\n",
    "            else:\n",
    "                patience_counter += 1\n",
    "\n",
    "            if patience_counter >= early_stopping_patience:\n",
    "                print(\"Early stopping at epoch {}\".format(epoch))\n",
    "                break\n",
    "\n",
    "    return best_model_weights"
   ]
  },
  {
   "cell_type": "code",
   "execution_count": 12,
   "id": "8fe6c47a-436b-4ca8-b4d0-476f99d10a54",
   "metadata": {},
   "outputs": [],
   "source": [
    "def reweight_fn(model, X_val):\n",
    "    # Move the model to CPU for evaluation\n",
    "    model = model.to(torch.device(\"cpu\"))\n",
    "\n",
    "    model.eval()\n",
    "    with torch.no_grad():\n",
    "        preds = model(torch.Tensor(X_val)).detach().numpy().ravel()\n",
    "        weights = preds / (1.0 - preds)\n",
    "    return weights"
   ]
  },
  {
   "cell_type": "markdown",
   "id": "e7fb293e-cd88-472a-8af9-e36fe0726394",
   "metadata": {},
   "source": [
    "Let's train the classifier and calculate the weights."
   ]
  },
  {
   "cell_type": "code",
   "execution_count": 13,
   "id": "179af71a-84f2-4abd-bcd2-9389553a0e3b",
   "metadata": {},
   "outputs": [
    {
     "name": "stdout",
     "output_type": "stream",
     "text": [
      "Early stopping at epoch 57\n"
     ]
    },
    {
     "name": "stderr",
     "output_type": "stream",
     "text": [
      "Process ForkProcess-8:\n",
      "Process ForkProcess-3:\n",
      "Process ForkProcess-1:\n",
      "Process ForkProcess-5:\n",
      "Process ForkProcess-7:\n",
      "Process ForkProcess-6:\n",
      "Process ForkProcess-4:\n",
      "Process ForkProcess-2:\n",
      "Traceback (most recent call last):\n",
      "Traceback (most recent call last):\n",
      "Traceback (most recent call last):\n",
      "Traceback (most recent call last):\n",
      "Traceback (most recent call last):\n",
      "Traceback (most recent call last):\n",
      "Traceback (most recent call last):\n",
      "Traceback (most recent call last):\n",
      "  File \"/Users/dinupa/mambaforge/envs/pytorch2.0/lib/python3.10/multiprocessing/process.py\", line 314, in _bootstrap\n",
      "    self.run()\n",
      "  File \"/Users/dinupa/mambaforge/envs/pytorch2.0/lib/python3.10/multiprocessing/process.py\", line 314, in _bootstrap\n",
      "    self.run()\n",
      "  File \"/Users/dinupa/mambaforge/envs/pytorch2.0/lib/python3.10/multiprocessing/process.py\", line 314, in _bootstrap\n",
      "    self.run()\n",
      "  File \"/Users/dinupa/mambaforge/envs/pytorch2.0/lib/python3.10/multiprocessing/process.py\", line 314, in _bootstrap\n",
      "    self.run()\n",
      "  File \"/Users/dinupa/mambaforge/envs/pytorch2.0/lib/python3.10/multiprocessing/process.py\", line 314, in _bootstrap\n",
      "    self.run()\n",
      "  File \"/Users/dinupa/mambaforge/envs/pytorch2.0/lib/python3.10/multiprocessing/process.py\", line 314, in _bootstrap\n",
      "    self.run()\n",
      "  File \"/Users/dinupa/mambaforge/envs/pytorch2.0/lib/python3.10/multiprocessing/process.py\", line 314, in _bootstrap\n",
      "    self.run()\n",
      "  File \"/Users/dinupa/mambaforge/envs/pytorch2.0/lib/python3.10/multiprocessing/process.py\", line 314, in _bootstrap\n",
      "    self.run()\n",
      "  File \"/Users/dinupa/mambaforge/envs/pytorch2.0/lib/python3.10/multiprocessing/process.py\", line 108, in run\n",
      "    self._target(*self._args, **self._kwargs)\n",
      "  File \"/Users/dinupa/mambaforge/envs/pytorch2.0/lib/python3.10/multiprocessing/process.py\", line 108, in run\n",
      "    self._target(*self._args, **self._kwargs)\n",
      "  File \"/Users/dinupa/mambaforge/envs/pytorch2.0/lib/python3.10/multiprocessing/process.py\", line 108, in run\n",
      "    self._target(*self._args, **self._kwargs)\n",
      "  File \"/Users/dinupa/mambaforge/envs/pytorch2.0/lib/python3.10/multiprocessing/process.py\", line 108, in run\n",
      "    self._target(*self._args, **self._kwargs)\n",
      "  File \"/Users/dinupa/mambaforge/envs/pytorch2.0/lib/python3.10/multiprocessing/process.py\", line 108, in run\n",
      "    self._target(*self._args, **self._kwargs)\n",
      "  File \"/Users/dinupa/mambaforge/envs/pytorch2.0/lib/python3.10/multiprocessing/process.py\", line 108, in run\n",
      "    self._target(*self._args, **self._kwargs)\n",
      "  File \"/Users/dinupa/mambaforge/envs/pytorch2.0/lib/python3.10/multiprocessing/process.py\", line 108, in run\n",
      "    self._target(*self._args, **self._kwargs)\n",
      "  File \"/Users/dinupa/mambaforge/envs/pytorch2.0/lib/python3.10/multiprocessing/process.py\", line 108, in run\n",
      "    self._target(*self._args, **self._kwargs)\n",
      "  File \"/Users/dinupa/mambaforge/envs/pytorch2.0/lib/python3.10/concurrent/futures/process.py\", line 240, in _process_worker\n",
      "    call_item = call_queue.get(block=True)\n",
      "  File \"/Users/dinupa/mambaforge/envs/pytorch2.0/lib/python3.10/concurrent/futures/process.py\", line 240, in _process_worker\n",
      "    call_item = call_queue.get(block=True)\n",
      "  File \"/Users/dinupa/mambaforge/envs/pytorch2.0/lib/python3.10/concurrent/futures/process.py\", line 240, in _process_worker\n",
      "    call_item = call_queue.get(block=True)\n",
      "  File \"/Users/dinupa/mambaforge/envs/pytorch2.0/lib/python3.10/concurrent/futures/process.py\", line 240, in _process_worker\n",
      "    call_item = call_queue.get(block=True)\n",
      "  File \"/Users/dinupa/mambaforge/envs/pytorch2.0/lib/python3.10/concurrent/futures/process.py\", line 240, in _process_worker\n",
      "    call_item = call_queue.get(block=True)\n",
      "  File \"/Users/dinupa/mambaforge/envs/pytorch2.0/lib/python3.10/concurrent/futures/process.py\", line 240, in _process_worker\n",
      "    call_item = call_queue.get(block=True)\n",
      "  File \"/Users/dinupa/mambaforge/envs/pytorch2.0/lib/python3.10/concurrent/futures/process.py\", line 240, in _process_worker\n",
      "    call_item = call_queue.get(block=True)\n",
      "  File \"/Users/dinupa/mambaforge/envs/pytorch2.0/lib/python3.10/concurrent/futures/process.py\", line 240, in _process_worker\n",
      "    call_item = call_queue.get(block=True)\n",
      "  File \"/Users/dinupa/mambaforge/envs/pytorch2.0/lib/python3.10/multiprocessing/queues.py\", line 103, in get\n",
      "    res = self._recv_bytes()\n",
      "  File \"/Users/dinupa/mambaforge/envs/pytorch2.0/lib/python3.10/multiprocessing/queues.py\", line 102, in get\n",
      "    with self._rlock:\n",
      "  File \"/Users/dinupa/mambaforge/envs/pytorch2.0/lib/python3.10/multiprocessing/queues.py\", line 102, in get\n",
      "    with self._rlock:\n",
      "  File \"/Users/dinupa/mambaforge/envs/pytorch2.0/lib/python3.10/multiprocessing/queues.py\", line 102, in get\n",
      "    with self._rlock:\n",
      "  File \"/Users/dinupa/mambaforge/envs/pytorch2.0/lib/python3.10/multiprocessing/queues.py\", line 102, in get\n",
      "    with self._rlock:\n",
      "  File \"/Users/dinupa/mambaforge/envs/pytorch2.0/lib/python3.10/multiprocessing/queues.py\", line 102, in get\n",
      "    with self._rlock:\n",
      "  File \"/Users/dinupa/mambaforge/envs/pytorch2.0/lib/python3.10/multiprocessing/queues.py\", line 102, in get\n",
      "    with self._rlock:\n",
      "  File \"/Users/dinupa/mambaforge/envs/pytorch2.0/lib/python3.10/multiprocessing/queues.py\", line 102, in get\n",
      "    with self._rlock:\n",
      "  File \"/Users/dinupa/mambaforge/envs/pytorch2.0/lib/python3.10/multiprocessing/connection.py\", line 216, in recv_bytes\n",
      "    buf = self._recv_bytes(maxlength)\n",
      "  File \"/Users/dinupa/mambaforge/envs/pytorch2.0/lib/python3.10/multiprocessing/synchronize.py\", line 95, in __enter__\n",
      "    return self._semlock.__enter__()\n",
      "  File \"/Users/dinupa/mambaforge/envs/pytorch2.0/lib/python3.10/multiprocessing/synchronize.py\", line 95, in __enter__\n",
      "    return self._semlock.__enter__()\n",
      "  File \"/Users/dinupa/mambaforge/envs/pytorch2.0/lib/python3.10/multiprocessing/synchronize.py\", line 95, in __enter__\n",
      "    return self._semlock.__enter__()\n",
      "  File \"/Users/dinupa/mambaforge/envs/pytorch2.0/lib/python3.10/multiprocessing/synchronize.py\", line 95, in __enter__\n",
      "    return self._semlock.__enter__()\n",
      "  File \"/Users/dinupa/mambaforge/envs/pytorch2.0/lib/python3.10/multiprocessing/synchronize.py\", line 95, in __enter__\n",
      "    return self._semlock.__enter__()\n",
      "  File \"/Users/dinupa/mambaforge/envs/pytorch2.0/lib/python3.10/multiprocessing/synchronize.py\", line 95, in __enter__\n",
      "    return self._semlock.__enter__()\n",
      "  File \"/Users/dinupa/mambaforge/envs/pytorch2.0/lib/python3.10/multiprocessing/synchronize.py\", line 95, in __enter__\n",
      "    return self._semlock.__enter__()\n",
      "  File \"/Users/dinupa/mambaforge/envs/pytorch2.0/lib/python3.10/multiprocessing/connection.py\", line 414, in _recv_bytes\n",
      "    buf = self._recv(4)\n",
      "KeyboardInterrupt\n",
      "KeyboardInterrupt\n",
      "KeyboardInterrupt\n",
      "KeyboardInterrupt\n",
      "KeyboardInterrupt\n",
      "KeyboardInterrupt\n",
      "  File \"/Users/dinupa/mambaforge/envs/pytorch2.0/lib/python3.10/multiprocessing/connection.py\", line 379, in _recv\n",
      "    chunk = read(handle, remaining)\n",
      "KeyboardInterrupt\n",
      "KeyboardInterrupt\n"
     ]
    }
   ],
   "source": [
    "epochs = 200\n",
    "early_stopping_patience = 10\n",
    "\n",
    "# Compile the train function\n",
    "# opt_train = torch.compile(train_model, mode=\"max-autotune\")\n",
    "\n",
    "best_model_weights = train_model(model, train_loader, test_loader, criterion, optimizer, device, epochs, early_stopping_patience)"
   ]
  },
  {
   "cell_type": "markdown",
   "id": "8332188a-2bda-41b9-a728-72b92d247e63",
   "metadata": {},
   "source": [
    "Let's validate the trained model."
   ]
  },
  {
   "cell_type": "code",
   "execution_count": 14,
   "id": "0c9c221f-c95d-4e07-a8cd-539f5965cac7",
   "metadata": {},
   "outputs": [],
   "source": [
    "X0_val = np.random.normal(mu_0, sigma_0, n_data_points)\n",
    "X1_val = np.random.normal(mu_1, sigma_1, n_data_points)"
   ]
  },
  {
   "cell_type": "code",
   "execution_count": 15,
   "id": "288220be-15aa-4c41-99e7-e2b0b61b69f7",
   "metadata": {},
   "outputs": [],
   "source": [
    "# Load the best model weights\n",
    "model.load_state_dict(best_model_weights)\n",
    "\n",
    "weights = reweight_fn(model, X0_val.reshape(-1, 1))"
   ]
  },
  {
   "cell_type": "code",
   "execution_count": 16,
   "id": "a413b6d5-9099-4839-aff3-3cf702e3bfd8",
   "metadata": {},
   "outputs": [
    {
     "data": {
      "image/png": "[encoded data removed]",
      "text/plain": [
       "<Figure size 640x480 with 1 Axes>"
      ]
     },
     "metadata": {},
     "output_type": "display_data"
    }
   ],
   "source": [
    "bins = np.linspace(-6, 6, 31)\n",
    "plt.hist(X0_val, bins=bins, alpha=0.5, label=r'$\\mu=0$')\n",
    "plt.hist(X0_val, bins=bins, label=r'$\\mu=0$ weighted', weights=weights, histtype='step', color='k')\n",
    "plt.hist(X1_val, bins=bins, alpha=0.5, label=r'$\\mu=1$')\n",
    "plt.legend(frameon=False)\n",
    "plt.show()"
   ]
  },
  {
   "cell_type": "markdown",
   "id": "89672c7a-0389-4192-98d8-0b13df6882b8",
   "metadata": {},
   "source": [
    "At this point, we have used a trained neural network to calculate the weights. In the next step, we will try to parameterize the neural network."
   ]
  },
  {
   "cell_type": "markdown",
   "id": "6491ecd7-949c-448b-975f-67a291a202c1",
   "metadata": {},
   "source": [
    "## Step 2"
   ]
  },
  {
   "cell_type": "markdown",
   "id": "881f3a48-27b2-4cfe-b046-f74343bf35ca",
   "metadata": {},
   "source": [
    "In this step, we will parameterize the neural network to calculate the weights for any $\\mu$.\n",
    "\n",
    "Let $x_{0} \\in \\mathcal{N}{0}(0, 1)$ with label 0, and $x{1} \\in \\mathcal{N}{1}(\\mu, 1)$ for $\\mu \\in [-2, 2]$. We train the neural network to classify $x_{0}$ and $x_{1}$"
   ]
  },
  {
   "cell_type": "code",
   "execution_count": 17,
   "id": "7d70a29f-02b4-4f1c-8d27-4788d78bec4a",
   "metadata": {},
   "outputs": [],
   "source": [
    "# Create data\n",
    "n_data_points = 10**5\n",
    "mu_min = -2\n",
    "mu_max = 2\n",
    "mu_values = np.random.uniform(mu_min, mu_max, n_data_points)\n",
    "\n",
    "X0 = [(np.random.normal(0, 1), mu) for mu in mu_values] # Note the zero in normal(0, 1)\n",
    "X1 = [(np.random.normal(mu, 1), mu) for mu in mu_values]\n",
    "\n",
    "Y0 = np.zeros(n_data_points)\n",
    "Y1 = np.ones(n_data_points)\n",
    "\n",
    "X = np.concatenate((X0, X1))\n",
    "Y = np.concatenate((Y0, Y1)).reshape(-1, 1)\n",
    "\n",
    "X_train, X_test, Y_train, Y_test = train_test_split(X, Y, test_size=0.4, shuffle=True)\n",
    "\n",
    "# Convert data to PyTorch tensors\n",
    "X_train_tensor = torch.from_numpy(X_train).float()\n",
    "Y_train_tensor = torch.from_numpy(Y_train).float()\n",
    "\n",
    "X_test_tensor = torch.from_numpy(X_test).float()\n",
    "Y_test_tensor = torch.from_numpy(Y_test).float()\n",
    "\n",
    "# Create PyTorch datasets and dataloaders\n",
    "train_dataset = TensorDataset(X_train_tensor, Y_train_tensor)\n",
    "test_dataset = TensorDataset(X_test_tensor, Y_test_tensor)\n",
    "\n",
    "train_loader = DataLoader(train_dataset, batch_size=batch_size, shuffle=True)\n",
    "test_loader = DataLoader(test_dataset, batch_size=batch_size, shuffle=False)"
   ]
  },
  {
   "cell_type": "code",
   "execution_count": 18,
   "id": "8c0a7e3e-ec90-4f1d-bf2f-511ff99ffc63",
   "metadata": {},
   "outputs": [],
   "source": [
    "fit_model = GaussClassifier(input_dim=2, hidden_dim=50)"
   ]
  },
  {
   "cell_type": "code",
   "execution_count": 19,
   "id": "ae4a7710-77cf-4d1c-ac33-a36268a85eaf",
   "metadata": {},
   "outputs": [],
   "source": [
    "# Define the loss function and optimizer\n",
    "criterion = nn.BCELoss()\n",
    "optimizer = optim.Adam(fit_model.parameters(), lr=0.001)"
   ]
  },
  {
   "cell_type": "code",
   "execution_count": 20,
   "id": "d87dd5d1-4710-4ed5-acc8-b2478c1c26d3",
   "metadata": {},
   "outputs": [],
   "source": [
    "# Move the model to GPU if available\n",
    "fit_model = fit_model.to(device)"
   ]
  },
  {
   "cell_type": "code",
   "execution_count": 21,
   "id": "9a466a74-dc42-4951-b0a2-ecfbab257391",
   "metadata": {},
   "outputs": [
    {
     "name": "stdout",
     "output_type": "stream",
     "text": [
      "using device : cpu\n",
      "GaussClassifier(\n",
      "  (fc1): Linear(in_features=2, out_features=50, bias=True)\n",
      "  (fc2): Linear(in_features=50, out_features=50, bias=True)\n",
      "  (fc3): Linear(in_features=50, out_features=50, bias=True)\n",
      "  (fc4): Linear(in_features=50, out_features=1, bias=True)\n",
      "  (relu): ReLU()\n",
      "  (sigmoid): Sigmoid()\n",
      ")\n",
      "total trainable params: 5301\n"
     ]
    }
   ],
   "source": [
    "# Model summary\n",
    "print(\"using device : {}\".format(device))\n",
    "total_trainable_params = sum(p.numel() for p in fit_model.parameters() if p.requires_grad)\n",
    "print(fit_model)\n",
    "print('total trainable params: {}'.format(total_trainable_params))"
   ]
  },
  {
   "cell_type": "code",
   "execution_count": 22,
   "id": "eec18407-4d76-471e-9065-8e8219ffda7c",
   "metadata": {},
   "outputs": [
    {
     "name": "stdout",
     "output_type": "stream",
     "text": [
      "Early stopping at epoch 26\n"
     ]
    }
   ],
   "source": [
    "# Training loop\n",
    "epochs = 200\n",
    "early_stopping_patience = 10\n",
    "\n",
    "# Compile\n",
    "# opt_train = torch.compile(train_model, mode=\"max-autotune\")\n",
    "\n",
    "best_model_weights = train_model(fit_model, train_loader, test_loader, criterion, optimizer, device, epochs, early_stopping_patience)"
   ]
  },
  {
   "cell_type": "code",
   "execution_count": 23,
   "id": "01a96388-418b-4899-a446-bb7291f103e9",
   "metadata": {},
   "outputs": [],
   "source": [
    "# Validate\n",
    "\n",
    "mu_1 = -1.2\n",
    "assert mu_min <= mu_1 <= mu_max  # choose mu1 in valid range\n",
    "\n",
    "X0_val = np.random.normal(0, 1, n_data_points)\n",
    "X1_val = np.random.normal(mu_1, 1, n_data_points)\n",
    "\n",
    "X_input = np.array([(x, mu_1) for x in X0_val])\n",
    "\n",
    "# Load the best model weights\n",
    "fit_model.load_state_dict(best_model_weights)\n",
    "\n",
    "weights = reweight_fn(fit_model, X_input)"
   ]
  },
  {
   "cell_type": "code",
   "execution_count": 24,
   "id": "db38ab28-0a5f-43ce-ab77-21d8b596f4e4",
   "metadata": {},
   "outputs": [
    {
     "data": {
      "image/png": "[encoded data removed]",
      "text/plain": [
       "<Figure size 640x480 with 1 Axes>"
      ]
     },
     "metadata": {},
     "output_type": "display_data"
    }
   ],
   "source": [
    "bins = np.linspace(-6, 6, 31)\n",
    "plt.hist(X0_val, bins=bins, alpha=0.5, label=r'$\\mu=0$')\n",
    "plt.hist(X0_val, bins=bins, label=r'$\\mu=0$ wgt.', weights=weights, histtype='step', color='k')\n",
    "plt.hist(X1_val, bins=bins, alpha=0.5, label=r'$\\mu={}$'.format(mu_1))\n",
    "plt.legend(frameon=False)\n",
    "plt.show()"
   ]
  },
  {
   "cell_type": "markdown",
   "id": "480be1f2-6bf6-4664-b9a0-2ed1dd1198c4",
   "metadata": {},
   "source": [
    "Now we have parameterized the neural network to calculate the weights for any $\\mu$ values. We can now use this neural network to extract the unknown parameters."
   ]
  },
  {
   "cell_type": "markdown",
   "id": "378d3d2b-3697-4576-8a63-11e29bcdd53a",
   "metadata": {},
   "source": [
    "## Step 3"
   ]
  },
  {
   "cell_type": "markdown",
   "id": "77cb83e3-c6c6-4080-a828-d00790cf8df3",
   "metadata": {},
   "source": [
    "In this step we extract the unknown parameter by minimizing the loss using the gradient decent algorithem."
   ]
  },
  {
   "cell_type": "code",
   "execution_count": 25,
   "id": "873476c4-e907-4051-b73f-fc9e042eb07d",
   "metadata": {},
   "outputs": [],
   "source": [
    "# Fit the model\n",
    "def fit_fn(epochs, add_params_layer, fit_model, data_loader, device, optimizer, loss_fn):\n",
    "    losses = []\n",
    "    fit_vals = []\n",
    "\n",
    "    for epoch in range(epochs):\n",
    "        add_params_layer.train()\n",
    "        running_loss = 0.0\n",
    "        for batch_inputs, batch_labels in data_loader:\n",
    "            batch_inputs = batch_inputs.to(device)\n",
    "            batch_labels = batch_labels.to(device)\n",
    "\n",
    "            # Forward pass\n",
    "            optimizer.zero_grad()\n",
    "            output = fit_model(add_params_layer(batch_inputs))\n",
    "\n",
    "            # Compute the loss\n",
    "            loss = loss_fn(output, batch_labels)\n",
    "\n",
    "            # Backward pass and update weights\n",
    "            loss.backward()\n",
    "            optimizer.step()\n",
    "\n",
    "            running_loss += loss.item() * batch_inputs.size(0)\n",
    "\n",
    "        epoch_loss = running_loss / len(data_loader.dataset)\n",
    "        # print(\"epoch : {}, loss = {:.4f}, mu = {:.4f}\".format(epoch + 1, epoch_loss, add_params_layer.params.item()))\n",
    "        losses.append(epoch_loss)\n",
    "        fit_vals.append(add_params_layer.params.item())\n",
    "\n",
    "    return losses, fit_vals"
   ]
  },
  {
   "cell_type": "code",
   "execution_count": 26,
   "id": "cf8041c9-e7ce-4e92-8dea-9622ece56518",
   "metadata": {},
   "outputs": [],
   "source": [
    "# module used to add parameter for fitting\n",
    "class AddParams2Input(nn.Module):\n",
    "    def __init__(self, params):\n",
    "        super(AddParams2Input, self).__init__()\n",
    "        self.params = nn.Parameter(torch.Tensor(params), requires_grad=True)\n",
    "\n",
    "    def forward(self, inputs):\n",
    "        batch_params = torch.ones((inputs.size(0), 1), device=inputs.device) * self.params.to(device=inputs.device)\n",
    "        concatenated = torch.cat([inputs, batch_params], dim=-1)\n",
    "        return concatenated"
   ]
  },
  {
   "cell_type": "code",
   "execution_count": 27,
   "id": "cb4ed537-3ae4-4549-a9f7-ce06cfceeed4",
   "metadata": {},
   "outputs": [],
   "source": [
    "# Create data\n",
    "mu_secret = 1.3\n",
    "X_mystery = np.random.normal(mu_secret, 1, n_data_points)\n",
    "\n",
    "\n",
    "Y0 = np.zeros(n_data_points)\n",
    "Y1 = np.ones(n_data_points)\n",
    "\n",
    "X = np.concatenate((np.array(X0)[:,0], X_mystery)).reshape(-1, 1)\n",
    "Y = np.concatenate((Y0, Y1)).reshape(-1, 1)\n",
    "\n",
    "# Create PyTorch datasets and dataloaders\n",
    "dataset = TensorDataset(torch.Tensor(X), torch.Tensor(Y).float())\n",
    "\n",
    "data_loader = DataLoader(dataset, batch_size=batch_size, shuffle=True)"
   ]
  },
  {
   "cell_type": "code",
   "execution_count": 28,
   "id": "76f532fb-7ff2-4b4a-ad29-e1e8e10549c1",
   "metadata": {},
   "outputs": [],
   "source": [
    "# Load the best model weights\n",
    "fit_model.load_state_dict(best_model_weights)\n",
    "\n",
    "# Define the parameters\n",
    "mu_fit_init = [0.]\n",
    "\n",
    "# Create the AddParams2Input layer\n",
    "add_params_layer = AddParams2Input(mu_fit_init)"
   ]
  },
  {
   "cell_type": "markdown",
   "id": "328e7610-fa57-4248-ade7-de6ae692928c",
   "metadata": {},
   "source": [
    "Since we have trained the neural network to calculate the weights for any $\\mu$, we can freeze the weights and biases. Now, we only need to optimize one parameter."
   ]
  },
  {
   "cell_type": "code",
   "execution_count": 29,
   "id": "35cb6bd6-3350-45b4-ad17-08932958e2cf",
   "metadata": {},
   "outputs": [],
   "source": [
    "# Set all weights in fit model to non-trainable\n",
    "for param in fit_model.parameters():\n",
    "    param.requires_grad = False"
   ]
  },
  {
   "cell_type": "code",
   "execution_count": 30,
   "id": "01d6a2bf-8e9b-4635-8901-3f16903421fa",
   "metadata": {},
   "outputs": [],
   "source": [
    "# Define the loss function and optimizer\n",
    "loss_fn = nn.BCELoss()\n",
    "optimizer = torch.optim.Adam(add_params_layer.parameters(), lr=0.001)"
   ]
  },
  {
   "cell_type": "code",
   "execution_count": 31,
   "id": "53e84ff3-4c3d-4b6f-acd1-38033f72585e",
   "metadata": {},
   "outputs": [],
   "source": [
    "# Transfer models to GPU\n",
    "add_params_layer = add_params_layer.to(device)\n",
    "fit_model = fit_model.to(device)"
   ]
  },
  {
   "cell_type": "code",
   "execution_count": 32,
   "id": "4eba02d5-2e0f-4756-9e96-0bf054f378a7",
   "metadata": {},
   "outputs": [
    {
     "name": "stdout",
     "output_type": "stream",
     "text": [
      "using device : cpu\n",
      "GaussClassifier(\n",
      "  (fc1): Linear(in_features=2, out_features=50, bias=True)\n",
      "  (fc2): Linear(in_features=50, out_features=50, bias=True)\n",
      "  (fc3): Linear(in_features=50, out_features=50, bias=True)\n",
      "  (fc4): Linear(in_features=50, out_features=1, bias=True)\n",
      "  (relu): ReLU()\n",
      "  (sigmoid): Sigmoid()\n",
      ")\n",
      "total trainable params in fit model: 0\n",
      "AddParams2Input()\n",
      "total trainable params in fit model: 1\n"
     ]
    }
   ],
   "source": [
    "# Model summary\n",
    "print(\"using device : {}\".format(device))\n",
    "fit_trainable_params = sum(p.numel() for p in fit_model.parameters() if p.requires_grad)\n",
    "print(fit_model)\n",
    "print('total trainable params in fit model: {}'.format(fit_trainable_params))\n",
    "\n",
    "total_trainable_params = sum(p.numel() for p in add_params_layer.parameters() if p.requires_grad)\n",
    "print(add_params_layer)\n",
    "print('total trainable params in fit model: {}'.format(total_trainable_params))"
   ]
  },
  {
   "cell_type": "code",
   "execution_count": 33,
   "id": "cd4623b6-127a-422e-9252-a649a5be14a3",
   "metadata": {},
   "outputs": [],
   "source": [
    "# Training loop\n",
    "epochs = 200\n",
    "\n",
    "# Compile\n",
    "# opt_fit =  torch.compile(fit_fn, mode=\"max-autotune\")\n",
    "\n",
    "losses, fit_vals = fit_fn(epochs, add_params_layer, fit_model, data_loader, device, optimizer, loss_fn)"
   ]
  },
  {
   "cell_type": "code",
   "execution_count": 34,
   "id": "cd0fa170-6d6e-4e18-9b83-c123ae9cab84",
   "metadata": {},
   "outputs": [
    {
     "data": {
      "image/png": "[encoded data removed]",
      "text/plain": [
       "<Figure size 640x480 with 1 Axes>"
      ]
     },
     "metadata": {},
     "output_type": "display_data"
    }
   ],
   "source": [
    "plt.plot(fit_vals, label='Fit', color='r')\n",
    "plt.hlines(mu_secret, 0, len(fit_vals), label='Truth')\n",
    "plt.xlabel(\"Epochs\")\n",
    "plt.ylabel(r'$\\mu_{fit}$')\n",
    "plt.legend(frameon=False)\n",
    "plt.show()"
   ]
  },
  {
   "cell_type": "markdown",
   "id": "64828a1f-6196-431f-89fc-8eb7fc3dd44c",
   "metadata": {},
   "source": [
    "## Run Minimizer"
   ]
  },
  {
   "cell_type": "code",
   "execution_count": 36,
   "id": "6caf6862-93b8-431e-b8d1-d7385c4d688c",
   "metadata": {},
   "outputs": [],
   "source": [
    "runs = 50\n",
    "\n",
    "mu_fits = []\n",
    "\n",
    "for _ in range(runs):\n",
    "    # Create data\n",
    "    mu_secret = 1.3\n",
    "    X_mystery = np.random.normal(mu_secret, 1, n_data_points)\n",
    "    \n",
    "    Y0 = np.zeros(n_data_points)\n",
    "    Y1 = np.ones(n_data_points)\n",
    "    \n",
    "    X = np.concatenate((np.array(X0)[:,0], X_mystery)).reshape(-1, 1)\n",
    "    Y = np.concatenate((Y0, Y1)).reshape(-1, 1)\n",
    "    \n",
    "    # Create PyTorch datasets and dataloaders\n",
    "    dataset = TensorDataset(torch.Tensor(X), torch.Tensor(Y).float())\n",
    "    data_loader = DataLoader(dataset, batch_size=batch_size, shuffle=True)\n",
    "\n",
    "    # Load the best model weights\n",
    "    fit_model.load_state_dict(best_model_weights)\n",
    "    \n",
    "    # Define the parameters\n",
    "    mu_fit_init = [np.random.uniform(-2.0, 2.0, 1)[0]]\n",
    "    \n",
    "    # Create the AddParams2Input layer\n",
    "    add_params_layer = AddParams2Input(mu_fit_init)\n",
    "\n",
    "    # Set all weights in fit model to non-trainable\n",
    "    for param in fit_model.parameters():\n",
    "        param.requires_grad = False\n",
    "        \n",
    "    # Define the loss function and optimizer\n",
    "    loss_fn = nn.BCELoss()\n",
    "    optimizer = torch.optim.Adam(add_params_layer.parameters(), lr=0.001)\n",
    "    \n",
    "    # Transfer models to GPU\n",
    "    add_params_layer = add_params_layer.to(device)\n",
    "    fit_model = fit_model.to(device)\n",
    "    \n",
    "    # Training loop\n",
    "    epochs = 200\n",
    "    \n",
    "    # Compile\n",
    "    # opt_fit =  torch.compile(fit_fn, mode=\"max-autotune\")\n",
    "    losses, fit_vals = fit_fn(epochs, add_params_layer, fit_model, data_loader, device, optimizer, loss_fn)\n",
    "\n",
    "    mu_fits.append(fit_vals[-1])"
   ]
  },
  {
   "cell_type": "code",
   "execution_count": 42,
   "id": "decbcbc7-4271-4d5a-a89c-66b05cfc5c3c",
   "metadata": {},
   "outputs": [
    {
     "name": "stdout",
     "output_type": "stream",
     "text": [
      "mu fit : 1.327 +/- 0.007\n"
     ]
    }
   ],
   "source": [
    "mu_mean = np.mean(mu_fits)\n",
    "mu_std = np.std(mu_fits)\n",
    "\n",
    "\n",
    "print(\"mu fit : {:.3f} +/- {:.3f}\".format(mu_mean, mu_std))"
   ]
  },
  {
   "cell_type": "markdown",
   "id": "5d21c4c9-4a0e-49f5-86aa-126ee530ba90",
   "metadata": {},
   "source": [
    "## Loss as a function of $\\mu$"
   ]
  },
  {
   "cell_type": "code",
   "execution_count": 39,
   "id": "29b7670a-eff9-4768-9dfb-b7adbdc49eb3",
   "metadata": {},
   "outputs": [
    {
     "name": "stdout",
     "output_type": "stream",
     "text": [
      "loss = 1.1796, mu = -1.0000\n",
      "loss = 1.1253, mu = -0.9200\n",
      "loss = 1.0732, mu = -0.8400\n",
      "loss = 1.0230, mu = -0.7600\n",
      "loss = 0.9748, mu = -0.6800\n",
      "loss = 0.9285, mu = -0.6000\n",
      "loss = 0.8845, mu = -0.5200\n",
      "loss = 0.8428, mu = -0.4400\n",
      "loss = 0.8040, mu = -0.3600\n",
      "loss = 0.7681, mu = -0.2800\n",
      "loss = 0.7355, mu = -0.2000\n",
      "loss = 0.7065, mu = -0.1200\n",
      "loss = 0.6807, mu = -0.0400\n",
      "loss = 0.6579, mu = 0.0400\n",
      "loss = 0.6380, mu = 0.1200\n",
      "loss = 0.6206, mu = 0.2000\n",
      "loss = 0.6054, mu = 0.2800\n",
      "loss = 0.5923, mu = 0.3600\n",
      "loss = 0.5810, mu = 0.4400\n",
      "loss = 0.5710, mu = 0.5200\n",
      "loss = 0.5619, mu = 0.6000\n",
      "loss = 0.5536, mu = 0.6800\n",
      "loss = 0.5461, mu = 0.7600\n",
      "loss = 0.5396, mu = 0.8400\n",
      "loss = 0.5339, mu = 0.9200\n",
      "loss = 0.5292, mu = 1.0000\n",
      "loss = 0.5252, mu = 1.0800\n",
      "loss = 0.5222, mu = 1.1600\n",
      "loss = 0.5204, mu = 1.2400\n",
      "loss = 0.5197, mu = 1.3200\n",
      "loss = 0.5202, mu = 1.4000\n",
      "loss = 0.5220, mu = 1.4800\n",
      "loss = 0.5250, mu = 1.5600\n",
      "loss = 0.5292, mu = 1.6400\n",
      "loss = 0.5345, mu = 1.7200\n",
      "loss = 0.5409, mu = 1.8000\n",
      "loss = 0.5482, mu = 1.8800\n",
      "loss = 0.5564, mu = 1.9600\n",
      "loss = 0.5657, mu = 2.0400\n",
      "loss = 0.5761, mu = 2.1200\n",
      "loss = 0.5877, mu = 2.2000\n",
      "loss = 0.6004, mu = 2.2800\n",
      "loss = 0.6142, mu = 2.3600\n",
      "loss = 0.6291, mu = 2.4400\n",
      "loss = 0.6451, mu = 2.5200\n",
      "loss = 0.6621, mu = 2.6000\n",
      "loss = 0.6803, mu = 2.6800\n",
      "loss = 0.6995, mu = 2.7600\n",
      "loss = 0.7198, mu = 2.8400\n",
      "loss = 0.7411, mu = 2.9200\n",
      "loss = 0.7636, mu = 3.0000\n"
     ]
    }
   ],
   "source": [
    "mu_inits = np.linspace(-1., 3., 51)\n",
    "\n",
    "fit_loss = []\n",
    "\n",
    "for mu in mu_inits:\n",
    "    # Load the best model weights\n",
    "    fit_model.load_state_dict(best_model_weights)\n",
    "    \n",
    "    # Define the parameters\n",
    "    mu_fit_init = [mu]\n",
    "    \n",
    "    # Create the AddParams2Input layer\n",
    "    add_params_layer = AddParams2Input(mu_fit_init)\n",
    "\n",
    "    # Set all weights in fit model to non-trainable\n",
    "    for param in fit_model.parameters():\n",
    "        param.requires_grad = False\n",
    "\n",
    "    # Set all weights in fit model to non-trainable\n",
    "    for param in add_params_layer.parameters():\n",
    "        add_params_layer.requires_grad = False\n",
    "\n",
    "    # Define the loss function and optimizer\n",
    "    loss_fn = nn.BCELoss()\n",
    "    optimizer = torch.optim.Adam(add_params_layer.parameters(), lr=0.0001)\n",
    "\n",
    "    # Transfer models to GPU\n",
    "    add_params_layer = add_params_layer.to(torch.device(\"cpu\"))\n",
    "    fit_model = fit_model.to(torch.device(\"cpu\"))\n",
    "\n",
    "    add_params_layer.eval()\n",
    "    fit_model.eval()\n",
    "    with torch.no_grad():\n",
    "        running_loss = 0.0\n",
    "        for batch_inputs, batch_labels in data_loader:\n",
    "            batch_inputs = batch_inputs.to(device)\n",
    "            batch_labels = batch_labels.to(device)\n",
    "            \n",
    "            output = fit_model(add_params_layer(batch_inputs))\n",
    "\n",
    "            # Compute the loss\n",
    "            loss = loss_fn(output, batch_labels)\n",
    "\n",
    "            running_loss += loss.item() * batch_inputs.size(0)\n",
    "        \n",
    "        total_loss = running_loss / len(data_loader.dataset)\n",
    "        print(\"loss = {:.4f}, mu = {:.4f}\".format(total_loss, add_params_layer.params.item()))\n",
    "        fit_loss.append(total_loss)"
   ]
  },
  {
   "cell_type": "code",
   "execution_count": 50,
   "id": "8efc24b7-52d5-4080-b360-5a601de47a57",
   "metadata": {},
   "outputs": [
    {
     "data": {
      "image/png": "[encoded data removed]",
      "text/plain": [
       "<Figure size 640x480 with 1 Axes>"
      ]
     },
     "metadata": {},
     "output_type": "display_data"
    }
   ],
   "source": [
    "plt.plot(mu_inits, fit_loss)\n",
    "plt.ylabel(\"loss\")\n",
    "plt.xlabel(r'$\\mu$')\n",
    "plt.errorbar(mu_mean, 0.52, xerr=mu_std, fmt=\"o\", label=r'$\\mu = {:.3f} \\pm {:.3f}$'.format(mu_mean, mu_std))\n",
    "plt.legend(frameon=False)\n",
    "plt.show()"
   ]
  },
  {
   "cell_type": "code",
   "execution_count": null,
   "id": "93be7603-5c77-41b6-8f94-9f822f2aba37",
   "metadata": {},
   "outputs": [],
   "source": []
  }
 ],
 "metadata": {
  "kernelspec": {
   "display_name": "Python 3 (ipykernel)",
   "language": "python",
   "name": "python3"
  },
  "language_info": {
   "codemirror_mode": {
    "name": "ipython",
    "version": 3
   },
   "file_extension": ".py",
   "mimetype": "text/x-python",
   "name": "python",
   "nbconvert_exporter": "python",
   "pygments_lexer": "ipython3",
   "version": "3.10.11"
  }
 },
 "nbformat": 4,
 "nbformat_minor": 5
}
