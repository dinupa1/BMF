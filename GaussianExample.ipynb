{
 "cells": [
  {
   "cell_type": "code",
   "execution_count": 1,
   "id": "e7051f40-1145-4fc8-901c-03b34cc8b848",
   "metadata": {},
   "outputs": [],
   "source": [
    "import numpy as np\n",
    "import matplotlib.pyplot as plt\n",
    "\n",
    "import torch\n",
    "import torch.nn as nn\n",
    "import torch.optim as optim\n",
    "from torch.utils.data import DataLoader, TensorDataset\n",
    "import torch.nn.functional as F\n",
    "\n",
    "from sklearn.model_selection import train_test_split"
   ]
  },
  {
   "cell_type": "code",
   "execution_count": 2,
   "id": "ac521bb7-c0d8-4990-853d-ddfa608b9379",
   "metadata": {},
   "outputs": [],
   "source": [
    "# Check if CUDA is available\n",
    "device = torch.device(\"cuda\" if torch.cuda.is_available() else \"cpu\")"
   ]
  },
  {
   "cell_type": "markdown",
   "id": "ad81df93-f4f6-44a2-a6bc-79e2b9e19d62",
   "metadata": {},
   "source": [
    "# Reweighting a Gaussian Distribution"
   ]
  },
  {
   "cell_type": "markdown",
   "id": "fbf138d3-7006-4900-a836-1930e2d463bd",
   "metadata": {},
   "source": [
    "## Step 1"
   ]
  },
  {
   "cell_type": "markdown",
   "id": "a6c68db2-0f72-47ff-9703-451b83547c5e",
   "metadata": {},
   "source": [
    "Suppose we have two Gaussian distributions, $\\mathcal{N}_{0}(\\mu_{0}, \\sigma)$ and $\\mathcal{N}_{1}(\\mu_{1}, \\sigma)$. Our goal is to transform $\\mathcal{N}_{0}$ into $\\mathcal{N}_{1}$. We attempt to calculate weights using a neural network $f(x)$ that has been trained to classify between $x_{0} \\in \\mathcal{N}_{0}(\\mu_{0}, \\sigma)$ and assign it the label 0, and $x_{1} \\in \\mathcal{N}_{1}(\\mu_{1}, \\sigma)$ and assign it the label 1.\n",
    "\n",
    "Then the weights are calculated as;\n",
    "\n",
    "\n",
    "$$\n",
    "w = \\frac{f(x)}{1 - f(x)}\n",
    "$$"
   ]
  },
  {
   "cell_type": "markdown",
   "id": "73794dce-df77-4f54-bfa0-939dfad0aa3c",
   "metadata": {},
   "source": [
    "Let's define a neural network with 2 hidden layers, each consisting of 20 nodes. All the hidden layers will be activated using the `ReLU` activation function, and the final output layer will be activated using the `Sigmoid` activation function."
   ]
  },
  {
   "cell_type": "code",
   "execution_count": 3,
   "id": "321557e1-3f01-4423-ae60-df9089858e80",
   "metadata": {},
   "outputs": [],
   "source": [
    "class GaussClassifier(nn.Module):\n",
    "    def __init__(self, input_dim: int = 1, output_dim: int = 1, hidden_dim: int = 20):\n",
    "        super(GaussClassifier, self).__init__()\n",
    "        self.fc1 = nn.Linear(input_dim, hidden_dim, bias=True)\n",
    "        self.fc2 = nn.Linear(hidden_dim, hidden_dim, bias=True)\n",
    "        self.fc3 = nn.Linear(hidden_dim, hidden_dim, bias=True)\n",
    "        self.fc4 = nn.Linear(hidden_dim, output_dim, bias=True)\n",
    "        self.relu = nn.ReLU()\n",
    "        self.sigmoid = nn.Sigmoid()\n",
    "\n",
    "    def forward(self, x):\n",
    "        x = self.relu(self.fc1(x))\n",
    "        x = self.relu(self.fc2(x))\n",
    "        x = self.relu(self.fc3(x))\n",
    "        x = self.sigmoid(self.fc4(x))\n",
    "        return x"
   ]
  },
  {
   "cell_type": "markdown",
   "id": "ddd79b84-ab4a-4bf4-809b-93826e58f9a1",
   "metadata": {},
   "source": [
    "Let's create some data samples. Here $x_{0} \\in \\mathcal{N}_{0}(0, 1)$ and $x_{1} \\in \\mathcal{N}_{1}(1, 1)$."
   ]
  },
  {
   "cell_type": "code",
   "execution_count": 4,
   "id": "91f094da-822a-4b56-b0ec-335bb5f744ab",
   "metadata": {},
   "outputs": [],
   "source": [
    "n_data_points = 10**5\n",
    "\n",
    "batch_size = 1000\n",
    "\n",
    "mu_0 = 0.\n",
    "mu_1 = 1.\n",
    "sigma_0 = 1.\n",
    "sigma_1 = 1."
   ]
  },
  {
   "cell_type": "code",
   "execution_count": 5,
   "id": "e71e04de-c79a-4e35-9cba-4234012c1bb7",
   "metadata": {},
   "outputs": [],
   "source": [
    "X0 = np.random.normal(mu_0, sigma_0, n_data_points)\n",
    "X1 = np.random.normal(mu_1, sigma_1, n_data_points)\n",
    "\n",
    "Y0 = np.zeros(n_data_points)\n",
    "Y1 = np.ones(n_data_points)\n",
    "\n",
    "X = np.concatenate((X0, X1)).reshape(-1, 1)\n",
    "Y = np.concatenate((Y0, Y1)).reshape(-1, 1)\n",
    "\n",
    "X_train, X_test, Y_train, Y_test = train_test_split(X, Y, test_size=0.4, shuffle=True)"
   ]
  },
  {
   "cell_type": "code",
   "execution_count": 6,
   "id": "9ce6d76c-45f6-4b68-a764-701214669b56",
   "metadata": {},
   "outputs": [],
   "source": [
    "# Convert data to PyTorch tensors\n",
    "X_train_tensor = torch.from_numpy(X_train).float()\n",
    "Y_train_tensor = torch.from_numpy(Y_train).float()\n",
    "\n",
    "X_test_tensor = torch.from_numpy(X_test).float()\n",
    "Y_test_tensor = torch.from_numpy(Y_test).float()\n",
    "\n",
    "\n",
    "# Create PyTorch datasets and dataloaders\n",
    "train_dataset = TensorDataset(X_train_tensor, Y_train_tensor)\n",
    "test_dataset = TensorDataset(X_test_tensor, Y_test_tensor)\n",
    "\n",
    "train_loader = DataLoader(train_dataset, batch_size=batch_size, shuffle=True)\n",
    "test_loader = DataLoader(test_dataset, batch_size=batch_size, shuffle=False)"
   ]
  },
  {
   "cell_type": "code",
   "execution_count": 7,
   "id": "5300c161-ee36-40a2-92df-aa4fcd14caea",
   "metadata": {},
   "outputs": [],
   "source": [
    "# Create the model\n",
    "model = GaussClassifier(hidden_dim = 20)"
   ]
  },
  {
   "cell_type": "markdown",
   "id": "c7b6a3d5-307d-434f-ae15-fb6126cddb50",
   "metadata": {},
   "source": [
    "Let's use the `BCELoss` function to calculate the loss and the `Adam` optimizer for backpropagation."
   ]
  },
  {
   "cell_type": "code",
   "execution_count": 8,
   "id": "f7a61ee8-ea8e-4db6-a285-abf5b37160c3",
   "metadata": {},
   "outputs": [],
   "source": [
    "criterion = nn.BCELoss()\n",
    "optimizer = optim.Adam(model.parameters(), lr=0.0001)"
   ]
  },
  {
   "cell_type": "code",
   "execution_count": 9,
   "id": "ce368b85-c861-4338-b409-afeefa6ef3a7",
   "metadata": {},
   "outputs": [],
   "source": [
    "# Move the model to GPU if available\n",
    "model = model.to(device=device)"
   ]
  },
  {
   "cell_type": "code",
   "execution_count": 10,
   "id": "64b14f6c-0fbf-4c04-b81f-a300a88add38",
   "metadata": {},
   "outputs": [
    {
     "name": "stdout",
     "output_type": "stream",
     "text": [
      "using device : cpu\n",
      "GaussClassifier(\n",
      "  (fc1): Linear(in_features=1, out_features=20, bias=True)\n",
      "  (fc2): Linear(in_features=20, out_features=20, bias=True)\n",
      "  (fc3): Linear(in_features=20, out_features=20, bias=True)\n",
      "  (fc4): Linear(in_features=20, out_features=1, bias=True)\n",
      "  (relu): ReLU()\n",
      "  (sigmoid): Sigmoid()\n",
      ")\n",
      "total trainable params: 901\n"
     ]
    }
   ],
   "source": [
    "# Model summary\n",
    "print(\"using device : {}\".format(device))\n",
    "total_trainable_params = sum(p.numel() for p in model.parameters() if p.requires_grad)\n",
    "print(model)\n",
    "print('total trainable params: {}'.format(total_trainable_params))"
   ]
  },
  {
   "cell_type": "markdown",
   "id": "cd84002f-a20c-43c8-92b1-19215db1cdd3",
   "metadata": {},
   "source": [
    "Let's define the training step and reweighting functions. Additionally, we will utilize early stopping to reduce the risk of overfitting."
   ]
  },
  {
   "cell_type": "code",
   "execution_count": 11,
   "id": "1bd337f1-6aca-497c-9088-8aa2d93a0572",
   "metadata": {},
   "outputs": [],
   "source": [
    "def train_model(model, train_loader, test_loader, criterion, optimizer, device, epochs, early_stopping_patience):\n",
    "    best_loss = float('inf')\n",
    "    best_model_weights = None\n",
    "    patience_counter = 0\n",
    "\n",
    "    for epoch in range(epochs):\n",
    "        model.train()\n",
    "        running_loss = 0.0\n",
    "        for batch_inputs, batch_labels in train_loader:\n",
    "            batch_inputs = batch_inputs.to(device)\n",
    "            batch_labels = batch_labels.to(device)\n",
    "\n",
    "            optimizer.zero_grad()\n",
    "            outputs = model(batch_inputs)\n",
    "            loss = criterion(outputs, batch_labels)\n",
    "\n",
    "            loss.backward()\n",
    "            optimizer.step()\n",
    "            running_loss += loss.item() * batch_inputs.size(0)\n",
    "\n",
    "        epoch_loss = running_loss / len(train_loader.dataset)\n",
    "\n",
    "        # Evaluation\n",
    "        model.eval()\n",
    "        with torch.no_grad():\n",
    "            running_loss = 0.0\n",
    "            for batch_inputs, batch_labels in test_loader:\n",
    "                batch_inputs = batch_inputs.to(device)\n",
    "                batch_labels = batch_labels.to(device)\n",
    "\n",
    "                outputs = model(batch_inputs)\n",
    "                loss = criterion(outputs, batch_labels)\n",
    "\n",
    "                running_loss += loss.item() * batch_inputs.size(0)\n",
    "\n",
    "            validation_loss = running_loss / len(test_loader.dataset)\n",
    "\n",
    "            print(\"Epoch {}: Train Loss = {:.4f}, Test Loss = {:.4f}\".format(epoch + 1, epoch_loss, validation_loss))\n",
    "\n",
    "            # Check for early stopping\n",
    "            if validation_loss < best_loss:\n",
    "                best_loss = validation_loss\n",
    "                best_model_weights = model.state_dict()\n",
    "                patience_counter = 0\n",
    "            else:\n",
    "                patience_counter += 1\n",
    "\n",
    "            if patience_counter >= early_stopping_patience:\n",
    "                print(\"Early stopping at epoch {}\".format(epoch))\n",
    "                break\n",
    "\n",
    "    return best_model_weights"
   ]
  },
  {
   "cell_type": "code",
   "execution_count": 12,
   "id": "8fe6c47a-436b-4ca8-b4d0-476f99d10a54",
   "metadata": {},
   "outputs": [],
   "source": [
    "def reweight_fn(model, X_val):\n",
    "    # Move the model to CPU for evaluation\n",
    "    model = model.to(torch.device(\"cpu\"))\n",
    "\n",
    "    model.eval()\n",
    "    with torch.no_grad():\n",
    "        preds = model(torch.Tensor(X_val)).detach().numpy().ravel()\n",
    "        weights = preds / (1.0 - preds)\n",
    "    return weights"
   ]
  },
  {
   "cell_type": "markdown",
   "id": "e7fb293e-cd88-472a-8af9-e36fe0726394",
   "metadata": {},
   "source": [
    "Let's train the classifier and calculate the weights."
   ]
  },
  {
   "cell_type": "code",
   "execution_count": 13,
   "id": "179af71a-84f2-4abd-bcd2-9389553a0e3b",
   "metadata": {},
   "outputs": [
    {
     "name": "stdout",
     "output_type": "stream",
     "text": [
      "Epoch 1: Train Loss = 0.6861, Test Loss = 0.6798\n",
      "Epoch 2: Train Loss = 0.6723, Test Loss = 0.6633\n",
      "Epoch 3: Train Loss = 0.6530, Test Loss = 0.6421\n",
      "Epoch 4: Train Loss = 0.6316, Test Loss = 0.6207\n",
      "Epoch 5: Train Loss = 0.6101, Test Loss = 0.5998\n",
      "Epoch 6: Train Loss = 0.5934, Test Loss = 0.5891\n",
      "Epoch 7: Train Loss = 0.5865, Test Loss = 0.5850\n",
      "Epoch 8: Train Loss = 0.5838, Test Loss = 0.5831\n",
      "Epoch 9: Train Loss = 0.5826, Test Loss = 0.5822\n",
      "Epoch 10: Train Loss = 0.5820, Test Loss = 0.5817\n",
      "Epoch 11: Train Loss = 0.5816, Test Loss = 0.5814\n",
      "Epoch 12: Train Loss = 0.5814, Test Loss = 0.5811\n",
      "Epoch 13: Train Loss = 0.5812, Test Loss = 0.5810\n",
      "Epoch 14: Train Loss = 0.5811, Test Loss = 0.5809\n",
      "Epoch 15: Train Loss = 0.5810, Test Loss = 0.5808\n",
      "Epoch 16: Train Loss = 0.5810, Test Loss = 0.5808\n",
      "Epoch 17: Train Loss = 0.5809, Test Loss = 0.5807\n",
      "Epoch 18: Train Loss = 0.5809, Test Loss = 0.5807\n",
      "Epoch 19: Train Loss = 0.5809, Test Loss = 0.5807\n",
      "Epoch 20: Train Loss = 0.5809, Test Loss = 0.5806\n",
      "Epoch 21: Train Loss = 0.5808, Test Loss = 0.5806\n",
      "Epoch 22: Train Loss = 0.5808, Test Loss = 0.5806\n",
      "Epoch 23: Train Loss = 0.5808, Test Loss = 0.5806\n",
      "Epoch 24: Train Loss = 0.5808, Test Loss = 0.5806\n",
      "Epoch 25: Train Loss = 0.5808, Test Loss = 0.5806\n",
      "Epoch 26: Train Loss = 0.5808, Test Loss = 0.5806\n",
      "Epoch 27: Train Loss = 0.5808, Test Loss = 0.5806\n",
      "Epoch 28: Train Loss = 0.5808, Test Loss = 0.5805\n",
      "Epoch 29: Train Loss = 0.5808, Test Loss = 0.5805\n",
      "Epoch 30: Train Loss = 0.5807, Test Loss = 0.5805\n",
      "Epoch 31: Train Loss = 0.5808, Test Loss = 0.5805\n",
      "Epoch 32: Train Loss = 0.5807, Test Loss = 0.5805\n",
      "Epoch 33: Train Loss = 0.5807, Test Loss = 0.5805\n",
      "Epoch 34: Train Loss = 0.5807, Test Loss = 0.5805\n",
      "Epoch 35: Train Loss = 0.5807, Test Loss = 0.5805\n",
      "Epoch 36: Train Loss = 0.5808, Test Loss = 0.5805\n",
      "Epoch 37: Train Loss = 0.5807, Test Loss = 0.5805\n",
      "Epoch 38: Train Loss = 0.5807, Test Loss = 0.5805\n",
      "Epoch 39: Train Loss = 0.5808, Test Loss = 0.5805\n",
      "Epoch 40: Train Loss = 0.5807, Test Loss = 0.5805\n",
      "Epoch 41: Train Loss = 0.5807, Test Loss = 0.5805\n",
      "Epoch 42: Train Loss = 0.5807, Test Loss = 0.5805\n",
      "Epoch 43: Train Loss = 0.5807, Test Loss = 0.5805\n",
      "Epoch 44: Train Loss = 0.5807, Test Loss = 0.5805\n",
      "Epoch 45: Train Loss = 0.5808, Test Loss = 0.5805\n",
      "Epoch 46: Train Loss = 0.5807, Test Loss = 0.5806\n",
      "Epoch 47: Train Loss = 0.5807, Test Loss = 0.5805\n",
      "Epoch 48: Train Loss = 0.5807, Test Loss = 0.5805\n",
      "Epoch 49: Train Loss = 0.5807, Test Loss = 0.5805\n",
      "Epoch 50: Train Loss = 0.5807, Test Loss = 0.5805\n",
      "Epoch 51: Train Loss = 0.5807, Test Loss = 0.5805\n",
      "Epoch 52: Train Loss = 0.5807, Test Loss = 0.5805\n",
      "Epoch 53: Train Loss = 0.5807, Test Loss = 0.5805\n",
      "Epoch 54: Train Loss = 0.5807, Test Loss = 0.5805\n",
      "Epoch 55: Train Loss = 0.5807, Test Loss = 0.5805\n",
      "Epoch 56: Train Loss = 0.5807, Test Loss = 0.5805\n",
      "Epoch 57: Train Loss = 0.5807, Test Loss = 0.5805\n",
      "Epoch 58: Train Loss = 0.5807, Test Loss = 0.5805\n",
      "Epoch 59: Train Loss = 0.5807, Test Loss = 0.5805\n",
      "Epoch 60: Train Loss = 0.5807, Test Loss = 0.5805\n",
      "Epoch 61: Train Loss = 0.5807, Test Loss = 0.5805\n",
      "Epoch 62: Train Loss = 0.5807, Test Loss = 0.5805\n",
      "Epoch 63: Train Loss = 0.5807, Test Loss = 0.5805\n",
      "Epoch 64: Train Loss = 0.5807, Test Loss = 0.5805\n",
      "Epoch 65: Train Loss = 0.5807, Test Loss = 0.5805\n",
      "Early stopping at epoch 64\n"
     ]
    }
   ],
   "source": [
    "epochs = 200\n",
    "early_stopping_patience = 10\n",
    "\n",
    "# Compile the train function\n",
    "opt_train = torch.compile(train_model, mode=\"max-autotune\")\n",
    "\n",
    "best_model_weights = opt_train(model, train_loader, test_loader, criterion, optimizer, device, epochs, early_stopping_patience)"
   ]
  },
  {
   "cell_type": "markdown",
   "id": "8332188a-2bda-41b9-a728-72b92d247e63",
   "metadata": {},
   "source": [
    "Let's validate the trained model."
   ]
  },
  {
   "cell_type": "code",
   "execution_count": 14,
   "id": "0c9c221f-c95d-4e07-a8cd-539f5965cac7",
   "metadata": {},
   "outputs": [],
   "source": [
    "X0_val = np.random.normal(mu_0, sigma_0, n_data_points)\n",
    "X1_val = np.random.normal(mu_1, sigma_1, n_data_points)"
   ]
  },
  {
   "cell_type": "code",
   "execution_count": 15,
   "id": "288220be-15aa-4c41-99e7-e2b0b61b69f7",
   "metadata": {},
   "outputs": [],
   "source": [
    "# Load the best model weights\n",
    "model.load_state_dict(best_model_weights)\n",
    "\n",
    "weights = reweight_fn(model, X0_val.reshape(-1, 1))"
   ]
  },
  {
   "cell_type": "code",
   "execution_count": 16,
   "id": "a413b6d5-9099-4839-aff3-3cf702e3bfd8",
   "metadata": {},
   "outputs": [
    {
     "data": {
      "image/png": "[encoded data removed]",
      "text/plain": [
       "<Figure size 640x480 with 1 Axes>"
      ]
     },
     "metadata": {},
     "output_type": "display_data"
    }
   ],
   "source": [
    "bins = np.linspace(-6, 6, 31)\n",
    "plt.hist(X0_val, bins=bins, alpha=0.5, label=r'$\\mu=0$')\n",
    "plt.hist(X0_val, bins=bins, label=r'$\\mu=0$ weighted', weights=weights, histtype='step', color='k')\n",
    "plt.hist(X1_val, bins=bins, alpha=0.5, label=r'$\\mu=1$')\n",
    "plt.legend(frameon=False)\n",
    "plt.show()"
   ]
  },
  {
   "cell_type": "markdown",
   "id": "89672c7a-0389-4192-98d8-0b13df6882b8",
   "metadata": {},
   "source": [
    "At this point, we have used a trained neural network to calculate the weights. In the next step, we will try to parameterize the neural network."
   ]
  },
  {
   "cell_type": "markdown",
   "id": "6491ecd7-949c-448b-975f-67a291a202c1",
   "metadata": {},
   "source": [
    "## Step 2"
   ]
  },
  {
   "cell_type": "markdown",
   "id": "881f3a48-27b2-4cfe-b046-f74343bf35ca",
   "metadata": {},
   "source": [
    "In this step, we will parameterize the neural network to calculate the weights for any $\\mu$.\n",
    "\n",
    "Let $x_{0} \\in \\mathcal{N}{0}(0, 1)$ with label 0, and $x{1} \\in \\mathcal{N}{1}(\\mu, 1)$ for $\\mu \\in [-2, 2]$. We train the neural network to classify $x_{0}$ and $x_{1}$"
   ]
  },
  {
   "cell_type": "code",
   "execution_count": 17,
   "id": "7d70a29f-02b4-4f1c-8d27-4788d78bec4a",
   "metadata": {},
   "outputs": [],
   "source": [
    "# Create data\n",
    "n_data_points = 10**5\n",
    "mu_min = -2\n",
    "mu_max = 2\n",
    "mu_values = np.random.uniform(mu_min, mu_max, n_data_points)\n",
    "\n",
    "X0 = [(np.random.normal(0, 1), mu) for mu in mu_values] # Note the zero in normal(0, 1)\n",
    "X1 = [(np.random.normal(mu, 1), mu) for mu in mu_values]\n",
    "\n",
    "Y0 = np.zeros(n_data_points)\n",
    "Y1 = np.ones(n_data_points)\n",
    "\n",
    "X = np.concatenate((X0, X1))\n",
    "Y = np.concatenate((Y0, Y1)).reshape(-1, 1)\n",
    "\n",
    "X_train, X_test, Y_train, Y_test = train_test_split(X, Y, test_size=0.4, shuffle=True)\n",
    "\n",
    "# Convert data to PyTorch tensors\n",
    "X_train_tensor = torch.from_numpy(X_train).float()\n",
    "Y_train_tensor = torch.from_numpy(Y_train).float()\n",
    "\n",
    "X_test_tensor = torch.from_numpy(X_test).float()\n",
    "Y_test_tensor = torch.from_numpy(Y_test).float()\n",
    "\n",
    "# Create PyTorch datasets and dataloaders\n",
    "train_dataset = TensorDataset(X_train_tensor, Y_train_tensor)\n",
    "test_dataset = TensorDataset(X_test_tensor, Y_test_tensor)\n",
    "\n",
    "train_loader = DataLoader(train_dataset, batch_size=batch_size, shuffle=True)\n",
    "test_loader = DataLoader(test_dataset, batch_size=batch_size, shuffle=False)"
   ]
  },
  {
   "cell_type": "code",
   "execution_count": 18,
   "id": "8c0a7e3e-ec90-4f1d-bf2f-511ff99ffc63",
   "metadata": {},
   "outputs": [],
   "source": [
    "fit_model = GaussClassifier(input_dim=2, hidden_dim=50)"
   ]
  },
  {
   "cell_type": "code",
   "execution_count": 19,
   "id": "ae4a7710-77cf-4d1c-ac33-a36268a85eaf",
   "metadata": {},
   "outputs": [],
   "source": [
    "# Define the loss function and optimizer\n",
    "criterion = nn.BCELoss()\n",
    "optimizer = optim.Adam(fit_model.parameters(), lr=0.001)"
   ]
  },
  {
   "cell_type": "code",
   "execution_count": 20,
   "id": "d87dd5d1-4710-4ed5-acc8-b2478c1c26d3",
   "metadata": {},
   "outputs": [],
   "source": [
    "# Move the model to GPU if available\n",
    "fit_model = fit_model.to(device)"
   ]
  },
  {
   "cell_type": "code",
   "execution_count": 21,
   "id": "9a466a74-dc42-4951-b0a2-ecfbab257391",
   "metadata": {},
   "outputs": [
    {
     "name": "stdout",
     "output_type": "stream",
     "text": [
      "using device : cpu\n",
      "GaussClassifier(\n",
      "  (fc1): Linear(in_features=2, out_features=50, bias=True)\n",
      "  (fc2): Linear(in_features=50, out_features=50, bias=True)\n",
      "  (fc3): Linear(in_features=50, out_features=50, bias=True)\n",
      "  (fc4): Linear(in_features=50, out_features=1, bias=True)\n",
      "  (relu): ReLU()\n",
      "  (sigmoid): Sigmoid()\n",
      ")\n",
      "total trainable params: 5301\n"
     ]
    }
   ],
   "source": [
    "# Model summary\n",
    "print(\"using device : {}\".format(device))\n",
    "total_trainable_params = sum(p.numel() for p in fit_model.parameters() if p.requires_grad)\n",
    "print(fit_model)\n",
    "print('total trainable params: {}'.format(total_trainable_params))"
   ]
  },
  {
   "cell_type": "code",
   "execution_count": 22,
   "id": "eec18407-4d76-471e-9065-8e8219ffda7c",
   "metadata": {},
   "outputs": [
    {
     "name": "stdout",
     "output_type": "stream",
     "text": [
      "Epoch 1: Train Loss = 0.6013, Test Loss = 0.5660\n",
      "Epoch 2: Train Loss = 0.5654, Test Loss = 0.5645\n",
      "Epoch 3: Train Loss = 0.5645, Test Loss = 0.5633\n",
      "Epoch 4: Train Loss = 0.5641, Test Loss = 0.5640\n",
      "Epoch 5: Train Loss = 0.5640, Test Loss = 0.5642\n",
      "Epoch 6: Train Loss = 0.5640, Test Loss = 0.5633\n",
      "Epoch 7: Train Loss = 0.5640, Test Loss = 0.5641\n",
      "Epoch 8: Train Loss = 0.5639, Test Loss = 0.5633\n",
      "Epoch 9: Train Loss = 0.5640, Test Loss = 0.5636\n",
      "Epoch 10: Train Loss = 0.5637, Test Loss = 0.5633\n",
      "Epoch 11: Train Loss = 0.5637, Test Loss = 0.5636\n",
      "Epoch 12: Train Loss = 0.5636, Test Loss = 0.5632\n",
      "Epoch 13: Train Loss = 0.5634, Test Loss = 0.5631\n",
      "Epoch 14: Train Loss = 0.5635, Test Loss = 0.5630\n",
      "Epoch 15: Train Loss = 0.5635, Test Loss = 0.5639\n",
      "Epoch 16: Train Loss = 0.5633, Test Loss = 0.5630\n",
      "Epoch 17: Train Loss = 0.5632, Test Loss = 0.5629\n",
      "Epoch 18: Train Loss = 0.5635, Test Loss = 0.5630\n",
      "Epoch 19: Train Loss = 0.5634, Test Loss = 0.5629\n",
      "Epoch 20: Train Loss = 0.5632, Test Loss = 0.5632\n",
      "Epoch 21: Train Loss = 0.5634, Test Loss = 0.5630\n",
      "Epoch 22: Train Loss = 0.5634, Test Loss = 0.5634\n",
      "Epoch 23: Train Loss = 0.5633, Test Loss = 0.5629\n",
      "Epoch 24: Train Loss = 0.5635, Test Loss = 0.5634\n",
      "Epoch 25: Train Loss = 0.5633, Test Loss = 0.5641\n",
      "Epoch 26: Train Loss = 0.5634, Test Loss = 0.5632\n",
      "Epoch 27: Train Loss = 0.5632, Test Loss = 0.5634\n",
      "Epoch 28: Train Loss = 0.5631, Test Loss = 0.5635\n",
      "Epoch 29: Train Loss = 0.5633, Test Loss = 0.5629\n",
      "Epoch 30: Train Loss = 0.5631, Test Loss = 0.5629\n",
      "Epoch 31: Train Loss = 0.5632, Test Loss = 0.5632\n",
      "Epoch 32: Train Loss = 0.5633, Test Loss = 0.5630\n",
      "Epoch 33: Train Loss = 0.5631, Test Loss = 0.5630\n",
      "Early stopping at epoch 32\n"
     ]
    }
   ],
   "source": [
    "# Training loop\n",
    "epochs = 200\n",
    "early_stopping_patience = 10\n",
    "\n",
    "# Compile\n",
    "opt_train = torch.compile(train_model, mode=\"max-autotune\")\n",
    "\n",
    "best_model_weights = opt_train(fit_model, train_loader, test_loader, criterion, optimizer, device, epochs, early_stopping_patience)"
   ]
  },
  {
   "cell_type": "code",
   "execution_count": 23,
   "id": "01a96388-418b-4899-a446-bb7291f103e9",
   "metadata": {},
   "outputs": [],
   "source": [
    "# Validate\n",
    "\n",
    "mu_1 = -1.2\n",
    "assert mu_min <= mu_1 <= mu_max  # choose mu1 in valid range\n",
    "\n",
    "X0_val = np.random.normal(0, 1, n_data_points)\n",
    "X1_val = np.random.normal(mu_1, 1, n_data_points)\n",
    "\n",
    "X_input = np.array([(x, mu_1) for x in X0_val])\n",
    "\n",
    "# Load the best model weights\n",
    "fit_model.load_state_dict(best_model_weights)\n",
    "\n",
    "weights = reweight_fn(fit_model, X_input)"
   ]
  },
  {
   "cell_type": "code",
   "execution_count": 24,
   "id": "db38ab28-0a5f-43ce-ab77-21d8b596f4e4",
   "metadata": {},
   "outputs": [
    {
     "data": {
      "image/png": "[encoded data removed]",
      "text/plain": [
       "<Figure size 640x480 with 1 Axes>"
      ]
     },
     "metadata": {},
     "output_type": "display_data"
    }
   ],
   "source": [
    "bins = np.linspace(-6, 6, 31)\n",
    "plt.hist(X0_val, bins=bins, alpha=0.5, label=r'$\\mu=0$')\n",
    "plt.hist(X0_val, bins=bins, label=r'$\\mu=0$ wgt.', weights=weights, histtype='step', color='k')\n",
    "plt.hist(X1_val, bins=bins, alpha=0.5, label=r'$\\mu={}$'.format(mu_1))\n",
    "plt.legend(frameon=False)\n",
    "plt.show()"
   ]
  },
  {
   "cell_type": "markdown",
   "id": "480be1f2-6bf6-4664-b9a0-2ed1dd1198c4",
   "metadata": {},
   "source": [
    "Now we have parameterized the neural network to calculate the weights for any $\\mu$ values. We can now use this neural network to extract the unknown parameters."
   ]
  },
  {
   "cell_type": "markdown",
   "id": "378d3d2b-3697-4576-8a63-11e29bcdd53a",
   "metadata": {},
   "source": [
    "## Step 3"
   ]
  },
  {
   "cell_type": "markdown",
   "id": "77cb83e3-c6c6-4080-a828-d00790cf8df3",
   "metadata": {},
   "source": [
    "In this step we extract the unknown parameter by minimizing the loss using the gradient decent algorithem."
   ]
  },
  {
   "cell_type": "code",
   "execution_count": 25,
   "id": "873476c4-e907-4051-b73f-fc9e042eb07d",
   "metadata": {},
   "outputs": [],
   "source": [
    "# Fit the model\n",
    "def fit_fn(epochs, add_params_layer, fit_model, data_loader, device, optimizer, loss_fn):\n",
    "    losses = []\n",
    "    fit_vals = []\n",
    "\n",
    "    for epoch in range(epochs):\n",
    "        add_params_layer.train()\n",
    "        running_loss = 0.0\n",
    "        for batch_inputs, batch_labels in data_loader:\n",
    "            batch_inputs = batch_inputs.to(device)\n",
    "            batch_labels = batch_labels.to(device)\n",
    "\n",
    "            # Forward pass\n",
    "            optimizer.zero_grad()\n",
    "            output = fit_model(add_params_layer(batch_inputs))\n",
    "\n",
    "            # Compute the loss\n",
    "            loss = loss_fn(output, batch_labels)\n",
    "\n",
    "            # Backward pass and update weights\n",
    "            loss.backward()\n",
    "            optimizer.step()\n",
    "\n",
    "            running_loss += loss.item() * batch_inputs.size(0)\n",
    "\n",
    "        epoch_loss = running_loss / len(data_loader.dataset)\n",
    "        print(\"epoch : {}, loss = {:.4f}, mu = {:.4f}\".format(epoch + 1, epoch_loss, add_params_layer.params.item()))\n",
    "        losses.append(epoch_loss)\n",
    "        fit_vals.append(add_params_layer.params.item())\n",
    "\n",
    "    return losses, fit_vals"
   ]
  },
  {
   "cell_type": "code",
   "execution_count": 26,
   "id": "cf8041c9-e7ce-4e92-8dea-9622ece56518",
   "metadata": {},
   "outputs": [],
   "source": [
    "# module used to add parameter for fitting\n",
    "class AddParams2Input(nn.Module):\n",
    "    def __init__(self, params):\n",
    "        super(AddParams2Input, self).__init__()\n",
    "        self.params = nn.Parameter(torch.Tensor(params), requires_grad=True)\n",
    "\n",
    "    def forward(self, inputs):\n",
    "        batch_params = torch.ones((inputs.size(0), 1), device=inputs.device) * self.params.to(device=inputs.device)\n",
    "        concatenated = torch.cat([inputs, batch_params], dim=-1)\n",
    "        return concatenated"
   ]
  },
  {
   "cell_type": "code",
   "execution_count": 27,
   "id": "cb4ed537-3ae4-4549-a9f7-ce06cfceeed4",
   "metadata": {},
   "outputs": [],
   "source": [
    "# Create data\n",
    "mu_secret = 1.3\n",
    "X_mystery = np.random.normal(mu_secret, 1, n_data_points)\n",
    "\n",
    "\n",
    "Y0 = np.zeros(n_data_points)\n",
    "Y1 = np.ones(n_data_points)\n",
    "\n",
    "X = np.concatenate((np.array(X0)[:,0], X_mystery)).reshape(-1, 1)\n",
    "Y = np.concatenate((Y0, Y1)).reshape(-1, 1)\n",
    "\n",
    "# Create PyTorch datasets and dataloaders\n",
    "dataset = TensorDataset(torch.Tensor(X), torch.Tensor(Y).float())\n",
    "\n",
    "data_loader = DataLoader(dataset, batch_size=batch_size, shuffle=True)"
   ]
  },
  {
   "cell_type": "code",
   "execution_count": 28,
   "id": "76f532fb-7ff2-4b4a-ad29-e1e8e10549c1",
   "metadata": {},
   "outputs": [],
   "source": [
    "# Load the best model weights\n",
    "fit_model.load_state_dict(best_model_weights)\n",
    "\n",
    "# Define the parameters\n",
    "mu_fit_init = [0.]\n",
    "\n",
    "# Create the AddParams2Input layer\n",
    "add_params_layer = AddParams2Input(mu_fit_init)"
   ]
  },
  {
   "cell_type": "markdown",
   "id": "328e7610-fa57-4248-ade7-de6ae692928c",
   "metadata": {},
   "source": [
    "Since we have trained the neural network to calculate the weights for any $\\mu$, we can freeze the weights and biases. Now, we only need to optimize one parameter."
   ]
  },
  {
   "cell_type": "code",
   "execution_count": 29,
   "id": "35cb6bd6-3350-45b4-ad17-08932958e2cf",
   "metadata": {},
   "outputs": [],
   "source": [
    "# Set all weights in fit model to non-trainable\n",
    "for param in fit_model.parameters():\n",
    "    param.requires_grad = False"
   ]
  },
  {
   "cell_type": "code",
   "execution_count": 30,
   "id": "01d6a2bf-8e9b-4635-8901-3f16903421fa",
   "metadata": {},
   "outputs": [],
   "source": [
    "# Define the loss function and optimizer\n",
    "loss_fn = nn.BCELoss()\n",
    "optimizer = torch.optim.Adam(add_params_layer.parameters(), lr=0.0001)"
   ]
  },
  {
   "cell_type": "code",
   "execution_count": 31,
   "id": "53e84ff3-4c3d-4b6f-acd1-38033f72585e",
   "metadata": {},
   "outputs": [],
   "source": [
    "# Transfer models to GPU\n",
    "add_params_layer = add_params_layer.to(device)\n",
    "fit_model = fit_model.to(device)"
   ]
  },
  {
   "cell_type": "code",
   "execution_count": 32,
   "id": "4eba02d5-2e0f-4756-9e96-0bf054f378a7",
   "metadata": {},
   "outputs": [
    {
     "name": "stdout",
     "output_type": "stream",
     "text": [
      "using device : cpu\n",
      "GaussClassifier(\n",
      "  (fc1): Linear(in_features=2, out_features=50, bias=True)\n",
      "  (fc2): Linear(in_features=50, out_features=50, bias=True)\n",
      "  (fc3): Linear(in_features=50, out_features=50, bias=True)\n",
      "  (fc4): Linear(in_features=50, out_features=1, bias=True)\n",
      "  (relu): ReLU()\n",
      "  (sigmoid): Sigmoid()\n",
      ")\n",
      "total trainable params in fit model: 0\n",
      "AddParams2Input()\n",
      "total trainable params in fit model: 1\n"
     ]
    }
   ],
   "source": [
    "# Model summary\n",
    "print(\"using device : {}\".format(device))\n",
    "fit_trainable_params = sum(p.numel() for p in fit_model.parameters() if p.requires_grad)\n",
    "print(fit_model)\n",
    "print('total trainable params in fit model: {}'.format(fit_trainable_params))\n",
    "\n",
    "total_trainable_params = sum(p.numel() for p in add_params_layer.parameters() if p.requires_grad)\n",
    "print(add_params_layer)\n",
    "print('total trainable params in fit model: {}'.format(total_trainable_params))"
   ]
  },
  {
   "cell_type": "code",
   "execution_count": 33,
   "id": "cd4623b6-127a-422e-9252-a649a5be14a3",
   "metadata": {},
   "outputs": [
    {
     "name": "stdout",
     "output_type": "stream",
     "text": [
      "epoch : 1, loss = 0.6977, mu = 0.0199\n",
      "epoch : 2, loss = 0.6913, mu = 0.0395\n",
      "epoch : 3, loss = 0.6852, mu = 0.0590\n",
      "epoch : 4, loss = 0.6792, mu = 0.0783\n",
      "epoch : 5, loss = 0.6734, mu = 0.0974\n",
      "epoch : 6, loss = 0.6678, mu = 0.1163\n",
      "epoch : 7, loss = 0.6624, mu = 0.1352\n",
      "epoch : 8, loss = 0.6571, mu = 0.1539\n",
      "epoch : 9, loss = 0.6520, mu = 0.1725\n",
      "epoch : 10, loss = 0.6470, mu = 0.1910\n",
      "epoch : 11, loss = 0.6422, mu = 0.2093\n",
      "epoch : 12, loss = 0.6376, mu = 0.2272\n",
      "epoch : 13, loss = 0.6332, mu = 0.2450\n",
      "epoch : 14, loss = 0.6290, mu = 0.2628\n",
      "epoch : 15, loss = 0.6249, mu = 0.2804\n",
      "epoch : 16, loss = 0.6209, mu = 0.2980\n",
      "epoch : 17, loss = 0.6171, mu = 0.3155\n",
      "epoch : 18, loss = 0.6133, mu = 0.3329\n",
      "epoch : 19, loss = 0.6097, mu = 0.3503\n",
      "epoch : 20, loss = 0.6063, mu = 0.3673\n",
      "epoch : 21, loss = 0.6030, mu = 0.3842\n",
      "epoch : 22, loss = 0.6000, mu = 0.4008\n",
      "epoch : 23, loss = 0.5971, mu = 0.4173\n",
      "epoch : 24, loss = 0.5943, mu = 0.4339\n",
      "epoch : 25, loss = 0.5915, mu = 0.4506\n",
      "epoch : 26, loss = 0.5888, mu = 0.4673\n",
      "epoch : 27, loss = 0.5862, mu = 0.4841\n",
      "epoch : 28, loss = 0.5836, mu = 0.5012\n",
      "epoch : 29, loss = 0.5810, mu = 0.5183\n",
      "epoch : 30, loss = 0.5784, mu = 0.5356\n",
      "epoch : 31, loss = 0.5759, mu = 0.5529\n",
      "epoch : 32, loss = 0.5734, mu = 0.5703\n",
      "epoch : 33, loss = 0.5710, mu = 0.5878\n",
      "epoch : 34, loss = 0.5686, mu = 0.6054\n",
      "epoch : 35, loss = 0.5662, mu = 0.6229\n",
      "epoch : 36, loss = 0.5639, mu = 0.6405\n",
      "epoch : 37, loss = 0.5617, mu = 0.6580\n",
      "epoch : 38, loss = 0.5595, mu = 0.6755\n",
      "epoch : 39, loss = 0.5573, mu = 0.6929\n",
      "epoch : 40, loss = 0.5553, mu = 0.7103\n",
      "epoch : 41, loss = 0.5532, mu = 0.7276\n",
      "epoch : 42, loss = 0.5513, mu = 0.7449\n",
      "epoch : 43, loss = 0.5494, mu = 0.7621\n",
      "epoch : 44, loss = 0.5476, mu = 0.7793\n",
      "epoch : 45, loss = 0.5458, mu = 0.7964\n",
      "epoch : 46, loss = 0.5441, mu = 0.8134\n",
      "epoch : 47, loss = 0.5424, mu = 0.8304\n",
      "epoch : 48, loss = 0.5408, mu = 0.8474\n",
      "epoch : 49, loss = 0.5393, mu = 0.8643\n",
      "epoch : 50, loss = 0.5378, mu = 0.8811\n",
      "epoch : 51, loss = 0.5363, mu = 0.8978\n",
      "epoch : 52, loss = 0.5349, mu = 0.9144\n",
      "epoch : 53, loss = 0.5336, mu = 0.9309\n",
      "epoch : 54, loss = 0.5324, mu = 0.9472\n",
      "epoch : 55, loss = 0.5312, mu = 0.9634\n",
      "epoch : 56, loss = 0.5300, mu = 0.9794\n",
      "epoch : 57, loss = 0.5289, mu = 0.9953\n",
      "epoch : 58, loss = 0.5279, mu = 1.0110\n",
      "epoch : 59, loss = 0.5270, mu = 1.0266\n",
      "epoch : 60, loss = 0.5260, mu = 1.0419\n",
      "epoch : 61, loss = 0.5252, mu = 1.0570\n",
      "epoch : 62, loss = 0.5244, mu = 1.0719\n",
      "epoch : 63, loss = 0.5237, mu = 1.0864\n",
      "epoch : 64, loss = 0.5230, mu = 1.1008\n",
      "epoch : 65, loss = 0.5224, mu = 1.1148\n",
      "epoch : 66, loss = 0.5218, mu = 1.1284\n",
      "epoch : 67, loss = 0.5213, mu = 1.1417\n",
      "epoch : 68, loss = 0.5208, mu = 1.1545\n",
      "epoch : 69, loss = 0.5204, mu = 1.1668\n",
      "epoch : 70, loss = 0.5201, mu = 1.1788\n",
      "epoch : 71, loss = 0.5197, mu = 1.1904\n",
      "epoch : 72, loss = 0.5195, mu = 1.2012\n",
      "epoch : 73, loss = 0.5192, mu = 1.2117\n",
      "epoch : 74, loss = 0.5190, mu = 1.2215\n",
      "epoch : 75, loss = 0.5189, mu = 1.2308\n",
      "epoch : 76, loss = 0.5187, mu = 1.2394\n",
      "epoch : 77, loss = 0.5186, mu = 1.2476\n",
      "epoch : 78, loss = 0.5185, mu = 1.2547\n",
      "epoch : 79, loss = 0.5185, mu = 1.2614\n",
      "epoch : 80, loss = 0.5184, mu = 1.2672\n",
      "epoch : 81, loss = 0.5184, mu = 1.2724\n",
      "epoch : 82, loss = 0.5184, mu = 1.2769\n",
      "epoch : 83, loss = 0.5183, mu = 1.2810\n",
      "epoch : 84, loss = 0.5183, mu = 1.2842\n",
      "epoch : 85, loss = 0.5183, mu = 1.2870\n",
      "epoch : 86, loss = 0.5183, mu = 1.2895\n",
      "epoch : 87, loss = 0.5183, mu = 1.2912\n",
      "epoch : 88, loss = 0.5183, mu = 1.2931\n",
      "epoch : 89, loss = 0.5183, mu = 1.2943\n",
      "epoch : 90, loss = 0.5183, mu = 1.2950\n",
      "epoch : 91, loss = 0.5183, mu = 1.2959\n",
      "epoch : 92, loss = 0.5183, mu = 1.2965\n",
      "epoch : 93, loss = 0.5183, mu = 1.2968\n",
      "epoch : 94, loss = 0.5183, mu = 1.2969\n",
      "epoch : 95, loss = 0.5183, mu = 1.2976\n",
      "epoch : 96, loss = 0.5183, mu = 1.2977\n",
      "epoch : 97, loss = 0.5183, mu = 1.2974\n",
      "epoch : 98, loss = 0.5183, mu = 1.2978\n",
      "epoch : 99, loss = 0.5183, mu = 1.2977\n",
      "epoch : 100, loss = 0.5183, mu = 1.2981\n",
      "epoch : 101, loss = 0.5183, mu = 1.2977\n",
      "epoch : 102, loss = 0.5183, mu = 1.2976\n",
      "epoch : 103, loss = 0.5183, mu = 1.2979\n",
      "epoch : 104, loss = 0.5183, mu = 1.2981\n",
      "epoch : 105, loss = 0.5183, mu = 1.2977\n",
      "epoch : 106, loss = 0.5183, mu = 1.2977\n",
      "epoch : 107, loss = 0.5183, mu = 1.2981\n",
      "epoch : 108, loss = 0.5183, mu = 1.2981\n",
      "epoch : 109, loss = 0.5183, mu = 1.2981\n",
      "epoch : 110, loss = 0.5183, mu = 1.2978\n",
      "epoch : 111, loss = 0.5183, mu = 1.2979\n",
      "epoch : 112, loss = 0.5183, mu = 1.2976\n",
      "epoch : 113, loss = 0.5183, mu = 1.2975\n",
      "epoch : 114, loss = 0.5183, mu = 1.2978\n",
      "epoch : 115, loss = 0.5183, mu = 1.2983\n",
      "epoch : 116, loss = 0.5183, mu = 1.2982\n",
      "epoch : 117, loss = 0.5183, mu = 1.2977\n",
      "epoch : 118, loss = 0.5183, mu = 1.2979\n",
      "epoch : 119, loss = 0.5183, mu = 1.2980\n",
      "epoch : 120, loss = 0.5183, mu = 1.2978\n",
      "epoch : 121, loss = 0.5183, mu = 1.2980\n",
      "epoch : 122, loss = 0.5183, mu = 1.2979\n",
      "epoch : 123, loss = 0.5183, mu = 1.2978\n",
      "epoch : 124, loss = 0.5183, mu = 1.2977\n",
      "epoch : 125, loss = 0.5183, mu = 1.2978\n",
      "epoch : 126, loss = 0.5183, mu = 1.2977\n",
      "epoch : 127, loss = 0.5183, mu = 1.2977\n",
      "epoch : 128, loss = 0.5183, mu = 1.2977\n",
      "epoch : 129, loss = 0.5183, mu = 1.2978\n",
      "epoch : 130, loss = 0.5183, mu = 1.2981\n",
      "epoch : 131, loss = 0.5183, mu = 1.2978\n",
      "epoch : 132, loss = 0.5183, mu = 1.2981\n",
      "epoch : 133, loss = 0.5183, mu = 1.2978\n",
      "epoch : 134, loss = 0.5183, mu = 1.2975\n",
      "epoch : 135, loss = 0.5183, mu = 1.2979\n",
      "epoch : 136, loss = 0.5183, mu = 1.2978\n",
      "epoch : 137, loss = 0.5183, mu = 1.2976\n",
      "epoch : 138, loss = 0.5183, mu = 1.2979\n",
      "epoch : 139, loss = 0.5183, mu = 1.2972\n",
      "epoch : 140, loss = 0.5183, mu = 1.2974\n",
      "epoch : 141, loss = 0.5183, mu = 1.2977\n",
      "epoch : 142, loss = 0.5183, mu = 1.2980\n",
      "epoch : 143, loss = 0.5183, mu = 1.2974\n",
      "epoch : 144, loss = 0.5183, mu = 1.2979\n",
      "epoch : 145, loss = 0.5183, mu = 1.2978\n",
      "epoch : 146, loss = 0.5183, mu = 1.2979\n",
      "epoch : 147, loss = 0.5183, mu = 1.2979\n",
      "epoch : 148, loss = 0.5183, mu = 1.2982\n",
      "epoch : 149, loss = 0.5183, mu = 1.2979\n",
      "epoch : 150, loss = 0.5183, mu = 1.2976\n",
      "epoch : 151, loss = 0.5183, mu = 1.2981\n",
      "epoch : 152, loss = 0.5183, mu = 1.2982\n",
      "epoch : 153, loss = 0.5183, mu = 1.2981\n",
      "epoch : 154, loss = 0.5183, mu = 1.2981\n",
      "epoch : 155, loss = 0.5183, mu = 1.2983\n",
      "epoch : 156, loss = 0.5183, mu = 1.2981\n",
      "epoch : 157, loss = 0.5183, mu = 1.2979\n",
      "epoch : 158, loss = 0.5183, mu = 1.2978\n",
      "epoch : 159, loss = 0.5183, mu = 1.2980\n",
      "epoch : 160, loss = 0.5183, mu = 1.2977\n",
      "epoch : 161, loss = 0.5183, mu = 1.2980\n",
      "epoch : 162, loss = 0.5183, mu = 1.2978\n",
      "epoch : 163, loss = 0.5183, mu = 1.2977\n",
      "epoch : 164, loss = 0.5183, mu = 1.2979\n",
      "epoch : 165, loss = 0.5183, mu = 1.2981\n",
      "epoch : 166, loss = 0.5183, mu = 1.2981\n",
      "epoch : 167, loss = 0.5183, mu = 1.2978\n",
      "epoch : 168, loss = 0.5183, mu = 1.2979\n",
      "epoch : 169, loss = 0.5183, mu = 1.2981\n",
      "epoch : 170, loss = 0.5183, mu = 1.2980\n",
      "epoch : 171, loss = 0.5183, mu = 1.2979\n",
      "epoch : 172, loss = 0.5183, mu = 1.2981\n",
      "epoch : 173, loss = 0.5183, mu = 1.2980\n",
      "epoch : 174, loss = 0.5183, mu = 1.2976\n",
      "epoch : 175, loss = 0.5183, mu = 1.2979\n",
      "epoch : 176, loss = 0.5183, mu = 1.2982\n",
      "epoch : 177, loss = 0.5183, mu = 1.2981\n",
      "epoch : 178, loss = 0.5183, mu = 1.2980\n",
      "epoch : 179, loss = 0.5183, mu = 1.2981\n",
      "epoch : 180, loss = 0.5183, mu = 1.2982\n",
      "epoch : 181, loss = 0.5183, mu = 1.2983\n",
      "epoch : 182, loss = 0.5183, mu = 1.2979\n",
      "epoch : 183, loss = 0.5183, mu = 1.2981\n",
      "epoch : 184, loss = 0.5183, mu = 1.2979\n",
      "epoch : 185, loss = 0.5183, mu = 1.2974\n",
      "epoch : 186, loss = 0.5183, mu = 1.2980\n",
      "epoch : 187, loss = 0.5183, mu = 1.2980\n",
      "epoch : 188, loss = 0.5183, mu = 1.2979\n",
      "epoch : 189, loss = 0.5183, mu = 1.2980\n",
      "epoch : 190, loss = 0.5183, mu = 1.2982\n",
      "epoch : 191, loss = 0.5183, mu = 1.2978\n",
      "epoch : 192, loss = 0.5183, mu = 1.2980\n",
      "epoch : 193, loss = 0.5183, mu = 1.2981\n",
      "epoch : 194, loss = 0.5183, mu = 1.2983\n",
      "epoch : 195, loss = 0.5183, mu = 1.2980\n",
      "epoch : 196, loss = 0.5183, mu = 1.2979\n",
      "epoch : 197, loss = 0.5183, mu = 1.2980\n",
      "epoch : 198, loss = 0.5183, mu = 1.2977\n",
      "epoch : 199, loss = 0.5183, mu = 1.2980\n",
      "epoch : 200, loss = 0.5183, mu = 1.2981\n"
     ]
    }
   ],
   "source": [
    "# Training loop\n",
    "epochs = 200\n",
    "\n",
    "# Compile\n",
    "opt_fit =  torch.compile(fit_fn, mode=\"max-autotune\")\n",
    "\n",
    "losses, fit_vals = opt_fit(epochs, add_params_layer, fit_model, data_loader, device, optimizer, loss_fn)"
   ]
  },
  {
   "cell_type": "code",
   "execution_count": 34,
   "id": "cd0fa170-6d6e-4e18-9b83-c123ae9cab84",
   "metadata": {},
   "outputs": [
    {
     "data": {
      "image/png": "[encoded data removed]",
      "text/plain": [
       "<Figure size 640x480 with 1 Axes>"
      ]
     },
     "metadata": {},
     "output_type": "display_data"
    }
   ],
   "source": [
    "plt.plot(fit_vals, label='Fit', color='r')\n",
    "plt.hlines(mu_secret, 0, len(fit_vals), label='Truth')\n",
    "plt.xlabel(\"Epochs\")\n",
    "plt.ylabel(r'$\\mu_{fit}$')\n",
    "plt.legend(frameon=False)\n",
    "plt.show()"
   ]
  },
  {
   "cell_type": "code",
   "execution_count": null,
   "id": "74b665fd-35e3-4a21-b00d-83481023ffe5",
   "metadata": {},
   "outputs": [],
   "source": []
  }
 ],
 "metadata": {
  "kernelspec": {
   "display_name": "Python 3 (ipykernel)",
   "language": "python",
   "name": "python3"
  },
  "language_info": {
   "codemirror_mode": {
    "name": "ipython",
    "version": 3
   },
   "file_extension": ".py",
   "mimetype": "text/x-python",
   "name": "python",
   "nbconvert_exporter": "python",
   "pygments_lexer": "ipython3",
   "version": "3.10.11"
  }
 },
 "nbformat": 4,
 "nbformat_minor": 5
}
