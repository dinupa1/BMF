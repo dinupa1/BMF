{
 "cells": [
  {
   "cell_type": "code",
   "execution_count": 1,
   "id": "682626de-8149-41ec-a51d-c66b8f679483",
   "metadata": {},
   "outputs": [],
   "source": [
    "import numpy as np\n",
    "import matplotlib.pyplot as plt\n",
    "\n",
    "import uproot\n",
    "import awkward as ak"
   ]
  },
  {
   "cell_type": "code",
   "execution_count": 2,
   "id": "e23b429c-e4df-4a42-817d-a6ef8ca5cd54",
   "metadata": {},
   "outputs": [],
   "source": [
    "# beam off set for rs67\n",
    "\n",
    "beamOffset = 1.6 # in cm"
   ]
  },
  {
   "cell_type": "code",
   "execution_count": 3,
   "id": "e6dfaabe-ef1c-47ff-8fed-3378d3e70569",
   "metadata": {},
   "outputs": [],
   "source": [
    "result = uproot.open(\"merged_RS67_3089LH2.root:result\")\n",
    "result_mix = uproot.open(\"merged_RS67_3089LH2.root:result_mix\")"
   ]
  },
  {
   "cell_type": "code",
   "execution_count": null,
   "id": "8ab5efa9-2488-4b98-bd04-af7ec9e02654",
   "metadata": {},
   "outputs": [],
   "source": [
    "def clean_tree(tree, beamOffset):\n",
    "\n",
    "    branches = tree.keys()\n",
    "\n",
    "    events = tree.arrays(branches)\n",
    "    \n",
    "    dimuonIsValid_2111_v42 = (np.abs(events.dx) < 0.25) & (np.abs((events.dy - beamOffset)) < 0.22) & "
   ]
  },
  {
   "cell_type": "code",
   "execution_count": null,
   "id": "33a444b9-e833-49af-a7b5-4d974d4dca46",
   "metadata": {},
   "outputs": [],
   "source": []
  }
 ],
 "metadata": {
  "kernelspec": {
   "display_name": "Python 3 (ipykernel)",
   "language": "python",
   "name": "python3"
  },
  "language_info": {
   "codemirror_mode": {
    "name": "ipython",
    "version": 3
   },
   "file_extension": ".py",
   "mimetype": "text/x-python",
   "name": "python",
   "nbconvert_exporter": "python",
   "pygments_lexer": "ipython3",
   "version": "3.11.7"
  }
 },
 "nbformat": 4,
 "nbformat_minor": 5
}
