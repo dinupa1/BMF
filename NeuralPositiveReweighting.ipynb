{
 "cells": [
  {
   "cell_type": "code",
   "execution_count": 1,
   "id": "962c4389-d0fa-4ee0-b89a-69a7d975b887",
   "metadata": {},
   "outputs": [],
   "source": [
    "import numpy as np\n",
    "import matplotlib.pyplot as plt\n",
    "\n",
    "import torch\n",
    "import torch.nn as nn\n",
    "import torch.optim as optim\n",
    "from torch.utils.data import DataLoader, TensorDataset\n",
    "import torch.nn.functional as F\n",
    "\n",
    "from sklearn.model_selection import train_test_split\n",
    "\n",
    "import uproot\n",
    "import awkward as ak"
   ]
  },
  {
   "cell_type": "code",
   "execution_count": 2,
   "id": "23f1ba7a-3d9f-4e2b-9648-26b5b4e9b73f",
   "metadata": {},
   "outputs": [],
   "source": [
    "# Check if CUDA is available\n",
    "device = torch.device(\"cuda\" if torch.cuda.is_available() else \"cpu\")"
   ]
  },
  {
   "attachments": {},
   "cell_type": "markdown",
   "id": "e4aaba88-16c2-4029-8c8c-68410371aba8",
   "metadata": {},
   "source": [
    "# Neural Positive Reweighting"
   ]
  },
  {
   "attachments": {},
   "cell_type": "markdown",
   "id": "e34294ab-dc5b-447b-9b53-9f188bf756c5",
   "metadata": {},
   "source": [
    "In the `E906` data analysis, we employ the event mixing method [arXiv:2302.04152 [hep-ex]](https://arxiv.org/abs/2302.04152) to estimate the combinatorial background. This method involves assigning negative weights to the background events. In this particular example, we calculate the weights for simulated Monte Carlo (MC) events that closely approximate the characteristics of the `E906` data. The details of this method are explained in [arXiv:2007.11586 [hep-ph]](https://arxiv.org/abs/2007.11586).\n",
    "\n",
    "Let's assume that $f(x)$ represents the output of a neural network trained to classify the `E906` data and MC events. In this case, the weights can be calculated as follows:\n",
    "\n",
    "$$\n",
    "w = \\frac{f(x)}{1 - f(x)}\n",
    "$$"
   ]
  },
  {
   "attachments": {},
   "cell_type": "markdown",
   "id": "2c3d4842-c150-4a23-a34f-9a96511a480e",
   "metadata": {},
   "source": [
    "Let's define a neural network with 3 hidden layers, each consisting of 32 nodes. All the hidden layers will be activated using the `ReLU` activation function, and the final output layer will be activated using the `Sigmoid` activation function."
   ]
  },
  {
   "cell_type": "code",
   "execution_count": 3,
   "id": "5a51d7ab-7e45-4f91-8aee-2e1ab4cc6b40",
   "metadata": {},
   "outputs": [],
   "source": [
    "class Net(nn.Module):\n",
    "    def __init__(self, input_dim: int = 1, output_dim: int = 1, hidden_dim: int = 32):\n",
    "        super(Net, self).__init__()\n",
    "        self.fc1 = nn.Linear(input_dim, hidden_dim, bias=True)\n",
    "        self.fc2 = nn.Linear(hidden_dim, hidden_dim, bias=True)\n",
    "        self.fc3 = nn.Linear(hidden_dim, hidden_dim, bias=True)\n",
    "        self.fc4 = nn.Linear(hidden_dim, output_dim, bias=True)\n",
    "        self.relu = nn.ReLU()\n",
    "        self.sigmoid = nn.Sigmoid()\n",
    "\n",
    "    def forward(self, x):\n",
    "        x = self.relu(self.fc1(x))\n",
    "        x = self.relu(self.fc2(x))\n",
    "        x = self.relu(self.fc3(x))\n",
    "        x = self.sigmoid(self.fc4(x))\n",
    "        return x"
   ]
  },
  {
   "cell_type": "code",
   "execution_count": 4,
   "id": "bbb0d201-7391-4644-9040-2791eda1bae9",
   "metadata": {},
   "outputs": [],
   "source": [
    "# Load E906 LH2 data\n",
    "\n",
    "batch_size = 1000\n",
    "\n",
    "tree1 = uproot.open(\"LH2Data.root:tree\")\n",
    "events1 = tree1.arrays([\"mass\", \"pT\", \"xF\", \"phi\", \"costh\", \"weight\"])\n",
    "\n",
    "n_LH2_events = events1.mass.to_numpy().shape[0]\n",
    "\n",
    "tree0 = uproot.open(\"BMFData.root:save\")\n",
    "events0 = tree0.arrays([\"mass\", \"pT\", \"xF\", \"phi\", \"costh\"])[:n_LH2_events]\n",
    "\n",
    "X0 = [(mass, pT, xF) for mass, pT, xF in zip(events0.mass, events0.pT, events0.xF)]\n",
    "X1 = [(mass, pT, xF) for mass, pT, xF in zip(events1.mass, events1.pT, events1.xF)]\n",
    "\n",
    "weight0 = np.ones(n_LH2_events)\n",
    "weight1 = events1.weight.to_numpy()\n",
    "\n",
    "Y0 = np.zeros(n_LH2_events)\n",
    "Y1 = np.ones(n_LH2_events)\n",
    "\n",
    "X = np.concatenate((X0, X1))\n",
    "Y = np.concatenate((Y0, Y1)).reshape(-1, 1)\n",
    "weight = np.concatenate((weight0, weight1)).reshape(-1, 1)\n",
    "\n",
    "# Convert to pytorch tensor\n",
    "X_tensor = torch.from_numpy(X).float()\n",
    "Y_tensor = torch.from_numpy(Y).float()\n",
    "W_tensor = torch.from_numpy(weight).float()\n",
    "\n",
    "# Train test split\n",
    "X_train, X_test, Y_train, Y_test, W_train, W_test = train_test_split(X_tensor, Y_tensor, W_tensor, test_size=0.4, shuffle=True)\n",
    "\n",
    "# Create dataset and data loader\n",
    "train_dataset = TensorDataset(X_train, Y_train, W_train)\n",
    "test_dataset = TensorDataset(X_test, Y_test, W_test)\n",
    "\n",
    "train_loader = DataLoader(train_dataset, batch_size=batch_size, shuffle=True)\n",
    "test_loader = DataLoader(test_dataset, batch_size=batch_size, shuffle=False)"
   ]
  },
  {
   "cell_type": "code",
   "execution_count": 5,
   "id": "05672436-b823-4fa7-933b-e12d56fdc80c",
   "metadata": {},
   "outputs": [],
   "source": [
    "# Custom loss function\n",
    "class NetLoss(nn.Module):\n",
    "    def __init__(self):\n",
    "        super(NetLoss, self).__init__()\n",
    "        \n",
    "    def forward(self, outputs, targets, weights):\n",
    "        criterion = nn.BCELoss(reduction=\"none\")\n",
    "        loss = criterion(outputs, targets)\n",
    "        weighted_loss = loss* weights\n",
    "        return weighted_loss.mean()"
   ]
  },
  {
   "cell_type": "code",
   "execution_count": 6,
   "id": "4285205f-de7f-4e77-9702-3a720871805e",
   "metadata": {},
   "outputs": [],
   "source": [
    "# Create the model\n",
    "model = Net(input_dim = 3)"
   ]
  },
  {
   "cell_type": "code",
   "execution_count": 7,
   "id": "ace58c39-9bc3-4f7e-a3f0-53dbdae52ab7",
   "metadata": {},
   "outputs": [],
   "source": [
    "criterion = NetLoss()\n",
    "optimizer = optim.Adam(model.parameters(), lr=0.001)"
   ]
  },
  {
   "cell_type": "code",
   "execution_count": 8,
   "id": "48caac54-9d39-4a10-9751-ac44940b8915",
   "metadata": {},
   "outputs": [],
   "source": [
    "# Move the model to GPU if available\n",
    "model = model.to(device=device)"
   ]
  },
  {
   "cell_type": "code",
   "execution_count": 9,
   "id": "7d5b54fc-6829-43a0-98b4-f62862bf5616",
   "metadata": {},
   "outputs": [
    {
     "name": "stdout",
     "output_type": "stream",
     "text": [
      "using device : cpu\n",
      "Net(\n",
      "  (fc1): Linear(in_features=3, out_features=32, bias=True)\n",
      "  (fc2): Linear(in_features=32, out_features=32, bias=True)\n",
      "  (fc3): Linear(in_features=32, out_features=32, bias=True)\n",
      "  (fc4): Linear(in_features=32, out_features=1, bias=True)\n",
      "  (relu): ReLU()\n",
      "  (sigmoid): Sigmoid()\n",
      ")\n",
      "total trainable params: 2273\n"
     ]
    }
   ],
   "source": [
    "# Model summary\n",
    "print(\"using device : {}\".format(device))\n",
    "total_trainable_params = sum(p.numel() for p in model.parameters() if p.requires_grad)\n",
    "print(model)\n",
    "print('total trainable params: {}'.format(total_trainable_params))"
   ]
  },
  {
   "cell_type": "code",
   "execution_count": 10,
   "id": "20b8b68d-6b8b-4570-beac-291fed76d3e5",
   "metadata": {},
   "outputs": [],
   "source": [
    "# Train step\n",
    "def train_model(model, train_loader, test_loader, criterion, optimizer, device, epochs, early_stopping_patience):\n",
    "    best_loss = float('inf')\n",
    "    best_model_weights = None\n",
    "    patience_counter = 0\n",
    "\n",
    "    for epoch in range(epochs):\n",
    "        model.train()\n",
    "        running_loss = 0.0\n",
    "        for batch_inputs, batch_labels, batch_weights in train_loader:\n",
    "            batch_inputs = batch_inputs.to(device)\n",
    "            batch_labels = batch_labels.to(device)\n",
    "            batch_weights = batch_weights.to(device)\n",
    "\n",
    "            optimizer.zero_grad()\n",
    "            outputs = model(batch_inputs)\n",
    "            loss = criterion(outputs, batch_labels, batch_weights)\n",
    "\n",
    "            loss.backward()\n",
    "            optimizer.step()\n",
    "            running_loss += loss.item() * batch_inputs.size(0)\n",
    "\n",
    "        epoch_loss = running_loss / len(train_loader.dataset)\n",
    "\n",
    "        # Evaluation\n",
    "        model.eval()\n",
    "        with torch.no_grad():\n",
    "            running_loss = 0.0\n",
    "            for batch_inputs, batch_labels, batch_weights in test_loader:\n",
    "                batch_inputs = batch_inputs.to(device)\n",
    "                batch_labels = batch_labels.to(device)\n",
    "                batch_weights = batch_weights.to(device)\n",
    "\n",
    "                outputs = model(batch_inputs)\n",
    "                loss = criterion(outputs, batch_labels, batch_weights)\n",
    "\n",
    "                running_loss += loss.item() * batch_inputs.size(0)\n",
    "\n",
    "            validation_loss = running_loss / len(test_loader.dataset)\n",
    "\n",
    "            print(\"Epoch {}: Train Loss = {:.4f}, Test Loss = {:.4f}\".format(epoch + 1, epoch_loss, validation_loss))\n",
    "\n",
    "            # Check for early stopping\n",
    "            if validation_loss < best_loss:\n",
    "                best_loss = validation_loss\n",
    "                best_model_weights = model.state_dict()\n",
    "                patience_counter = 0\n",
    "            else:\n",
    "                patience_counter += 1\n",
    "\n",
    "            if patience_counter >= early_stopping_patience:\n",
    "                print(\"Early stopping at epoch {}\".format(epoch))\n",
    "                break\n",
    "\n",
    "    return best_model_weights"
   ]
  },
  {
   "cell_type": "code",
   "execution_count": 11,
   "id": "d78978ce-f9ad-4e16-93fb-0a31c9436a07",
   "metadata": {},
   "outputs": [],
   "source": [
    "def reweight_fn(model, X_val):\n",
    "    # Move the model to CPU for evaluation\n",
    "    model = model.to(torch.device(\"cpu\"))\n",
    "\n",
    "    model.eval()\n",
    "    with torch.no_grad():\n",
    "        preds = model(torch.Tensor(X_val)).detach().numpy().ravel()\n",
    "        weights = preds / (1.0 - preds)\n",
    "    return weights"
   ]
  },
  {
   "cell_type": "code",
   "execution_count": 12,
   "id": "3b59c6be-1816-4111-ab71-d58fd3f04d26",
   "metadata": {},
   "outputs": [
    {
     "name": "stdout",
     "output_type": "stream",
     "text": [
      "Epoch 1: Train Loss = 0.6499, Test Loss = 0.6481\n",
      "Epoch 2: Train Loss = 0.6486, Test Loss = 0.6478\n",
      "Epoch 3: Train Loss = 0.6484, Test Loss = 0.6478\n",
      "Epoch 4: Train Loss = 0.6484, Test Loss = 0.6477\n",
      "Epoch 5: Train Loss = 0.6485, Test Loss = 0.6476\n",
      "Epoch 6: Train Loss = 0.6482, Test Loss = 0.6475\n",
      "Epoch 7: Train Loss = 0.6482, Test Loss = 0.6475\n",
      "Epoch 8: Train Loss = 0.6482, Test Loss = 0.6474\n",
      "Epoch 9: Train Loss = 0.6481, Test Loss = 0.6474\n",
      "Epoch 10: Train Loss = 0.6481, Test Loss = 0.6473\n",
      "Epoch 11: Train Loss = 0.6482, Test Loss = 0.6472\n",
      "Epoch 12: Train Loss = 0.6480, Test Loss = 0.6472\n",
      "Epoch 13: Train Loss = 0.6482, Test Loss = 0.6471\n",
      "Epoch 14: Train Loss = 0.6482, Test Loss = 0.6473\n",
      "Epoch 15: Train Loss = 0.6484, Test Loss = 0.6471\n",
      "Epoch 16: Train Loss = 0.6482, Test Loss = 0.6470\n",
      "Epoch 17: Train Loss = 0.6481, Test Loss = 0.6470\n",
      "Epoch 18: Train Loss = 0.6481, Test Loss = 0.6470\n",
      "Epoch 19: Train Loss = 0.6481, Test Loss = 0.6469\n",
      "Epoch 20: Train Loss = 0.6481, Test Loss = 0.6470\n",
      "Epoch 21: Train Loss = 0.6485, Test Loss = 0.6470\n",
      "Epoch 22: Train Loss = 0.6480, Test Loss = 0.6469\n",
      "Epoch 23: Train Loss = 0.6480, Test Loss = 0.6469\n",
      "Epoch 24: Train Loss = 0.6481, Test Loss = 0.6470\n",
      "Epoch 25: Train Loss = 0.6481, Test Loss = 0.6468\n",
      "Epoch 26: Train Loss = 0.6480, Test Loss = 0.6469\n",
      "Epoch 27: Train Loss = 0.6481, Test Loss = 0.6469\n",
      "Epoch 28: Train Loss = 0.6480, Test Loss = 0.6470\n",
      "Epoch 29: Train Loss = 0.6481, Test Loss = 0.6469\n",
      "Epoch 30: Train Loss = 0.6479, Test Loss = 0.6469\n",
      "Epoch 31: Train Loss = 0.6480, Test Loss = 0.6468\n",
      "Epoch 32: Train Loss = 0.6480, Test Loss = 0.6468\n",
      "Epoch 33: Train Loss = 0.6480, Test Loss = 0.6468\n",
      "Epoch 34: Train Loss = 0.6482, Test Loss = 0.6467\n",
      "Epoch 35: Train Loss = 0.6480, Test Loss = 0.6468\n",
      "Epoch 36: Train Loss = 0.6480, Test Loss = 0.6468\n",
      "Epoch 37: Train Loss = 0.6481, Test Loss = 0.6468\n",
      "Epoch 38: Train Loss = 0.6482, Test Loss = 0.6468\n",
      "Epoch 39: Train Loss = 0.6480, Test Loss = 0.6468\n",
      "Epoch 40: Train Loss = 0.6479, Test Loss = 0.6467\n",
      "Epoch 41: Train Loss = 0.6480, Test Loss = 0.6468\n",
      "Epoch 42: Train Loss = 0.6480, Test Loss = 0.6468\n",
      "Epoch 43: Train Loss = 0.6479, Test Loss = 0.6468\n",
      "Epoch 44: Train Loss = 0.6479, Test Loss = 0.6468\n",
      "Epoch 45: Train Loss = 0.6480, Test Loss = 0.6467\n",
      "Epoch 46: Train Loss = 0.6481, Test Loss = 0.6468\n",
      "Epoch 47: Train Loss = 0.6482, Test Loss = 0.6467\n",
      "Epoch 48: Train Loss = 0.6479, Test Loss = 0.6468\n",
      "Epoch 49: Train Loss = 0.6480, Test Loss = 0.6467\n",
      "Epoch 50: Train Loss = 0.6479, Test Loss = 0.6467\n",
      "Epoch 51: Train Loss = 0.6480, Test Loss = 0.6467\n",
      "Epoch 52: Train Loss = 0.6482, Test Loss = 0.6468\n",
      "Epoch 53: Train Loss = 0.6479, Test Loss = 0.6468\n",
      "Epoch 54: Train Loss = 0.6479, Test Loss = 0.6467\n",
      "Epoch 55: Train Loss = 0.6479, Test Loss = 0.6467\n",
      "Epoch 56: Train Loss = 0.6479, Test Loss = 0.6467\n",
      "Epoch 57: Train Loss = 0.6479, Test Loss = 0.6466\n",
      "Epoch 58: Train Loss = 0.6480, Test Loss = 0.6468\n",
      "Epoch 59: Train Loss = 0.6481, Test Loss = 0.6467\n",
      "Epoch 60: Train Loss = 0.6481, Test Loss = 0.6467\n",
      "Epoch 61: Train Loss = 0.6479, Test Loss = 0.6467\n",
      "Epoch 62: Train Loss = 0.6479, Test Loss = 0.6467\n",
      "Epoch 63: Train Loss = 0.6479, Test Loss = 0.6466\n",
      "Epoch 64: Train Loss = 0.6481, Test Loss = 0.6467\n",
      "Epoch 65: Train Loss = 0.6481, Test Loss = 0.6468\n",
      "Epoch 66: Train Loss = 0.6481, Test Loss = 0.6467\n",
      "Epoch 67: Train Loss = 0.6479, Test Loss = 0.6467\n",
      "Epoch 68: Train Loss = 0.6479, Test Loss = 0.6468\n",
      "Epoch 69: Train Loss = 0.6480, Test Loss = 0.6467\n",
      "Epoch 70: Train Loss = 0.6479, Test Loss = 0.6467\n",
      "Epoch 71: Train Loss = 0.6479, Test Loss = 0.6467\n",
      "Epoch 72: Train Loss = 0.6479, Test Loss = 0.6467\n",
      "Epoch 73: Train Loss = 0.6479, Test Loss = 0.6467\n",
      "Epoch 74: Train Loss = 0.6479, Test Loss = 0.6467\n",
      "Epoch 75: Train Loss = 0.6479, Test Loss = 0.6467\n",
      "Epoch 76: Train Loss = 0.6478, Test Loss = 0.6467\n",
      "Epoch 77: Train Loss = 0.6479, Test Loss = 0.6466\n",
      "Epoch 78: Train Loss = 0.6479, Test Loss = 0.6468\n",
      "Epoch 79: Train Loss = 0.6479, Test Loss = 0.6467\n",
      "Epoch 80: Train Loss = 0.6480, Test Loss = 0.6466\n",
      "Epoch 81: Train Loss = 0.6480, Test Loss = 0.6467\n",
      "Epoch 82: Train Loss = 0.6479, Test Loss = 0.6468\n",
      "Epoch 83: Train Loss = 0.6479, Test Loss = 0.6466\n",
      "Epoch 84: Train Loss = 0.6479, Test Loss = 0.6466\n",
      "Epoch 85: Train Loss = 0.6479, Test Loss = 0.6467\n",
      "Epoch 86: Train Loss = 0.6479, Test Loss = 0.6466\n",
      "Epoch 87: Train Loss = 0.6479, Test Loss = 0.6467\n",
      "Epoch 88: Train Loss = 0.6479, Test Loss = 0.6467\n",
      "Epoch 89: Train Loss = 0.6479, Test Loss = 0.6466\n",
      "Epoch 90: Train Loss = 0.6479, Test Loss = 0.6466\n",
      "Epoch 91: Train Loss = 0.6480, Test Loss = 0.6466\n",
      "Epoch 92: Train Loss = 0.6481, Test Loss = 0.6467\n",
      "Epoch 93: Train Loss = 0.6481, Test Loss = 0.6467\n",
      "Epoch 94: Train Loss = 0.6480, Test Loss = 0.6467\n",
      "Epoch 95: Train Loss = 0.6479, Test Loss = 0.6467\n",
      "Epoch 96: Train Loss = 0.6479, Test Loss = 0.6469\n",
      "Epoch 97: Train Loss = 0.6479, Test Loss = 0.6467\n",
      "Epoch 98: Train Loss = 0.6479, Test Loss = 0.6466\n",
      "Epoch 99: Train Loss = 0.6478, Test Loss = 0.6466\n",
      "Epoch 100: Train Loss = 0.6478, Test Loss = 0.6467\n",
      "Epoch 101: Train Loss = 0.6479, Test Loss = 0.6465\n",
      "Epoch 102: Train Loss = 0.6478, Test Loss = 0.6466\n",
      "Epoch 103: Train Loss = 0.6478, Test Loss = 0.6466\n",
      "Epoch 104: Train Loss = 0.6478, Test Loss = 0.6466\n",
      "Epoch 105: Train Loss = 0.6479, Test Loss = 0.6465\n",
      "Epoch 106: Train Loss = 0.6479, Test Loss = 0.6466\n",
      "Epoch 107: Train Loss = 0.6479, Test Loss = 0.6465\n",
      "Epoch 108: Train Loss = 0.6479, Test Loss = 0.6466\n",
      "Epoch 109: Train Loss = 0.6479, Test Loss = 0.6466\n",
      "Epoch 110: Train Loss = 0.6478, Test Loss = 0.6466\n",
      "Epoch 111: Train Loss = 0.6478, Test Loss = 0.6466\n",
      "Epoch 112: Train Loss = 0.6479, Test Loss = 0.6466\n",
      "Epoch 113: Train Loss = 0.6479, Test Loss = 0.6466\n",
      "Epoch 114: Train Loss = 0.6479, Test Loss = 0.6467\n",
      "Epoch 115: Train Loss = 0.6479, Test Loss = 0.6466\n",
      "Epoch 116: Train Loss = 0.6479, Test Loss = 0.6467\n",
      "Epoch 117: Train Loss = 0.6478, Test Loss = 0.6466\n",
      "Epoch 118: Train Loss = 0.6478, Test Loss = 0.6465\n",
      "Epoch 119: Train Loss = 0.6478, Test Loss = 0.6466\n",
      "Epoch 120: Train Loss = 0.6478, Test Loss = 0.6465\n",
      "Epoch 121: Train Loss = 0.6478, Test Loss = 0.6465\n",
      "Epoch 122: Train Loss = 0.6479, Test Loss = 0.6466\n",
      "Epoch 123: Train Loss = 0.6479, Test Loss = 0.6466\n",
      "Epoch 124: Train Loss = 0.6479, Test Loss = 0.6466\n",
      "Epoch 125: Train Loss = 0.6478, Test Loss = 0.6466\n",
      "Epoch 126: Train Loss = 0.6478, Test Loss = 0.6465\n",
      "Epoch 127: Train Loss = 0.6479, Test Loss = 0.6465\n",
      "Epoch 128: Train Loss = 0.6479, Test Loss = 0.6465\n",
      "Epoch 129: Train Loss = 0.6480, Test Loss = 0.6464\n",
      "Epoch 130: Train Loss = 0.6479, Test Loss = 0.6465\n",
      "Epoch 131: Train Loss = 0.6479, Test Loss = 0.6465\n",
      "Epoch 132: Train Loss = 0.6480, Test Loss = 0.6466\n",
      "Epoch 133: Train Loss = 0.6478, Test Loss = 0.6465\n",
      "Epoch 134: Train Loss = 0.6478, Test Loss = 0.6465\n",
      "Epoch 135: Train Loss = 0.6478, Test Loss = 0.6465\n",
      "Epoch 136: Train Loss = 0.6478, Test Loss = 0.6465\n",
      "Epoch 137: Train Loss = 0.6478, Test Loss = 0.6465\n",
      "Epoch 138: Train Loss = 0.6478, Test Loss = 0.6466\n",
      "Epoch 139: Train Loss = 0.6478, Test Loss = 0.6466\n",
      "Epoch 140: Train Loss = 0.6478, Test Loss = 0.6466\n",
      "Epoch 141: Train Loss = 0.6480, Test Loss = 0.6466\n",
      "Epoch 142: Train Loss = 0.6478, Test Loss = 0.6466\n",
      "Epoch 143: Train Loss = 0.6479, Test Loss = 0.6466\n",
      "Epoch 144: Train Loss = 0.6479, Test Loss = 0.6465\n",
      "Epoch 145: Train Loss = 0.6477, Test Loss = 0.6465\n",
      "Epoch 146: Train Loss = 0.6478, Test Loss = 0.6465\n",
      "Epoch 147: Train Loss = 0.6478, Test Loss = 0.6465\n",
      "Epoch 148: Train Loss = 0.6478, Test Loss = 0.6465\n",
      "Epoch 149: Train Loss = 0.6478, Test Loss = 0.6465\n",
      "Epoch 150: Train Loss = 0.6478, Test Loss = 0.6465\n",
      "Epoch 151: Train Loss = 0.6479, Test Loss = 0.6467\n",
      "Epoch 152: Train Loss = 0.6479, Test Loss = 0.6469\n",
      "Epoch 153: Train Loss = 0.6479, Test Loss = 0.6466\n",
      "Epoch 154: Train Loss = 0.6479, Test Loss = 0.6466\n",
      "Epoch 155: Train Loss = 0.6479, Test Loss = 0.6465\n",
      "Epoch 156: Train Loss = 0.6477, Test Loss = 0.6466\n",
      "Epoch 157: Train Loss = 0.6478, Test Loss = 0.6467\n",
      "Epoch 158: Train Loss = 0.6479, Test Loss = 0.6467\n",
      "Epoch 159: Train Loss = 0.6479, Test Loss = 0.6467\n",
      "Epoch 160: Train Loss = 0.6478, Test Loss = 0.6464\n",
      "Epoch 161: Train Loss = 0.6478, Test Loss = 0.6465\n",
      "Epoch 162: Train Loss = 0.6477, Test Loss = 0.6464\n",
      "Epoch 163: Train Loss = 0.6477, Test Loss = 0.6465\n",
      "Epoch 164: Train Loss = 0.6478, Test Loss = 0.6465\n",
      "Epoch 165: Train Loss = 0.6478, Test Loss = 0.6465\n",
      "Epoch 166: Train Loss = 0.6479, Test Loss = 0.6465\n",
      "Epoch 167: Train Loss = 0.6480, Test Loss = 0.6467\n",
      "Epoch 168: Train Loss = 0.6478, Test Loss = 0.6466\n",
      "Epoch 169: Train Loss = 0.6478, Test Loss = 0.6464\n",
      "Epoch 170: Train Loss = 0.6478, Test Loss = 0.6465\n",
      "Epoch 171: Train Loss = 0.6477, Test Loss = 0.6466\n",
      "Epoch 172: Train Loss = 0.6478, Test Loss = 0.6466\n",
      "Epoch 173: Train Loss = 0.6477, Test Loss = 0.6465\n",
      "Epoch 174: Train Loss = 0.6477, Test Loss = 0.6465\n",
      "Epoch 175: Train Loss = 0.6479, Test Loss = 0.6466\n",
      "Epoch 176: Train Loss = 0.6482, Test Loss = 0.6469\n",
      "Epoch 177: Train Loss = 0.6481, Test Loss = 0.6468\n",
      "Epoch 178: Train Loss = 0.6478, Test Loss = 0.6468\n",
      "Epoch 179: Train Loss = 0.6478, Test Loss = 0.6467\n",
      "Early stopping at epoch 178\n"
     ]
    }
   ],
   "source": [
    "epochs = 2000\n",
    "early_stopping_patience = 50\n",
    "\n",
    "# Compile the train function\n",
    "opt_train = torch.compile(train_model, mode=\"max-autotune\")\n",
    "\n",
    "best_model_weights = opt_train(model, train_loader, test_loader, criterion, optimizer, device, epochs, early_stopping_patience)"
   ]
  },
  {
   "cell_type": "code",
   "execution_count": 13,
   "id": "70edcd5f-d9ab-4897-a94a-87878146def8",
   "metadata": {},
   "outputs": [],
   "source": [
    "# Load the best model weights\n",
    "model.load_state_dict(best_model_weights)\n",
    "\n",
    "X0 = np.array(X0)\n",
    "X1 = np.array(X1)\n",
    "weight0 = np.array(weight0)\n",
    "weight1 = np.array(weight1)\n",
    "\n",
    "weights = reweight_fn(model, torch.Tensor(X0))"
   ]
  },
  {
   "cell_type": "code",
   "execution_count": 14,
   "id": "ec013426-2972-4490-8c15-0da4b6c62b15",
   "metadata": {},
   "outputs": [
    {
     "data": {
      "image/png": "[encoded data removed]",
      "text/plain": [
       "<Figure size 640x480 with 1 Axes>"
      ]
     },
     "metadata": {},
     "output_type": "display_data"
    }
   ],
   "source": [
    "bins = np.linspace(4.5, 8.0, 31)\n",
    "plt.hist(X0[:, 0], bins=bins, alpha=0.5, label=r'$mass$ MC data')\n",
    "plt.hist(X0[:, 0], bins=bins, label=r'$mass$ MC data weighted', weights=weights, histtype='step', color='k')\n",
    "plt.hist(X1[:, 0], bins=bins, alpha=0.5, label=r'$mass$ E906 data', weights=weight1)\n",
    "plt.legend(frameon=False)\n",
    "plt.show()"
   ]
  },
  {
   "cell_type": "code",
   "execution_count": 15,
   "id": "98594789-a0bc-4ed8-8304-7570227fd0aa",
   "metadata": {},
   "outputs": [
    {
     "data": {
      "image/png": "[encoded data removed]",
      "text/plain": [
       "<Figure size 640x480 with 1 Axes>"
      ]
     },
     "metadata": {},
     "output_type": "display_data"
    }
   ],
   "source": [
    "bins = np.linspace(0.0, 2.5, 31)\n",
    "plt.hist(X0[:, 1], bins=bins, alpha=0.5, label=r'$p_{T}$ MC data')\n",
    "plt.hist(X0[:, 1], bins=bins, label=r'$p_{T}$ MC data weighted', weights=weights, histtype='step', color='k')\n",
    "plt.hist(X1[:, 1], bins=bins, alpha=0.5, label=r'$p_{T}$ E906 data', weights=weight1)\n",
    "plt.legend(frameon=False)\n",
    "plt.show()"
   ]
  },
  {
   "cell_type": "code",
   "execution_count": 16,
   "id": "d763c7d4-94c8-454a-9fa2-5d304ae53cf7",
   "metadata": {},
   "outputs": [
    {
     "data": {
      "image/png": "[encoded data removed]",
      "text/plain": [
       "<Figure size 640x480 with 1 Axes>"
      ]
     },
     "metadata": {},
     "output_type": "display_data"
    }
   ],
   "source": [
    "bins = np.linspace(0.0, 1.0, 31)\n",
    "plt.hist(X0[:, 2], bins=bins, alpha=0.5, label=r'$x_{F}$ MC data')\n",
    "plt.hist(X0[:, 2], bins=bins, label=r'$x_{F}$ MC data weighted', weights=weights, histtype='step', color='k')\n",
    "plt.hist(X1[:, 2], bins=bins, alpha=0.5, label=r'$x_{F}$ E906 data', weights=weight1)\n",
    "plt.legend(frameon=False)\n",
    "plt.show()"
   ]
  },
  {
   "cell_type": "code",
   "execution_count": 17,
   "id": "fb892f07-fc95-4b42-bf17-f9c2c86d0673",
   "metadata": {},
   "outputs": [
    {
     "data": {
      "image/png": "[encoded data removed]",
      "text/plain": [
       "<Figure size 640x480 with 1 Axes>"
      ]
     },
     "metadata": {},
     "output_type": "display_data"
    }
   ],
   "source": [
    "bins = np.linspace(0.0, 2.0, 31)\n",
    "plt.hist(weights, bins=bins, alpha=0.5)\n",
    "plt.show()"
   ]
  },
  {
   "cell_type": "code",
   "execution_count": null,
   "id": "942bd957-11be-4f2b-a69b-8a9bc9b01b7c",
   "metadata": {},
   "outputs": [],
   "source": []
  }
 ],
 "metadata": {
  "kernelspec": {
   "display_name": "Python 3 (ipykernel)",
   "language": "python",
   "name": "python3"
  },
  "language_info": {
   "codemirror_mode": {
    "name": "ipython",
    "version": 3
   },
   "file_extension": ".py",
   "mimetype": "text/x-python",
   "name": "python",
   "nbconvert_exporter": "python",
   "pygments_lexer": "ipython3",
   "version": "3.10.11"
  }
 },
 "nbformat": 4,
 "nbformat_minor": 5
}
