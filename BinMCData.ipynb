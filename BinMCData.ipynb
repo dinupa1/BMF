{
 "cells": [
  {
   "cell_type": "code",
   "execution_count": 1,
   "id": "0205c11e-7918-4918-a3d2-1a2d817f564c",
   "metadata": {
    "tags": []
   },
   "outputs": [],
   "source": [
    "import numpy as np\n",
    "import matplotlib.pyplot as plt\n",
    "\n",
    "import uproot\n",
    "import awkward as ak\n",
    "\n",
    "\n",
    "from sklearn.model_selection import train_test_split"
   ]
  },
  {
   "cell_type": "code",
   "execution_count": 2,
   "id": "543eb6f1-8fc0-404b-afe0-2438bace051f",
   "metadata": {
    "tags": []
   },
   "outputs": [],
   "source": [
    "plt.rc('font', size=14)"
   ]
  },
  {
   "cell_type": "code",
   "execution_count": 3,
   "id": "b36399c5-0957-4089-8101-50a35d262860",
   "metadata": {
    "tags": []
   },
   "outputs": [],
   "source": [
    "# Function to calculate weights analytically\n",
    "\n",
    "def weight_fn(thetas, angles):\n",
    "    theta0, theta1, theta2 = thetas[0], thetas[1], thetas[2]\n",
    "    phi, costh = angles[:, 0], angles[:, 1]\n",
    "    weight = 1. + theta0* costh * costh + 2.* theta1* costh * np.sqrt(1. - costh * costh) * np.cos(phi) + 0.5* theta2* (1. - costh * costh)* np.cos(2. * phi)\n",
    "    return weight / (1. + costh * costh)"
   ]
  },
  {
   "cell_type": "code",
   "execution_count": 4,
   "id": "dc31295d-b737-4223-bf48-0f926032915b",
   "metadata": {
    "tags": []
   },
   "outputs": [],
   "source": [
    "tree = uproot.open(\"BMFData.root:save\")\n",
    "events = tree.arrays([\"mass\", \"pT\", \"xF\", \"phi\", \"costh\", \"true_phi\", \"true_costh\"])\n",
    "\n",
    "X_data = np.array([(mass, pT, xF, phi, costh, true_phi, true_costh) for mass, pT, xF, phi, costh, true_phi, true_costh in zip(\n",
    "    events.mass, events.pT, events.xF, events.phi, events.costh, events.true_phi, events.true_costh\n",
    ")])"
   ]
  },
  {
   "cell_type": "code",
   "execution_count": 5,
   "id": "f6e44d8d-33a8-452a-b6d7-5aa6eb46bc38",
   "metadata": {
    "tags": []
   },
   "outputs": [],
   "source": [
    "X_train, X_test = train_test_split(X_data, test_size=0.3, shuffle=True)"
   ]
  },
  {
   "cell_type": "code",
   "execution_count": 6,
   "id": "8fcd4257-8c3e-4f6a-a63b-c32ddcc9c3fe",
   "metadata": {},
   "outputs": [],
   "source": [
    "X0_train, X1_train = train_test_split(X_train, test_size=0.5, shuffle=True)"
   ]
  },
  {
   "cell_type": "code",
   "execution_count": 7,
   "id": "0fdc8c52-e562-43d5-bb5a-c107b20b679d",
   "metadata": {
    "tags": []
   },
   "outputs": [
    {
     "data": {
      "image/png": "[encoded data removed]",
      "text/plain": [
       "<Figure size 640x480 with 2 Axes>"
      ]
     },
     "metadata": {},
     "output_type": "display_data"
    }
   ],
   "source": [
    "binx = np.linspace(-np.pi, np.pi, 21)\n",
    "biny = np.linspace(-0.6, 0.6, 21)\n",
    "\n",
    "\n",
    "fig, ax = plt.subplots()\n",
    "hh = ax.hist2d(X0_train[:, 3][:5000], X0_train[:, 4][:5000], bins=[binx, biny], density=True, cmap=\"Blues\")\n",
    "fig.colorbar(hh[3], ax=ax)\n",
    "ax.set_title(r\"$\\lambda = 1.$, $\\mu = 0.$, $\\nu = 0.$\")\n",
    "ax.set_ylabel(r\"$\\phi$ [rad]\")\n",
    "ax.set_xlabel(r\"$\\cos\\theta$\")\n",
    "plt.show()"
   ]
  },
  {
   "cell_type": "code",
   "execution_count": 13,
   "id": "dfd6d0e8-4a2f-4299-a8ea-4ef861ab068b",
   "metadata": {
    "tags": []
   },
   "outputs": [
    {
     "name": "stdout",
     "output_type": "stream",
     "text": [
      "===> 0 events are done ...\n",
      "===> 10 events are done ...\n",
      "===> 20 events are done ...\n",
      "===> 30 events are done ...\n",
      "===> 40 events are done ...\n"
     ]
    }
   ],
   "source": [
    "nhist = 10**6\n",
    "nevents = 5000\n",
    "\n",
    "X_train = {\"hist\": [], \"thetas\": [], \"label\": []}\n",
    "X_test = {\"hist\": [], \"thetas\": [], \"label\": []}\n",
    "\n",
    "theta0 = np.random.uniform(0. ,2., nhist)\n",
    "theta1 = np.random.uniform(-1., 1., nhist)\n",
    "theta2 = np.random.uniform(-1., 1., nhist)\n",
    "\n",
    "for i in range(nhist):\n",
    "    # X1 events\n",
    "    counts, other = train_test_split(X1_train, test_size=nevents, shuffle=True)\n",
    "    weights = weight_fn([theta0[i], theta1[i], theta2[i]], counts[:, 5:])\n",
    "    H, xedges, yedges = np.histogram2d(counts[:, 3], counts[:, 4], bins=(binx, biny), weights=weights, density=True)\n",
    "    X_train[\"hist\"].append([H])\n",
    "    X_train[\"thetas\"].append([theta0[i], theta1[i], theta2[i]])\n",
    "    X_train[\"label\"].append([0., 1.])\n",
    "    \n",
    "    # X0 events\n",
    "    counts, other = train_test_split(X0_train, test_size=nevents, shuffle=True)\n",
    "    weights = weight_fn([1., 0., 0.], counts[:, 5:])\n",
    "    H, xedges, yedges = np.histogram2d(counts[:, 3], counts[:, 4], bins=(binx, biny), weights=weights, density=True)\n",
    "    X_train[\"hist\"].append([H])\n",
    "    X_train[\"thetas\"].append([theta0[i], theta1[i], theta2[i]])\n",
    "    X_train[\"label\"].append([1., 0.])\n",
    "    \n",
    "    if i%10**5 == 0:\n",
    "        print(\"===> {} events are done ...\".format(i))\n",
    "        \n",
    "\n",
    "X_train[\"hist\"] = np.array(X_train[\"hist\"])\n",
    "X_train[\"thetas\"] = np.array(X_train[\"thetas\"])\n",
    "X_train[\"label\"] = np.array(X_train[\"label\"])"
   ]
  },
  {
   "cell_type": "code",
   "execution_count": null,
   "id": "d727eae5-d312-4c76-8317-aabc635a2c15",
   "metadata": {},
   "outputs": [],
   "source": [
    "ntest = 300000\n",
    "\n",
    "for i in range(ntest):\n",
    "    # test events lambda = 0.8, mu = -0.1, nu = 0.2\n",
    "    theta0, theta1, theta2 = 0.8, -0.1, 0.2\n",
    "    counts, other = train_test_split(X_test, test_size=nevents, shuffle=True)\n",
    "    weights = weight_fn([theta0, theta1, theta2], counts[:, 5:])\n",
    "    H, xedges, yedges = np.histogram2d(counts[:, 3], counts[:, 4], bins=(binx, biny), weights=weights, density=True)\n",
    "    X_test[\"hist\"].append([H])\n",
    "    X_test[\"thetas\"].append([theta0, theta1, theta2])\n",
    "    X_test[\"label\"].append([0., 1.])\n",
    "\n",
    "X_test[\"hist\"] = np.array(X_train[\"hist\"])\n",
    "X_test[\"thetas\"] = np.array(X_train[\"thetas\"])\n",
    "X_test[\"label\"] = np.array(X_train[\"label\"])"
   ]
  }
 ],
 "metadata": {
  "kernelspec": {
   "display_name": "Python 3 (ipykernel)",
   "language": "python",
   "name": "python3"
  },
  "language_info": {
   "codemirror_mode": {
    "name": "ipython",
    "version": 3
   },
   "file_extension": ".py",
   "mimetype": "text/x-python",
   "name": "python",
   "nbconvert_exporter": "python",
   "pygments_lexer": "ipython3",
   "version": "3.10.12"
  }
 },
 "nbformat": 4,
 "nbformat_minor": 5
}
