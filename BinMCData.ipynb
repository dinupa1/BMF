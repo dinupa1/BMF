{
 "cells": [
  {
   "cell_type": "code",
   "execution_count": 1,
   "id": "0205c11e-7918-4918-a3d2-1a2d817f564c",
   "metadata": {
    "tags": []
   },
   "outputs": [],
   "source": [
    "import numpy as np\n",
    "import matplotlib.pyplot as plt\n",
    "\n",
    "import uproot\n",
    "import awkward as ak\n",
    "\n",
    "\n",
    "from sklearn.model_selection import train_test_split"
   ]
  },
  {
   "cell_type": "code",
   "execution_count": 2,
   "id": "543eb6f1-8fc0-404b-afe0-2438bace051f",
   "metadata": {
    "tags": []
   },
   "outputs": [],
   "source": [
    "plt.rc('font', size=14)"
   ]
  },
  {
   "cell_type": "code",
   "execution_count": 3,
   "id": "b36399c5-0957-4089-8101-50a35d262860",
   "metadata": {
    "tags": []
   },
   "outputs": [],
   "source": [
    "# Function to calculate weights analytically\n",
    "\n",
    "def weight_fn(thetas, angles):\n",
    "    theta0, theta1, theta2 = thetas[0], thetas[1], thetas[2]\n",
    "    phi, costh = angles[:, 0], angles[:, 1]\n",
    "    weight = 1. + theta0* costh * costh + 2.* theta1* costh * np.sqrt(1. - costh * costh) * np.cos(phi) + 0.5* theta2* (1. - costh * costh)* np.cos(2. * phi)\n",
    "    return weight / (1. + costh * costh)"
   ]
  },
  {
   "cell_type": "code",
   "execution_count": 4,
   "id": "dc31295d-b737-4223-bf48-0f926032915b",
   "metadata": {
    "tags": []
   },
   "outputs": [],
   "source": [
    "tree = uproot.open(\"BMFData.root:save\")\n",
    "events = tree.arrays([\"mass\", \"pT\", \"xF\", \"phi\", \"costh\", \"true_phi\", \"true_costh\"])\n",
    "\n",
    "X_data = np.array([(mass, pT, xF, phi, costh, true_phi, true_costh) for mass, pT, xF, phi, costh, true_phi, true_costh in zip(\n",
    "    events.mass, events.pT, events.xF, events.phi, events.costh, events.true_phi, events.true_costh\n",
    ")])"
   ]
  },
  {
   "cell_type": "code",
   "execution_count": 5,
   "id": "f6e44d8d-33a8-452a-b6d7-5aa6eb46bc38",
   "metadata": {
    "tags": []
   },
   "outputs": [],
   "source": [
    "X_train, X_test = train_test_split(X_data, test_size=0.3, shuffle=True)"
   ]
  },
  {
   "cell_type": "code",
   "execution_count": 6,
   "id": "8fcd4257-8c3e-4f6a-a63b-c32ddcc9c3fe",
   "metadata": {},
   "outputs": [],
   "source": [
    "X0_train, X1_train = train_test_split(X_train, test_size=0.5, shuffle=True)"
   ]
  },
  {
   "cell_type": "code",
   "execution_count": 7,
   "id": "0fdc8c52-e562-43d5-bb5a-c107b20b679d",
   "metadata": {
    "tags": []
   },
   "outputs": [
    {
     "data": {
      "image/png": "[encoded data removed]",
      "text/plain": [
       "<Figure size 640x480 with 2 Axes>"
      ]
     },
     "metadata": {},
     "output_type": "display_data"
    }
   ],
   "source": [
    "binx = np.linspace(-np.pi, np.pi, 21)\n",
    "biny = np.linspace(-0.6, 0.6, 21)\n",
    "\n",
    "\n",
    "fig, ax = plt.subplots()\n",
    "hh = ax.hist2d(X0_train[:, 3][:5000], X0_train[:, 4][:5000], bins=[binx, biny], density=True, cmap=\"Blues\")\n",
    "fig.colorbar(hh[3], ax=ax)\n",
    "ax.set_title(r\"$\\lambda = 1.$, $\\mu = 0.$, $\\nu = 0.$\")\n",
    "ax.set_ylabel(r\"$\\phi$ [rad]\")\n",
    "ax.set_xlabel(r\"$\\cos\\theta$\")\n",
    "plt.show()"
   ]
  },
  {
   "cell_type": "code",
   "execution_count": 8,
   "id": "dfd6d0e8-4a2f-4299-a8ea-4ef861ab068b",
   "metadata": {
    "tags": []
   },
   "outputs": [
    {
     "name": "stdout",
     "output_type": "stream",
     "text": [
      "===> 0 histograms are done ...\n",
      "===> 1000 histograms are done ...\n",
      "===> 2000 histograms are done ...\n",
      "===> 3000 histograms are done ...\n",
      "===> 4000 histograms are done ...\n",
      "===> 5000 histograms are done ...\n",
      "===> 6000 histograms are done ...\n",
      "===> 7000 histograms are done ...\n",
      "===> 8000 histograms are done ...\n",
      "===> 9000 histograms are done ...\n",
      "===> 10000 histograms are done ...\n",
      "===> 11000 histograms are done ...\n",
      "===> 12000 histograms are done ...\n",
      "===> 13000 histograms are done ...\n",
      "===> 14000 histograms are done ...\n",
      "===> 15000 histograms are done ...\n",
      "===> 16000 histograms are done ...\n",
      "===> 17000 histograms are done ...\n",
      "===> 18000 histograms are done ...\n",
      "===> 19000 histograms are done ...\n",
      "===> 20000 histograms are done ...\n",
      "===> 21000 histograms are done ...\n",
      "===> 22000 histograms are done ...\n",
      "===> 23000 histograms are done ...\n",
      "===> 24000 histograms are done ...\n",
      "===> 25000 histograms are done ...\n",
      "===> 26000 histograms are done ...\n",
      "===> 27000 histograms are done ...\n",
      "===> 28000 histograms are done ...\n",
      "===> 29000 histograms are done ...\n",
      "===> 30000 histograms are done ...\n",
      "===> 31000 histograms are done ...\n",
      "===> 32000 histograms are done ...\n",
      "===> 33000 histograms are done ...\n",
      "===> 34000 histograms are done ...\n",
      "===> 35000 histograms are done ...\n",
      "===> 36000 histograms are done ...\n",
      "===> 37000 histograms are done ...\n",
      "===> 38000 histograms are done ...\n",
      "===> 39000 histograms are done ...\n",
      "===> 40000 histograms are done ...\n",
      "===> 41000 histograms are done ...\n",
      "===> 42000 histograms are done ...\n",
      "===> 43000 histograms are done ...\n",
      "===> 44000 histograms are done ...\n",
      "===> 45000 histograms are done ...\n",
      "===> 46000 histograms are done ...\n",
      "===> 47000 histograms are done ...\n",
      "===> 48000 histograms are done ...\n",
      "===> 49000 histograms are done ...\n"
     ]
    }
   ],
   "source": [
    "nhist = 50000\n",
    "nevents = 5000\n",
    "\n",
    "X0_tree = {\"hist\": [], \"thetas\": [], \"label\": []}\n",
    "X1_tree = {\"hist\": [], \"thetas\": [], \"label\": []}\n",
    "test_X0 = {\"hist\": [], \"thetas\": [], \"label\": []}\n",
    "test_X1 = {\"hist\": [], \"thetas\": [], \"label\": []}\n",
    "\n",
    "theta0 = np.random.uniform(0. ,2., nhist)\n",
    "theta1 = np.random.uniform(-1., 1., nhist)\n",
    "theta2 = np.random.uniform(-1., 1., nhist)\n",
    "\n",
    "for i in range(nhist):\n",
    "    # X1 events\n",
    "    counts, other = train_test_split(X1_train, train_size=nevents, shuffle=True)\n",
    "    weights = weight_fn([theta0[i], theta1[i], theta2[i]], counts[:, 5:])\n",
    "    H, xedges, yedges = np.histogram2d(counts[:, 3], counts[:, 4], bins=(binx, biny), weights=weights, density=True)\n",
    "    X1_tree[\"hist\"].append([H])\n",
    "    X1_tree[\"thetas\"].append([theta0[i], theta1[i], theta2[i]])\n",
    "    X1_tree[\"label\"].append([0., 1.])\n",
    "    \n",
    "    # X0 events\n",
    "    counts, other = train_test_split(X0_train, train_size=nevents, shuffle=True)\n",
    "    weights = weight_fn([1., 0., 0.], counts[:, 5:])\n",
    "    H, xedges, yedges = np.histogram2d(counts[:, 3], counts[:, 4], bins=(binx, biny), weights=weights, density=True)\n",
    "    X0_tree[\"hist\"].append([H])\n",
    "    X0_tree[\"thetas\"].append([theta0[i], theta1[i], theta2[i]])\n",
    "    X0_tree[\"label\"].append([1., 0.])\n",
    "    \n",
    "    if i%10**3 == 0:\n",
    "        print(\"===> {} histograms are done ...\".format(i))\n",
    "        \n",
    "\n",
    "X0_tree[\"hist\"] = np.array(X0_tree[\"hist\"])\n",
    "X0_tree[\"thetas\"] = np.array(X0_tree[\"thetas\"])\n",
    "X0_tree[\"label\"] = np.array(X0_tree[\"label\"])\n",
    "\n",
    "X1_tree[\"hist\"] = np.array(X1_tree[\"hist\"])\n",
    "X1_tree[\"thetas\"] = np.array(X1_tree[\"thetas\"])\n",
    "X1_tree[\"label\"] = np.array(X1_tree[\"label\"])"
   ]
  },
  {
   "cell_type": "code",
   "execution_count": 9,
   "id": "d727eae5-d312-4c76-8317-aabc635a2c15",
   "metadata": {},
   "outputs": [
    {
     "name": "stdout",
     "output_type": "stream",
     "text": [
      "===> 0 histograms are done ...\n",
      "===> 5000 histograms are done ...\n",
      "===> 10000 histograms are done ...\n",
      "===> 15000 histograms are done ...\n"
     ]
    }
   ],
   "source": [
    "ntest = 20000\n",
    "\n",
    "# theta0 = np.random.uniform(0. ,2., ntest)\n",
    "# theta1 = np.random.uniform(-1., 1., ntest)\n",
    "# theta2 = np.random.uniform(-1., 1., ntest)\n",
    "\n",
    "X0_test, X1_test = train_test_split(X_test, test_size=0.5, shuffle=True)\n",
    "\n",
    "for i in range(ntest):\n",
    "    # test events lambda = 0.8, mu = -0.1, nu = 0.2\n",
    "    theta0, theta1, theta2 = 0.8, -0.1, 0.2\n",
    "    counts, other = train_test_split(X1_test, train_size=nevents, shuffle=True)\n",
    "    # weights = weight_fn([theta0[i], theta1[i], theta2[i]], counts[:, 5:])\n",
    "    weights = weight_fn([theta0, theta1, theta2], counts[:, 5:])\n",
    "    H, xedges, yedges = np.histogram2d(counts[:, 3], counts[:, 4], bins=(binx, biny), weights=weights, density=True)\n",
    "    test_X1[\"hist\"].append([H])\n",
    "    test_X1[\"thetas\"].append([theta0, theta1, theta2])\n",
    "    test_X1[\"label\"].append([0., 1.])\n",
    "\n",
    "    theta0, theta1, theta2 = 1., 0., 0.\n",
    "    counts, other = train_test_split(X0_test, train_size=nevents, shuffle=True)\n",
    "    # weights = weight_fn([theta0[i], theta1[i], theta2[i]], counts[:, 5:])\n",
    "    weights = weight_fn([theta0, theta1, theta2], counts[:, 5:])\n",
    "    H, xedges, yedges = np.histogram2d(counts[:, 3], counts[:, 4], bins=(binx, biny), weights=weights, density=True)\n",
    "    test_X0[\"hist\"].append([H])\n",
    "    test_X0[\"thetas\"].append([theta0, theta1, theta2])\n",
    "    test_X0[\"label\"].append([1., 0.])\n",
    "    \n",
    "    if i%5000 == 0:\n",
    "        print(\"===> {} histograms are done ...\".format(i))\n",
    "\n",
    "test_X0[\"hist\"] = np.array(test_X0[\"hist\"])\n",
    "test_X0[\"thetas\"] = np.array(test_X0[\"thetas\"])\n",
    "test_X0[\"label\"] = np.array(test_X0[\"label\"])\n",
    "test_X1[\"hist\"] = np.array(test_X1[\"hist\"])\n",
    "test_X1[\"thetas\"] = np.array(test_X1[\"thetas\"])\n",
    "test_X1[\"label\"] = np.array(test_X1[\"label\"])"
   ]
  },
  {
   "cell_type": "code",
   "execution_count": 10,
   "id": "f0dc8673-7fe9-48c0-89b4-85d30518d994",
   "metadata": {},
   "outputs": [],
   "source": [
    "# Save output file\n",
    "\n",
    "outfile = uproot.recreate(\"MCHist.root\", compression=uproot.ZLIB(4))\n",
    "outfile[\"X0_train\"] = X0_tree\n",
    "outfile[\"X1_train\"] = X1_tree\n",
    "outfile[\"X0_test\"] = test_X0\n",
    "outfile[\"X1_test\"] = test_X1\n",
    "\n",
    "outfile.close()"
   ]
  },
  {
   "cell_type": "code",
   "execution_count": null,
   "id": "5f1c320c-2871-4c72-a84f-6767a1dbe64d",
   "metadata": {},
   "outputs": [],
   "source": []
  }
 ],
 "metadata": {
  "kernelspec": {
   "display_name": "Python 3 (ipykernel)",
   "language": "python",
   "name": "python3"
  },
  "language_info": {
   "codemirror_mode": {
    "name": "ipython",
    "version": 3
   },
   "file_extension": ".py",
   "mimetype": "text/x-python",
   "name": "python",
   "nbconvert_exporter": "python",
   "pygments_lexer": "ipython3",
   "version": "3.10.12"
  }
 },
 "nbformat": 4,
 "nbformat_minor": 5
}
