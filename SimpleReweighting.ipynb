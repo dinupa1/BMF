{
 "cells": [
  {
   "cell_type": "code",
   "execution_count": 1,
   "id": "962c4389-d0fa-4ee0-b89a-69a7d975b887",
   "metadata": {},
   "outputs": [],
   "source": [
    "import numpy as np\n",
    "import matplotlib.pyplot as plt\n",
    "from matplotlib import gridspec\n",
    "\n",
    "import torch\n",
    "import torch.nn as nn\n",
    "import torch.optim as optim\n",
    "from torch.utils.data import DataLoader, TensorDataset\n",
    "import torch.nn.functional as F\n",
    "\n",
    "from sklearn.model_selection import train_test_split\n",
    "\n",
    "import uproot\n",
    "import awkward as ak"
   ]
  },
  {
   "cell_type": "code",
   "execution_count": 2,
   "id": "278ac8c2-24a1-43ae-9cd3-4c51f78426e0",
   "metadata": {},
   "outputs": [],
   "source": [
    "# Function to calculate weights analytically\n",
    "\n",
    "def weight_fn(xx1, xx2, xx3, phi, costh):\n",
    "    weight = 1. + xx1 * costh * costh + 2. * xx2 * costh * np.sqrt(1. - costh * costh) * np.cos(phi) + 0.5 * xx3 * (1. - costh * costh)* np.cos(2. * phi)\n",
    "    return weight / (1. + costh * costh)"
   ]
  },
  {
   "cell_type": "code",
   "execution_count": 3,
   "id": "23f1ba7a-3d9f-4e2b-9648-26b5b4e9b73f",
   "metadata": {},
   "outputs": [],
   "source": [
    "# Check if CUDA is available\n",
    "device = torch.device(\"cuda\" if torch.cuda.is_available() else \"cpu\")"
   ]
  },
  {
   "cell_type": "code",
   "execution_count": 4,
   "id": "7f0923ef-09a9-4850-958d-e0318bdc3dab",
   "metadata": {},
   "outputs": [],
   "source": [
    "def plot_hist(X0, X1, weight0, weight1, weights, bins):\n",
    "    # Create a figure and gridspec\n",
    "    fig = plt.figure()\n",
    "    gs = gridspec.GridSpec(2, 1, height_ratios=[2, 1])\n",
    "\n",
    "    # Create the subplots with different sizes\n",
    "    ax0 = plt.subplot(gs[0, 0])  # Subplot with size (1, 1)\n",
    "    ax1 = plt.subplot(gs[1, 0])  # Subplot with size (1, 2)\n",
    "    \n",
    "    ax0.hist(X0, bins=bins, alpha=0.5, label=r'$\\lambda, \\mu, \\nu = {}, {}, {}$'.format(lambda0, mu0, nu0), weights=weight0)\n",
    "    ax0.hist(X0, bins=bins, label=r'$\\lambda, \\mu, \\nu = {}, {}, {}$ weighted'.format(lambda0, mu0, nu0), weights=weights* weight0, histtype='step', color='k')\n",
    "    ax0.hist(X1, bins=bins, alpha=0.5, label=r'$\\lambda, \\mu, \\nu = {}, {}, {}$'.format(lambda1, mu1, nu1), weights=weight1)\n",
    "    ax0.legend(frameon=False)\n",
    "\n",
    "    counts0, _ = np.histogram(X0, bins, weights=weight1)\n",
    "    counts1, _ = np.histogram(X1, bins, weights=weight0*weights)\n",
    "\n",
    "    yerr = np.sqrt((counts0* counts1 + counts0* counts0)/(counts1* counts1* counts1))\n",
    "    print(yerr.shape)\n",
    "    cent = [bins[i] + (bins[i+1] - bins[i])/2. for i in range(30)]\n",
    "\n",
    "    ax1.errorbar(cent, counts1/counts0, yerr=yerr, fmt=\"o\")\n",
    "    ax1.set_ylabel(\"Ratio\")\n",
    "\n",
    "    # Adjust spacing between subplots\n",
    "    plt.tight_layout()\n",
    "    \n",
    "    # Show the figure\n",
    "    plt.show()"
   ]
  },
  {
   "cell_type": "markdown",
   "id": "e4aaba88-16c2-4029-8c8c-68410371aba8",
   "metadata": {},
   "source": [
    "# Reweighting with Classifiers"
   ]
  },
  {
   "cell_type": "markdown",
   "id": "e34294ab-dc5b-447b-9b53-9f188bf756c5",
   "metadata": {},
   "source": [
    "Neural network-based classifiers can be used to calculate weights between two distributions. In this particular example, we calculate the weights for two simulated Monte Carlo (MC) events. The details of this method are explained in [arXiv:2007.11586 [hep-ph]](https://arxiv.org/abs/2007.11586).\n",
    "\n",
    "Let's assume that $f(x)$ represents the output of a neural network trained to classify two and MC distributions. In this case, the weights can be calculated using the following equation:\n",
    "\n",
    "$$\n",
    "w = \\frac{f(x)}{1 - f(x)}\n",
    "$$"
   ]
  },
  {
   "cell_type": "markdown",
   "id": "2c3d4842-c150-4a23-a34f-9a96511a480e",
   "metadata": {},
   "source": [
    "Let's define a neural network with 3 hidden layers, each consisting of 32 nodes. All the hidden layers will be activated using the `ReLU` activation function, and the final output layer will be activated using the `Sigmoid` activation function."
   ]
  },
  {
   "cell_type": "code",
   "execution_count": 5,
   "id": "5a51d7ab-7e45-4f91-8aee-2e1ab4cc6b40",
   "metadata": {},
   "outputs": [],
   "source": [
    "class Net(nn.Module):\n",
    "    def __init__(self, input_dim: int = 1, output_dim: int = 1, hidden_dim: int = 32):\n",
    "        super(Net, self).__init__()\n",
    "        self.fc1 = nn.Linear(input_dim, hidden_dim, bias=True)\n",
    "        self.fc2 = nn.Linear(hidden_dim, hidden_dim, bias=True)\n",
    "        self.fc3 = nn.Linear(hidden_dim, hidden_dim, bias=True)\n",
    "        self.fc4 = nn.Linear(hidden_dim, output_dim, bias=True)\n",
    "        self.relu = nn.ReLU()\n",
    "        self.sigmoid = nn.Sigmoid()\n",
    "\n",
    "    def forward(self, x):\n",
    "        x = self.relu(self.fc1(x))\n",
    "        x = self.relu(self.fc2(x))\n",
    "        x = self.relu(self.fc3(x))\n",
    "        x = self.sigmoid(self.fc4(x))\n",
    "        return x"
   ]
  },
  {
   "cell_type": "code",
   "execution_count": 6,
   "id": "e36dc126-8854-4ce2-b6ad-6923662e7792",
   "metadata": {},
   "outputs": [],
   "source": [
    "# Load E906 messy MC data\n",
    "\n",
    "batch_size = 1000\n",
    "n_events = 10**6\n",
    "\n",
    "lambda0, mu0, nu0 = 0.9, -0.1, 0.3\n",
    "lambda1, mu1, nu1 = 0.9, -0.1, 0.1\n",
    "\n",
    "tree = uproot.open(\"BMFData.root:save\")\n",
    "events = tree.arrays([\"mass\", \"pT\", \"xF\", \"phi\", \"costh\", \"true_phi\", \"true_costh\"]).to_numpy()[:2*n_events]\n",
    "\n",
    "data_array = np.array([list(record) for record in events])\n",
    "\n",
    "events0, events1 = train_test_split(data_array, test_size=0.5, shuffle=True)\n",
    "\n",
    "X0 = [(phi, costh) for phi, costh in zip(events0[:, 3], events0[:, 4])]\n",
    "X1 = [(phi, costh) for phi,costh in zip(events1[:, 3], events1[:, 4])]\n",
    "\n",
    "weight0 = [weight_fn(lambda0, mu0, nu0, phi, costh) for phi, costh in zip(events0[:, 5], events0[:, 6])]\n",
    "weight1 = [weight_fn(lambda1, mu1, nu1, phi, costh) for phi, costh in zip(events1[:, 5], events1[:, 6])]\n",
    "\n",
    "Y0 = np.zeros(n_events)\n",
    "Y1 = np.ones(n_events)\n",
    "\n",
    "X = np.concatenate((X0, X1))\n",
    "Y = np.concatenate((Y0, Y1)).reshape(-1, 1)\n",
    "weight = np.concatenate((weight0, weight1)).reshape(-1, 1)\n",
    "\n",
    "# Convert to pytorch tensor\n",
    "X_tensor = torch.from_numpy(X).float()\n",
    "Y_tensor = torch.from_numpy(Y).float()\n",
    "W_tensor = torch.from_numpy(weight).float()\n",
    "\n",
    "# Train test split\n",
    "X_train, X_test, Y_train, Y_test, W_train, W_test = train_test_split(X_tensor, Y_tensor, W_tensor, test_size=0.4, shuffle=True)\n",
    "\n",
    "# Create dataset and data loader\n",
    "train_dataset = TensorDataset(X_train, Y_train, W_train)\n",
    "test_dataset = TensorDataset(X_test, Y_test, W_test)\n",
    "\n",
    "train_loader = DataLoader(train_dataset, batch_size=batch_size, shuffle=True)\n",
    "test_loader = DataLoader(test_dataset, batch_size=batch_size, shuffle=False)"
   ]
  },
  {
   "cell_type": "code",
   "execution_count": 7,
   "id": "05672436-b823-4fa7-933b-e12d56fdc80c",
   "metadata": {},
   "outputs": [],
   "source": [
    "# Custom loss function\n",
    "class NetLoss(nn.Module):\n",
    "    def __init__(self):\n",
    "        super(NetLoss, self).__init__()\n",
    "        \n",
    "    def forward(self, outputs, targets, weights):\n",
    "        criterion = nn.BCELoss(reduction=\"none\")\n",
    "        loss = criterion(outputs, targets)\n",
    "        weighted_loss = loss* weights\n",
    "        return weighted_loss.mean()"
   ]
  },
  {
   "cell_type": "code",
   "execution_count": 8,
   "id": "4285205f-de7f-4e77-9702-3a720871805e",
   "metadata": {},
   "outputs": [],
   "source": [
    "# Create the model\n",
    "model = Net(input_dim = 2)"
   ]
  },
  {
   "cell_type": "code",
   "execution_count": 9,
   "id": "ace58c39-9bc3-4f7e-a3f0-53dbdae52ab7",
   "metadata": {},
   "outputs": [],
   "source": [
    "criterion = NetLoss()\n",
    "optimizer = optim.Adam(model.parameters(), lr=0.001)"
   ]
  },
  {
   "cell_type": "code",
   "execution_count": 10,
   "id": "48caac54-9d39-4a10-9751-ac44940b8915",
   "metadata": {},
   "outputs": [],
   "source": [
    "# Move the model to GPU if available\n",
    "model = model.to(device=device)"
   ]
  },
  {
   "cell_type": "code",
   "execution_count": 11,
   "id": "7d5b54fc-6829-43a0-98b4-f62862bf5616",
   "metadata": {},
   "outputs": [
    {
     "name": "stdout",
     "output_type": "stream",
     "text": [
      "using device : cpu\n",
      "Net(\n",
      "  (fc1): Linear(in_features=2, out_features=32, bias=True)\n",
      "  (fc2): Linear(in_features=32, out_features=32, bias=True)\n",
      "  (fc3): Linear(in_features=32, out_features=32, bias=True)\n",
      "  (fc4): Linear(in_features=32, out_features=1, bias=True)\n",
      "  (relu): ReLU()\n",
      "  (sigmoid): Sigmoid()\n",
      ")\n",
      "total trainable params: 2241\n"
     ]
    }
   ],
   "source": [
    "# Model summary\n",
    "print(\"using device : {}\".format(device))\n",
    "total_trainable_params = sum(p.numel() for p in model.parameters() if p.requires_grad)\n",
    "print(model)\n",
    "print('total trainable params: {}'.format(total_trainable_params))"
   ]
  },
  {
   "cell_type": "code",
   "execution_count": 12,
   "id": "20b8b68d-6b8b-4570-beac-291fed76d3e5",
   "metadata": {},
   "outputs": [],
   "source": [
    "# Train step\n",
    "def train_model(model, train_loader, test_loader, criterion, optimizer, device, epochs, early_stopping_patience):\n",
    "    best_loss = float('inf')\n",
    "    best_model_weights = None\n",
    "    patience_counter = 0\n",
    "\n",
    "    for epoch in range(epochs):\n",
    "        model.train()\n",
    "        running_loss = 0.0\n",
    "        for batch_inputs, batch_labels, batch_weights in train_loader:\n",
    "            batch_inputs = batch_inputs.to(device)\n",
    "            batch_labels = batch_labels.to(device)\n",
    "            batch_weights = batch_weights.to(device)\n",
    "\n",
    "            optimizer.zero_grad()\n",
    "            outputs = model(batch_inputs)\n",
    "            loss = criterion(outputs, batch_labels, batch_weights)\n",
    "\n",
    "            loss.backward()\n",
    "            optimizer.step()\n",
    "            running_loss += loss.item() * batch_inputs.size(0)\n",
    "\n",
    "        epoch_loss = running_loss / len(train_loader.dataset)\n",
    "\n",
    "        # Evaluation\n",
    "        model.eval()\n",
    "        with torch.no_grad():\n",
    "            running_loss = 0.0\n",
    "            for batch_inputs, batch_labels, batch_weights in test_loader:\n",
    "                batch_inputs = batch_inputs.to(device)\n",
    "                batch_labels = batch_labels.to(device)\n",
    "                batch_weights = batch_weights.to(device)\n",
    "\n",
    "                outputs = model(batch_inputs)\n",
    "                loss = criterion(outputs, batch_labels, batch_weights)\n",
    "\n",
    "                running_loss += loss.item() * batch_inputs.size(0)\n",
    "\n",
    "            validation_loss = running_loss / len(test_loader.dataset)\n",
    "\n",
    "            print(\"Epoch {}: Train Loss = {:.4f}, Test Loss = {:.4f}\".format(epoch + 1, epoch_loss, validation_loss))\n",
    "\n",
    "            # Check for early stopping\n",
    "            if validation_loss < best_loss:\n",
    "                best_loss = validation_loss\n",
    "                best_model_weights = model.state_dict()\n",
    "                patience_counter = 0\n",
    "            else:\n",
    "                patience_counter += 1\n",
    "\n",
    "            if patience_counter >= early_stopping_patience:\n",
    "                print(\"Early stopping at epoch {}\".format(epoch))\n",
    "                break\n",
    "\n",
    "    return best_model_weights"
   ]
  },
  {
   "cell_type": "code",
   "execution_count": 13,
   "id": "d78978ce-f9ad-4e16-93fb-0a31c9436a07",
   "metadata": {},
   "outputs": [],
   "source": [
    "def reweight_fn(model, X_val):\n",
    "    # Move the model to CPU for evaluation\n",
    "    model = model.to(torch.device(\"cpu\"))\n",
    "\n",
    "    model.eval()\n",
    "    with torch.no_grad():\n",
    "        preds = model(torch.Tensor(X_val)).detach().numpy().ravel()\n",
    "        weights = preds / (1.0 - preds)\n",
    "    return weights"
   ]
  },
  {
   "cell_type": "code",
   "execution_count": 14,
   "id": "3b59c6be-1816-4111-ab71-d58fd3f04d26",
   "metadata": {},
   "outputs": [
    {
     "name": "stdout",
     "output_type": "stream",
     "text": [
      "Epoch 1: Train Loss = 0.6969, Test Loss = 0.6969\n",
      "Epoch 2: Train Loss = 0.6968, Test Loss = 0.6968\n",
      "Epoch 3: Train Loss = 0.6968, Test Loss = 0.6968\n",
      "Epoch 4: Train Loss = 0.6968, Test Loss = 0.6968\n",
      "Epoch 5: Train Loss = 0.6968, Test Loss = 0.6968\n",
      "Epoch 6: Train Loss = 0.6968, Test Loss = 0.6968\n",
      "Epoch 7: Train Loss = 0.6968, Test Loss = 0.6968\n",
      "Epoch 8: Train Loss = 0.6968, Test Loss = 0.6968\n",
      "Epoch 9: Train Loss = 0.6968, Test Loss = 0.6968\n",
      "Epoch 10: Train Loss = 0.6968, Test Loss = 0.6968\n",
      "Epoch 11: Train Loss = 0.6968, Test Loss = 0.6968\n",
      "Epoch 12: Train Loss = 0.6968, Test Loss = 0.6968\n",
      "Epoch 13: Train Loss = 0.6968, Test Loss = 0.6967\n",
      "Epoch 14: Train Loss = 0.6968, Test Loss = 0.6968\n",
      "Epoch 15: Train Loss = 0.6968, Test Loss = 0.6968\n",
      "Epoch 16: Train Loss = 0.6967, Test Loss = 0.6968\n",
      "Epoch 17: Train Loss = 0.6967, Test Loss = 0.6968\n",
      "Epoch 18: Train Loss = 0.6967, Test Loss = 0.6968\n",
      "Epoch 19: Train Loss = 0.6967, Test Loss = 0.6967\n",
      "Epoch 20: Train Loss = 0.6967, Test Loss = 0.6968\n",
      "Epoch 21: Train Loss = 0.6968, Test Loss = 0.6968\n",
      "Epoch 22: Train Loss = 0.6968, Test Loss = 0.6968\n",
      "Epoch 23: Train Loss = 0.6967, Test Loss = 0.6968\n",
      "Epoch 24: Train Loss = 0.6967, Test Loss = 0.6968\n",
      "Epoch 25: Train Loss = 0.6968, Test Loss = 0.6968\n",
      "Epoch 26: Train Loss = 0.6968, Test Loss = 0.6968\n",
      "Epoch 27: Train Loss = 0.6967, Test Loss = 0.6968\n",
      "Epoch 28: Train Loss = 0.6967, Test Loss = 0.6968\n",
      "Epoch 29: Train Loss = 0.6967, Test Loss = 0.6968\n",
      "Epoch 30: Train Loss = 0.6967, Test Loss = 0.6968\n",
      "Epoch 31: Train Loss = 0.6967, Test Loss = 0.6968\n",
      "Epoch 32: Train Loss = 0.6967, Test Loss = 0.6968\n",
      "Epoch 33: Train Loss = 0.6967, Test Loss = 0.6968\n",
      "Epoch 34: Train Loss = 0.6967, Test Loss = 0.6968\n",
      "Epoch 35: Train Loss = 0.6967, Test Loss = 0.6968\n",
      "Epoch 36: Train Loss = 0.6967, Test Loss = 0.6968\n",
      "Epoch 37: Train Loss = 0.6967, Test Loss = 0.6968\n",
      "Epoch 38: Train Loss = 0.6967, Test Loss = 0.6968\n",
      "Epoch 39: Train Loss = 0.6967, Test Loss = 0.6968\n",
      "Epoch 40: Train Loss = 0.6967, Test Loss = 0.6968\n",
      "Epoch 41: Train Loss = 0.6967, Test Loss = 0.6968\n",
      "Epoch 42: Train Loss = 0.6967, Test Loss = 0.6968\n",
      "Epoch 43: Train Loss = 0.6967, Test Loss = 0.6968\n",
      "Epoch 44: Train Loss = 0.6967, Test Loss = 0.6968\n",
      "Epoch 45: Train Loss = 0.6967, Test Loss = 0.6968\n",
      "Epoch 46: Train Loss = 0.6967, Test Loss = 0.6968\n",
      "Epoch 47: Train Loss = 0.6967, Test Loss = 0.6968\n",
      "Epoch 48: Train Loss = 0.6967, Test Loss = 0.6968\n",
      "Epoch 49: Train Loss = 0.6967, Test Loss = 0.6968\n",
      "Epoch 50: Train Loss = 0.6967, Test Loss = 0.6967\n",
      "Epoch 51: Train Loss = 0.6967, Test Loss = 0.6968\n",
      "Epoch 52: Train Loss = 0.6967, Test Loss = 0.6968\n",
      "Epoch 53: Train Loss = 0.6967, Test Loss = 0.6968\n",
      "Epoch 54: Train Loss = 0.6967, Test Loss = 0.6968\n",
      "Epoch 55: Train Loss = 0.6967, Test Loss = 0.6968\n",
      "Epoch 56: Train Loss = 0.6967, Test Loss = 0.6968\n",
      "Epoch 57: Train Loss = 0.6967, Test Loss = 0.6967\n",
      "Epoch 58: Train Loss = 0.6967, Test Loss = 0.6968\n",
      "Epoch 59: Train Loss = 0.6967, Test Loss = 0.6968\n",
      "Epoch 60: Train Loss = 0.6967, Test Loss = 0.6968\n",
      "Epoch 61: Train Loss = 0.6967, Test Loss = 0.6968\n",
      "Epoch 62: Train Loss = 0.6967, Test Loss = 0.6968\n",
      "Epoch 63: Train Loss = 0.6967, Test Loss = 0.6968\n",
      "Early stopping at epoch 62\n"
     ]
    },
    {
     "name": "stderr",
     "output_type": "stream",
     "text": [
      "Process ForkProcess-6:\n",
      "Process ForkProcess-5:\n",
      "Process ForkProcess-8:\n",
      "Process ForkProcess-1:\n",
      "Process ForkProcess-2:\n",
      "Process ForkProcess-4:\n",
      "Process ForkProcess-3:\n",
      "Process ForkProcess-7:\n",
      "Traceback (most recent call last):\n",
      "Traceback (most recent call last):\n",
      "Traceback (most recent call last):\n",
      "Traceback (most recent call last):\n",
      "Traceback (most recent call last):\n",
      "Traceback (most recent call last):\n",
      "Traceback (most recent call last):\n",
      "Traceback (most recent call last):\n",
      "  File \"/Users/dinupa/mambaforge/envs/pytorch2.0/lib/python3.10/multiprocessing/process.py\", line 314, in _bootstrap\n",
      "    self.run()\n",
      "  File \"/Users/dinupa/mambaforge/envs/pytorch2.0/lib/python3.10/multiprocessing/process.py\", line 314, in _bootstrap\n",
      "    self.run()\n",
      "  File \"/Users/dinupa/mambaforge/envs/pytorch2.0/lib/python3.10/multiprocessing/process.py\", line 314, in _bootstrap\n",
      "    self.run()\n",
      "  File \"/Users/dinupa/mambaforge/envs/pytorch2.0/lib/python3.10/multiprocessing/process.py\", line 314, in _bootstrap\n",
      "    self.run()\n",
      "  File \"/Users/dinupa/mambaforge/envs/pytorch2.0/lib/python3.10/multiprocessing/process.py\", line 314, in _bootstrap\n",
      "    self.run()\n",
      "  File \"/Users/dinupa/mambaforge/envs/pytorch2.0/lib/python3.10/multiprocessing/process.py\", line 314, in _bootstrap\n",
      "    self.run()\n",
      "  File \"/Users/dinupa/mambaforge/envs/pytorch2.0/lib/python3.10/multiprocessing/process.py\", line 314, in _bootstrap\n",
      "    self.run()\n",
      "  File \"/Users/dinupa/mambaforge/envs/pytorch2.0/lib/python3.10/multiprocessing/process.py\", line 314, in _bootstrap\n",
      "    self.run()\n",
      "  File \"/Users/dinupa/mambaforge/envs/pytorch2.0/lib/python3.10/multiprocessing/process.py\", line 108, in run\n",
      "    self._target(*self._args, **self._kwargs)\n",
      "  File \"/Users/dinupa/mambaforge/envs/pytorch2.0/lib/python3.10/multiprocessing/process.py\", line 108, in run\n",
      "    self._target(*self._args, **self._kwargs)\n",
      "  File \"/Users/dinupa/mambaforge/envs/pytorch2.0/lib/python3.10/multiprocessing/process.py\", line 108, in run\n",
      "    self._target(*self._args, **self._kwargs)\n",
      "  File \"/Users/dinupa/mambaforge/envs/pytorch2.0/lib/python3.10/multiprocessing/process.py\", line 108, in run\n",
      "    self._target(*self._args, **self._kwargs)\n",
      "  File \"/Users/dinupa/mambaforge/envs/pytorch2.0/lib/python3.10/multiprocessing/process.py\", line 108, in run\n",
      "    self._target(*self._args, **self._kwargs)\n",
      "  File \"/Users/dinupa/mambaforge/envs/pytorch2.0/lib/python3.10/multiprocessing/process.py\", line 108, in run\n",
      "    self._target(*self._args, **self._kwargs)\n",
      "  File \"/Users/dinupa/mambaforge/envs/pytorch2.0/lib/python3.10/multiprocessing/process.py\", line 108, in run\n",
      "    self._target(*self._args, **self._kwargs)\n",
      "  File \"/Users/dinupa/mambaforge/envs/pytorch2.0/lib/python3.10/multiprocessing/process.py\", line 108, in run\n",
      "    self._target(*self._args, **self._kwargs)\n",
      "  File \"/Users/dinupa/mambaforge/envs/pytorch2.0/lib/python3.10/concurrent/futures/process.py\", line 240, in _process_worker\n",
      "    call_item = call_queue.get(block=True)\n",
      "  File \"/Users/dinupa/mambaforge/envs/pytorch2.0/lib/python3.10/concurrent/futures/process.py\", line 240, in _process_worker\n",
      "    call_item = call_queue.get(block=True)\n",
      "  File \"/Users/dinupa/mambaforge/envs/pytorch2.0/lib/python3.10/concurrent/futures/process.py\", line 240, in _process_worker\n",
      "    call_item = call_queue.get(block=True)\n",
      "  File \"/Users/dinupa/mambaforge/envs/pytorch2.0/lib/python3.10/concurrent/futures/process.py\", line 240, in _process_worker\n",
      "    call_item = call_queue.get(block=True)\n",
      "  File \"/Users/dinupa/mambaforge/envs/pytorch2.0/lib/python3.10/concurrent/futures/process.py\", line 240, in _process_worker\n",
      "    call_item = call_queue.get(block=True)\n",
      "  File \"/Users/dinupa/mambaforge/envs/pytorch2.0/lib/python3.10/concurrent/futures/process.py\", line 240, in _process_worker\n",
      "    call_item = call_queue.get(block=True)\n",
      "  File \"/Users/dinupa/mambaforge/envs/pytorch2.0/lib/python3.10/concurrent/futures/process.py\", line 240, in _process_worker\n",
      "    call_item = call_queue.get(block=True)\n",
      "  File \"/Users/dinupa/mambaforge/envs/pytorch2.0/lib/python3.10/concurrent/futures/process.py\", line 240, in _process_worker\n",
      "    call_item = call_queue.get(block=True)\n",
      "  File \"/Users/dinupa/mambaforge/envs/pytorch2.0/lib/python3.10/multiprocessing/queues.py\", line 102, in get\n",
      "    with self._rlock:\n",
      "  File \"/Users/dinupa/mambaforge/envs/pytorch2.0/lib/python3.10/multiprocessing/queues.py\", line 102, in get\n",
      "    with self._rlock:\n",
      "  File \"/Users/dinupa/mambaforge/envs/pytorch2.0/lib/python3.10/multiprocessing/queues.py\", line 102, in get\n",
      "    with self._rlock:\n",
      "  File \"/Users/dinupa/mambaforge/envs/pytorch2.0/lib/python3.10/multiprocessing/queues.py\", line 102, in get\n",
      "    with self._rlock:\n",
      "  File \"/Users/dinupa/mambaforge/envs/pytorch2.0/lib/python3.10/multiprocessing/queues.py\", line 102, in get\n",
      "    with self._rlock:\n",
      "  File \"/Users/dinupa/mambaforge/envs/pytorch2.0/lib/python3.10/multiprocessing/queues.py\", line 102, in get\n",
      "    with self._rlock:\n",
      "  File \"/Users/dinupa/mambaforge/envs/pytorch2.0/lib/python3.10/multiprocessing/queues.py\", line 102, in get\n",
      "    with self._rlock:\n",
      "  File \"/Users/dinupa/mambaforge/envs/pytorch2.0/lib/python3.10/multiprocessing/queues.py\", line 103, in get\n",
      "    res = self._recv_bytes()\n",
      "  File \"/Users/dinupa/mambaforge/envs/pytorch2.0/lib/python3.10/multiprocessing/synchronize.py\", line 95, in __enter__\n",
      "    return self._semlock.__enter__()\n",
      "  File \"/Users/dinupa/mambaforge/envs/pytorch2.0/lib/python3.10/multiprocessing/synchronize.py\", line 95, in __enter__\n",
      "    return self._semlock.__enter__()\n",
      "  File \"/Users/dinupa/mambaforge/envs/pytorch2.0/lib/python3.10/multiprocessing/synchronize.py\", line 95, in __enter__\n",
      "    return self._semlock.__enter__()\n",
      "  File \"/Users/dinupa/mambaforge/envs/pytorch2.0/lib/python3.10/multiprocessing/synchronize.py\", line 95, in __enter__\n",
      "    return self._semlock.__enter__()\n",
      "  File \"/Users/dinupa/mambaforge/envs/pytorch2.0/lib/python3.10/multiprocessing/synchronize.py\", line 95, in __enter__\n",
      "    return self._semlock.__enter__()\n",
      "  File \"/Users/dinupa/mambaforge/envs/pytorch2.0/lib/python3.10/multiprocessing/synchronize.py\", line 95, in __enter__\n",
      "    return self._semlock.__enter__()\n",
      "  File \"/Users/dinupa/mambaforge/envs/pytorch2.0/lib/python3.10/multiprocessing/synchronize.py\", line 95, in __enter__\n",
      "    return self._semlock.__enter__()\n",
      "  File \"/Users/dinupa/mambaforge/envs/pytorch2.0/lib/python3.10/multiprocessing/connection.py\", line 216, in recv_bytes\n",
      "    buf = self._recv_bytes(maxlength)\n",
      "KeyboardInterrupt\n",
      "KeyboardInterrupt\n",
      "KeyboardInterrupt\n",
      "KeyboardInterrupt\n",
      "KeyboardInterrupt\n",
      "KeyboardInterrupt\n",
      "  File \"/Users/dinupa/mambaforge/envs/pytorch2.0/lib/python3.10/multiprocessing/connection.py\", line 414, in _recv_bytes\n",
      "    buf = self._recv(4)\n",
      "KeyboardInterrupt\n",
      "  File \"/Users/dinupa/mambaforge/envs/pytorch2.0/lib/python3.10/multiprocessing/connection.py\", line 379, in _recv\n",
      "    chunk = read(handle, remaining)\n",
      "KeyboardInterrupt\n"
     ]
    }
   ],
   "source": [
    "epochs = 2000\n",
    "early_stopping_patience = 50\n",
    "\n",
    "# Compile the train function\n",
    "opt_train = torch.compile(train_model, mode=\"max-autotune\")\n",
    "\n",
    "best_model_weights = opt_train(model, train_loader, test_loader, criterion, optimizer, device, epochs, early_stopping_patience)"
   ]
  },
  {
   "cell_type": "code",
   "execution_count": 15,
   "id": "70edcd5f-d9ab-4897-a94a-87878146def8",
   "metadata": {},
   "outputs": [],
   "source": [
    "# Load the best model weights\n",
    "model.load_state_dict(best_model_weights)\n",
    "\n",
    "X0 = np.array(X0)\n",
    "X1 = np.array(X1)\n",
    "weight0 = np.array(weight0)\n",
    "weight1 = np.array(weight1)\n",
    "\n",
    "weights = reweight_fn(model, torch.Tensor(X0))"
   ]
  },
  {
   "cell_type": "code",
   "execution_count": 16,
   "id": "9cacff98-4c5c-465a-9f6b-5c6ad16297ae",
   "metadata": {},
   "outputs": [
    {
     "name": "stdout",
     "output_type": "stream",
     "text": [
      "(30,)\n"
     ]
    },
    {
     "data": {
      "image/png": "[encoded data removed]",
      "text/plain": [
       "<Figure size 640x480 with 2 Axes>"
      ]
     },
     "metadata": {},
     "output_type": "display_data"
    }
   ],
   "source": [
    "bins = np.linspace(-np.pi, np.pi, 31)\n",
    "\n",
    "plot_hist(X0[:, 0], X1[:, 0], weight0=weight0, weight1=weight1, weights=weights, bins=bins)"
   ]
  },
  {
   "cell_type": "code",
   "execution_count": 17,
   "id": "6cb9621b-853e-4960-9f56-15e79c8b7e5a",
   "metadata": {},
   "outputs": [
    {
     "name": "stdout",
     "output_type": "stream",
     "text": [
      "(30,)\n"
     ]
    },
    {
     "data": {
      "image/png": "[encoded data removed]",
      "text/plain": [
       "<Figure size 640x480 with 2 Axes>"
      ]
     },
     "metadata": {},
     "output_type": "display_data"
    }
   ],
   "source": [
    "bins = np.linspace(-0.5, 0.5, 31)\n",
    "\n",
    "plot_hist(X0[:, 1], X1[:, 1], weight0=weight0, weight1=weight1, weights=weights, bins=bins)"
   ]
  },
  {
   "cell_type": "code",
   "execution_count": 18,
   "id": "742232a3-10ee-458d-81b4-7c87d007ddaa",
   "metadata": {},
   "outputs": [
    {
     "data": {
      "image/png": "[encoded data removed]",
      "text/plain": [
       "<Figure size 640x480 with 1 Axes>"
      ]
     },
     "metadata": {},
     "output_type": "display_data"
    }
   ],
   "source": [
    "bins = np.linspace(0.0, 2.0, 31)\n",
    "plt.hist(weight, bins=bins, alpha=0.5)\n",
    "plt.show()"
   ]
  },
  {
   "cell_type": "code",
   "execution_count": null,
   "id": "9ee93921-4e64-4bcb-b594-091e6b32a8a1",
   "metadata": {},
   "outputs": [],
   "source": []
  }
 ],
 "metadata": {
  "kernelspec": {
   "display_name": "Python 3 (ipykernel)",
   "language": "python",
   "name": "python3"
  },
  "language_info": {
   "codemirror_mode": {
    "name": "ipython",
    "version": 3
   },
   "file_extension": ".py",
   "mimetype": "text/x-python",
   "name": "python",
   "nbconvert_exporter": "python",
   "pygments_lexer": "ipython3",
   "version": "3.10.11"
  }
 },
 "nbformat": 4,
 "nbformat_minor": 5
}
