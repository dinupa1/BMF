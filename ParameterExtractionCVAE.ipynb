{
 "cells": [
  {
   "cell_type": "code",
   "execution_count": 1,
   "id": "3177ceb4-bd2a-45bb-9fcb-ad1c8568ffd6",
   "metadata": {
    "tags": []
   },
   "outputs": [],
   "source": [
    "import numpy as np\n",
    "import matplotlib.pyplot as plt\n",
    "\n",
    "import torch\n",
    "import torch.nn as nn\n",
    "import torch.optim as optim\n",
    "from torch.utils.data import DataLoader, TensorDataset\n",
    "\n",
    "import uproot\n",
    "import awkward as ak"
   ]
  },
  {
   "cell_type": "code",
   "execution_count": 2,
   "id": "ebfa742d-b19c-4735-8cde-80d1c4e84338",
   "metadata": {
    "tags": []
   },
   "outputs": [],
   "source": [
    "class ParamsCVAE(nn.Module):\n",
    "    def __init__(self, hidden_dim, latent_dim):\n",
    "        super(ParamsCVAE, self).__init__()\n",
    "        \n",
    "        # Encoder layers\n",
    "        self.fc_enoder = nn.Sequential(\n",
    "            nn.Linear(20*20+ 3+ 2, hidden_dim, bias=True), # xbin * ybin + param_dim + one_hot\n",
    "            nn.ReLu()\n",
    "        )\n",
    "        \n",
    "        # mu and logvar\n",
    "        self.fc_mu = nn.Linear(hidden_dim, latent_dim, bias=True)\n",
    "        self.fc_logvar = nn.Linear(hidden_dim, latent_dim, bias=True)\n",
    "        \n",
    "        # Decoder layers\n",
    "        self.fc_decoder = nn.Sequential(\n",
    "            nn.Linear(latent_dim+ 3+ 2, 20*20, bias=True), # latent_dim + params_dim + one_hot\n",
    "            nn.Sigmoid()\n",
    "        )\n",
    "        \n",
    "    def encode(self, x):\n",
    "        h = self.fc_encoder(x)\n",
    "        mu = self.fc_mu(h)\n",
    "        logvar = self.fc_logvar(h)\n",
    "        return mu, logvar\n",
    "        \n",
    "    def reparameterize(self, mu, logvar):\n",
    "        std = torch.exp(0.5*logvar)\n",
    "        eps = torch.randn_like(std)\n",
    "        return mu + eps*std\n",
    "        \n",
    "    def decode(self, z):\n",
    "        h = self.fc_decoder(z)\n",
    "        return h\n",
    "    \n",
    "    def forward(self, hist, params, labels):\n",
    "        x = hist.view(hist.size(0), -1)\n",
    "        # Combine image, params, labels\n",
    "        x = torch.cat((x, params, labels), dim=1)\n",
    "        mu, logvar = self.encode(x)\n",
    "        z = self.reparameterize(mu, logvar)\n",
    "        # Combine z, params, labes -> condition\n",
    "        z = torch.cat((z, params, labels), dim=1)\n",
    "        hist = self.decode(z)\n",
    "        return hist, mu, logvar"
   ]
  },
  {
   "cell_type": "code",
   "execution_count": null,
   "id": "db249c60-8be4-4d17-9f43-6dbe10af2819",
   "metadata": {},
   "outputs": [],
   "source": []
  }
 ],
 "metadata": {
  "kernelspec": {
   "display_name": "Python 3 (ipykernel)",
   "language": "python",
   "name": "python3"
  },
  "language_info": {
   "codemirror_mode": {
    "name": "ipython",
    "version": 3
   },
   "file_extension": ".py",
   "mimetype": "text/x-python",
   "name": "python",
   "nbconvert_exporter": "python",
   "pygments_lexer": "ipython3",
   "version": "3.10.12"
  }
 },
 "nbformat": 4,
 "nbformat_minor": 5
}
