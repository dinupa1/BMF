{
 "cells": [
  {
   "cell_type": "code",
   "execution_count": 1,
   "id": "e8519371-4e98-4118-8d89-b2c82126e499",
   "metadata": {},
   "outputs": [],
   "source": [
    "import numpy as np\n",
    "import matplotlib.pyplot as plt\n",
    "\n",
    "import torch\n",
    "import torch.nn as nn\n",
    "import torch.optim as optim\n",
    "from torch.optim.lr_scheduler import StepLR\n",
    "from torch.utils.data import DataLoader, TensorDataset\n",
    "\n",
    "from sklearn.model_selection import train_test_split\n",
    "from sklearn.utils import resample\n",
    "\n",
    "import h5py"
   ]
  },
  {
   "cell_type": "markdown",
   "id": "94148149-23bc-4e32-85c0-667e030712ba",
   "metadata": {},
   "source": [
    "# E906 Messy MC Data"
   ]
  },
  {
   "cell_type": "markdown",
   "id": "2fe69e0b-a82a-454e-a4c8-88614f4391cb",
   "metadata": {},
   "source": [
    "Let $\\beta_{0}$ and $\\beta_{1}$ define two distributions, $p(x|\\beta_{0})$ and $p(x|\\beta_{1})$ respectively. Then the likelihood ratio is defined by;\n",
    "$$\n",
    "\\mathcal{L}(x| \\beta_{0}, \\beta_{1}) =  \\frac{p(x|\\beta_{0})}{p(x|\\beta_{1})}\n",
    "$$\n",
    "\n",
    "A classifier function $f$, designed to distinguish samples drawn from $p(x|\\beta_{0})$ and $p(x|\\beta_{1})$, can be used to approximate likelihood ratios;\n",
    "\n",
    "$$\n",
    "\\mathcal{L}(x| \\beta_{0}, \\beta_{1}) =  \\frac{f(x, \\beta_{0}, \\beta_{1})}{1 - f(x, \\beta_{0}, \\beta_{1})}\n",
    "$$"
   ]
  },
  {
   "cell_type": "markdown",
   "id": "9323da59-6e4a-4a84-9c80-da4b58bd197c",
   "metadata": {},
   "source": [
    "Consider the cross-section of the Drell-Yan (DY) angular distribution;\n",
    "\n",
    "$$\n",
    "\\frac{d\\sigma}{d\\Omega} \\propto 1 + \\lambda \\cos^{2}\\theta + \\mu\\sin2\\theta\\cos\\phi + \\frac{\\nu}{2}\\sin^{2}\\theta\\cos2\\phi\n",
    "$$"
   ]
  },
  {
   "cell_type": "markdown",
   "id": "9d3d5efe-412e-4c6d-a306-80d443a58623",
   "metadata": {},
   "source": [
    "Our goal is to extract Drell-Yan (DY) angular coefficients, $\\lambda$, $\\mu$, and $\\nu$, using the likelihood ratio method. We aim to train a classifier (neural network) capable of classifying two samples. We sample $\\lambda$, $\\mu$, and $\\nu$ from uniform ranges: $\\lambda$ in $[-1, 1]$, $\\mu$ and $\\nu$ in $[-0.5, 0.5]$. We extract the bin center and bin content of $\\phi$ vs. $\\cos\\theta$ histograms as inputs and weights in the classifier and loss function. The two classes are defined as follows:\n",
    "\n",
    "```\n",
    "H0: (lambda=0, mu=0, nu=0, phi, costheta) with beta = (lambda, mu, nu) --> label = 0\n",
    "H1: (lambda, mu, nu, phi, costheta) with beta = (lambda, mu, nu) --> label = 1\n",
    "```\n",
    "\n",
    "Note that the class with label 0 has mismatching $\\beta$ values."
   ]
  },
  {
   "cell_type": "code",
   "execution_count": 2,
   "id": "4eb4f91d-1454-46c6-883c-7170cab2ef1e",
   "metadata": {},
   "outputs": [],
   "source": [
    "# save outputs\n",
    "save = h5py.File(\"fit.hdf5\", \"w\")"
   ]
  },
  {
   "cell_type": "code",
   "execution_count": null,
   "id": "fd080978-9cd2-4460-b6a4-8f142882d6c2",
   "metadata": {},
   "outputs": [],
   "source": [
    "# model used for likelihood learning\n",
    "class NetClassifier(nn.Module):\n",
    "    def __init__(self, input_dim: int=5, output_dim: int=1, hidden_dim: int=32):\n",
    "        super(NetClassifier, self).__init__()\n",
    "        self.fc1 = nn.Linear(input_dim, hidden_dim, bias=True)\n",
    "        self.fc2 = nn.Linear(hidden_dim, hidden_dim, bias=True)\n",
    "        self.fc3 = nn.Linear(hidden_dim, hidden_dim, bias=True)\n",
    "        self.fc4 = nn.Linear(hidden_dim, hidden_dim, bias=True)\n",
    "        self.fc5 = nn.Linear(hidden_dim, output_dim, bias=True)\n",
    "        self.relu = nn.ReLU()\n",
    "        self.sigmoid = nn.Sigmoid()\n",
    "\n",
    "    def forward(self, x):\n",
    "        x = self.relu(self.fc1(x))\n",
    "        x = self.relu(self.fc2(x))\n",
    "        x = self.relu(self.fc3(x))\n",
    "        x = self.relu(self.fc4(x))\n",
    "        x = self.sigmoid(self.fc5(x))\n",
    "        return x"
   ]
  }
 ],
 "metadata": {
  "kernelspec": {
   "display_name": "Python 3 (ipykernel)",
   "language": "python",
   "name": "python3"
  },
  "language_info": {
   "codemirror_mode": {
    "name": "ipython",
    "version": 3
   },
   "file_extension": ".py",
   "mimetype": "text/x-python",
   "name": "python",
   "nbconvert_exporter": "python",
   "pygments_lexer": "ipython3",
   "version": "3.11.7"
  }
 },
 "nbformat": 4,
 "nbformat_minor": 5
}
